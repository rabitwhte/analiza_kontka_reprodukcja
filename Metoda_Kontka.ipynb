{
 "cells": [
  {
   "cell_type": "code",
   "execution_count": 37,
   "id": "75049237",
   "metadata": {},
   "outputs": [],
   "source": [
    "import pandas as pd\n",
    "import numpy as np\n",
    "pd.set_option('display.max_columns', 100)"
   ]
  },
  {
   "cell_type": "code",
   "execution_count": 38,
   "id": "074b891c",
   "metadata": {},
   "outputs": [],
   "source": [
    "obwody = pd.read_csv('./obwody_glosowania_utf8.csv', sep=';')"
   ]
  },
  {
   "cell_type": "code",
   "execution_count": 39,
   "id": "38dd2d9b",
   "metadata": {},
   "outputs": [],
   "source": [
    "obwody = obwody[['Gmina','TERYT gminy','Numer', 'Kod pocztowy']]"
   ]
  },
  {
   "cell_type": "code",
   "execution_count": 40,
   "id": "08b3aec8",
   "metadata": {},
   "outputs": [],
   "source": [
    "obwody = obwody.dropna()"
   ]
  },
  {
   "cell_type": "code",
   "execution_count": 41,
   "id": "bbefb583",
   "metadata": {},
   "outputs": [
    {
     "data": {
      "text/html": [
       "<div>\n",
       "<style scoped>\n",
       "    .dataframe tbody tr th:only-of-type {\n",
       "        vertical-align: middle;\n",
       "    }\n",
       "\n",
       "    .dataframe tbody tr th {\n",
       "        vertical-align: top;\n",
       "    }\n",
       "\n",
       "    .dataframe thead th {\n",
       "        text-align: right;\n",
       "    }\n",
       "</style>\n",
       "<table border=\"1\" class=\"dataframe\">\n",
       "  <thead>\n",
       "    <tr style=\"text-align: right;\">\n",
       "      <th></th>\n",
       "      <th>Gmina</th>\n",
       "      <th>TERYT gminy</th>\n",
       "      <th>Numer</th>\n",
       "      <th>Kod pocztowy</th>\n",
       "    </tr>\n",
       "  </thead>\n",
       "  <tbody>\n",
       "    <tr>\n",
       "      <th>0</th>\n",
       "      <td>m. Bolesławiec</td>\n",
       "      <td>20101.0</td>\n",
       "      <td>1</td>\n",
       "      <td>59-700</td>\n",
       "    </tr>\n",
       "    <tr>\n",
       "      <th>1</th>\n",
       "      <td>m. Bolesławiec</td>\n",
       "      <td>20101.0</td>\n",
       "      <td>2</td>\n",
       "      <td>59-700</td>\n",
       "    </tr>\n",
       "  </tbody>\n",
       "</table>\n",
       "</div>"
      ],
      "text/plain": [
       "            Gmina  TERYT gminy  Numer Kod pocztowy\n",
       "0  m. Bolesławiec      20101.0      1       59-700\n",
       "1  m. Bolesławiec      20101.0      2       59-700"
      ]
     },
     "execution_count": 41,
     "metadata": {},
     "output_type": "execute_result"
    }
   ],
   "source": [
    "obwody.head(2)"
   ]
  },
  {
   "cell_type": "markdown",
   "id": "4cdf9594",
   "metadata": {},
   "source": [
    "# Klastrowanie\n",
    "\n",
    "Z artykułu:\n",
    "1. Początkowe grupowanie oparto na pierwszych dwóch cyfrach kodu pocztowego (np. „30” dla obszaru Krakowa).\n",
    "2. Jeżeli powstała grupa zawierała od 10 do 16 komisji, została zaakceptowana bez zmian.\n",
    "3. Grupy liczące mniej niż 10 komisji odłożono do późniejszego łączenia.\n",
    "4. Grupy przekraczające 16 komisji dzielono rekurencyjnie, dodając kolejne cyfry kodu\n",
    "    pocztowego (np. z „30” → „301” → „3011” i dalej, aż do pełnych pięciu cyfr).\n",
    "5. Pozostałe małe grupy łączono z najbliższymi sąsiadami mającymi ten sam prefiks, przy czym\n",
    "    priorytetem była ciągłość przestrzenna i zrównoważona liczebność grup.\n",
    "    W odróżnieniu od wcześniejszego podejścia, które dopuszczało grupy o wielkości 10–25 komisji,\n",
    "    niniejsze badanie przyjęło węższy zakres docelowy: od 10 do 16 komisji na grupę\n",
    "   \n",
    "   \n",
    "Komentarz: Algorytm z artykułu nie jest deterministyczny (niejednoznacznie wskazuje co się dzieje z grupami liczącymi mniej niż 10 komisji do ponownego połączenia) nie da się go więc odtworzyć na podstawie jego opisu. Dlatego właśnie rzetelne artykułu zawierają kod źródłowy umożliwiający reprodukcję."
   ]
  },
  {
   "cell_type": "code",
   "execution_count": 42,
   "id": "0c88e03e",
   "metadata": {},
   "outputs": [],
   "source": [
    "import pandas as pd\n",
    "from collections import defaultdict\n",
    "\n",
    "def assign_groups(df: pd.DataFrame,\n",
    "                  code_col: str = \"kod\",\n",
    "                  min_size: int = 10,\n",
    "                  max_size: int = 16,\n",
    ") -> pd.DataFrame:\n",
    "    \"\"\"\n",
    "    Zwraca kopię df z nową kolumną `group_id` zawierającą numer grupy\n",
    "    spełniającej warunki 10 ≤ n ≤ 16.\n",
    "    \"\"\"\n",
    "\n",
    "    # 0. Normalizacja kodu do stałej długości 5 znaków (str)\n",
    "    work = df.copy()\n",
    "    work[\"_code_str\"] = work[code_col].astype(str).str.zfill(5)\n",
    "\n",
    "    accepted = {}                # {prefix: list[index]}\n",
    "    small     = {}               # prefixy < min_size (do późniejszego łączenia)\n",
    "\n",
    "    # 1. Rekurencyjne dzielenie dużych grup\n",
    "    def split(prefix: str, idxs: list[int], depth: int):\n",
    "        size = len(idxs)\n",
    "\n",
    "        # a) gotowa grupa\n",
    "        if min_size <= size <= max_size or depth == 5:\n",
    "            accepted[prefix] = idxs\n",
    "            return\n",
    "        # b) za mała – zapisz do późniejszego łączenia\n",
    "        if size < min_size:\n",
    "            small[prefix] = idxs\n",
    "            return\n",
    "        # c) za duża – dziel głębiej\n",
    "        next_depth = depth + 1\n",
    "        sub_prefixes = work.loc[idxs, \"_code_str\"].str[:next_depth]\n",
    "        for sub_pref, sub_idxs in work.loc[idxs].groupby(sub_prefixes).groups.items():\n",
    "            split(sub_pref, list(sub_idxs), next_depth)\n",
    "\n",
    "    # start od 2-cyfrowych\n",
    "    for pref2, grp in work.groupby(work[\"_code_str\"].str[:2]).groups.items():\n",
    "        split(pref2, list(grp), depth=2)\n",
    "\n",
    "    # 2. Łączenie małych grup w obrębie tych samych 2-cyfrowych prefiksów\n",
    "    buckets = defaultdict(list)          # {pref2: [(pref, idxs), ...]}\n",
    "    for p, idxs in small.items():\n",
    "        buckets[p[:2]].append((p, idxs))\n",
    "\n",
    "    for pref2, lst in buckets.items():\n",
    "        # uporządkuj rosnąco wg wartości prefiksu → przybliżenie \"sąsiedztwa\"\n",
    "        lst.sort(key=lambda x: int(x[0]))\n",
    "        buf_idx, buf_pref = [], []\n",
    "\n",
    "        for p, idxs in lst:\n",
    "            buf_idx.extend(idxs)\n",
    "            buf_pref.append(p)\n",
    "\n",
    "            if len(buf_idx) >= min_size:\n",
    "                # jeśli przypadkiem > max_size, tnij w kawałki\n",
    "                while len(buf_idx) > max_size:\n",
    "                    accepted[f\"{pref2}_{len(accepted)}\"] = buf_idx[:max_size]\n",
    "                    buf_idx = buf_idx[max_size:]\n",
    "                accepted[\"+\".join(buf_pref)] = buf_idx\n",
    "                buf_idx, buf_pref = [], []\n",
    "\n",
    "        # resztka < 10 – dociągamy do ostatniej grupy z tego prefiksu\n",
    "        if buf_idx:\n",
    "            *_, last_key = [k for k in accepted.keys() if k.startswith(pref2)]\n",
    "            accepted[last_key].extend(buf_idx)\n",
    "\n",
    "    # 3. Ostateczne przypisanie numerów\n",
    "    idx2gid = {}\n",
    "    for gid, (_, lst) in enumerate(accepted.items()):\n",
    "        for i in lst:\n",
    "            idx2gid[i] = gid\n",
    "\n",
    "    work[\"group_id\"] = work.index.map(idx2gid)\n",
    "\n",
    "    return work.drop(columns=\"_code_str\")"
   ]
  },
  {
   "cell_type": "code",
   "execution_count": 43,
   "id": "815ddac2",
   "metadata": {},
   "outputs": [],
   "source": [
    "obwody['kod'] = obwody['Kod pocztowy'].str.replace('-','').astype(int) \n",
    "\n",
    "obwody = assign_groups(obwody, code_col='kod')"
   ]
  },
  {
   "cell_type": "markdown",
   "id": "be7c8bf2",
   "metadata": {},
   "source": [
    "Z artykułu:\n",
    "\n",
    "\"Większość grup spełniła założony docelowy rozmiar: 1 386 grup (62,8%) zawierało od 10 do 16\n",
    "komisji, a 2 017 grup (91,3%) zawierało od 6 do 30 komisji. Większe grupy zazwyczaj odpowiadały 5\n",
    "obszarom miejskim — na przykład takim jak Toruń czy Włocławek, gdzie pojedynczy kod pocztowy\n",
    "obejmował całe miasto\""
   ]
  },
  {
   "cell_type": "code",
   "execution_count": 44,
   "id": "0bb18b33",
   "metadata": {},
   "outputs": [
    {
     "data": {
      "text/plain": [
       "1223"
      ]
     },
     "execution_count": 44,
     "metadata": {},
     "output_type": "execute_result"
    }
   ],
   "source": [
    "# między 10 a 16\n",
    "sum((obwody['group_id'].value_counts()>=10) & (obwody['group_id'].value_counts()<=16))"
   ]
  },
  {
   "cell_type": "code",
   "execution_count": 45,
   "id": "2607f2ed",
   "metadata": {},
   "outputs": [
    {
     "data": {
      "text/plain": [
       "1925"
      ]
     },
     "execution_count": 45,
     "metadata": {},
     "output_type": "execute_result"
    }
   ],
   "source": [
    "# między 6 a 30\n",
    "sum((obwody['group_id'].value_counts()>=6) & (obwody['group_id'].value_counts()<=30))"
   ]
  },
  {
   "cell_type": "code",
   "execution_count": 46,
   "id": "da2947ba",
   "metadata": {},
   "outputs": [
    {
     "data": {
      "text/html": [
       "<div>\n",
       "<style scoped>\n",
       "    .dataframe tbody tr th:only-of-type {\n",
       "        vertical-align: middle;\n",
       "    }\n",
       "\n",
       "    .dataframe tbody tr th {\n",
       "        vertical-align: top;\n",
       "    }\n",
       "\n",
       "    .dataframe thead th {\n",
       "        text-align: right;\n",
       "    }\n",
       "</style>\n",
       "<table border=\"1\" class=\"dataframe\">\n",
       "  <thead>\n",
       "    <tr style=\"text-align: right;\">\n",
       "      <th></th>\n",
       "      <th>Gmina</th>\n",
       "      <th>TERYT gminy</th>\n",
       "      <th>Numer</th>\n",
       "      <th>Kod pocztowy</th>\n",
       "      <th>kod</th>\n",
       "      <th>group_id</th>\n",
       "    </tr>\n",
       "  </thead>\n",
       "  <tbody>\n",
       "    <tr>\n",
       "      <th>4100</th>\n",
       "      <td>m. Toruń</td>\n",
       "      <td>46301.0</td>\n",
       "      <td>1</td>\n",
       "      <td>87-100</td>\n",
       "      <td>87100</td>\n",
       "      <td>2150</td>\n",
       "    </tr>\n",
       "    <tr>\n",
       "      <th>4101</th>\n",
       "      <td>m. Toruń</td>\n",
       "      <td>46301.0</td>\n",
       "      <td>2</td>\n",
       "      <td>87-100</td>\n",
       "      <td>87100</td>\n",
       "      <td>2150</td>\n",
       "    </tr>\n",
       "    <tr>\n",
       "      <th>4102</th>\n",
       "      <td>m. Toruń</td>\n",
       "      <td>46301.0</td>\n",
       "      <td>3</td>\n",
       "      <td>87-100</td>\n",
       "      <td>87100</td>\n",
       "      <td>2150</td>\n",
       "    </tr>\n",
       "    <tr>\n",
       "      <th>4103</th>\n",
       "      <td>m. Toruń</td>\n",
       "      <td>46301.0</td>\n",
       "      <td>4</td>\n",
       "      <td>87-100</td>\n",
       "      <td>87100</td>\n",
       "      <td>2150</td>\n",
       "    </tr>\n",
       "    <tr>\n",
       "      <th>4104</th>\n",
       "      <td>m. Toruń</td>\n",
       "      <td>46301.0</td>\n",
       "      <td>5</td>\n",
       "      <td>87-100</td>\n",
       "      <td>87100</td>\n",
       "      <td>2150</td>\n",
       "    </tr>\n",
       "    <tr>\n",
       "      <th>...</th>\n",
       "      <td>...</td>\n",
       "      <td>...</td>\n",
       "      <td>...</td>\n",
       "      <td>...</td>\n",
       "      <td>...</td>\n",
       "      <td>...</td>\n",
       "    </tr>\n",
       "    <tr>\n",
       "      <th>4221</th>\n",
       "      <td>m. Toruń</td>\n",
       "      <td>46301.0</td>\n",
       "      <td>122</td>\n",
       "      <td>87-100</td>\n",
       "      <td>87100</td>\n",
       "      <td>2150</td>\n",
       "    </tr>\n",
       "    <tr>\n",
       "      <th>4222</th>\n",
       "      <td>m. Toruń</td>\n",
       "      <td>46301.0</td>\n",
       "      <td>123</td>\n",
       "      <td>87-100</td>\n",
       "      <td>87100</td>\n",
       "      <td>2150</td>\n",
       "    </tr>\n",
       "    <tr>\n",
       "      <th>4223</th>\n",
       "      <td>m. Toruń</td>\n",
       "      <td>46301.0</td>\n",
       "      <td>124</td>\n",
       "      <td>87-100</td>\n",
       "      <td>87100</td>\n",
       "      <td>2150</td>\n",
       "    </tr>\n",
       "    <tr>\n",
       "      <th>4224</th>\n",
       "      <td>m. Toruń</td>\n",
       "      <td>46301.0</td>\n",
       "      <td>125</td>\n",
       "      <td>87-100</td>\n",
       "      <td>87100</td>\n",
       "      <td>2150</td>\n",
       "    </tr>\n",
       "    <tr>\n",
       "      <th>4225</th>\n",
       "      <td>m. Toruń</td>\n",
       "      <td>46301.0</td>\n",
       "      <td>126</td>\n",
       "      <td>87-100</td>\n",
       "      <td>87100</td>\n",
       "      <td>2150</td>\n",
       "    </tr>\n",
       "  </tbody>\n",
       "</table>\n",
       "<p>126 rows × 6 columns</p>\n",
       "</div>"
      ],
      "text/plain": [
       "         Gmina  TERYT gminy  Numer Kod pocztowy    kod  group_id\n",
       "4100  m. Toruń      46301.0      1       87-100  87100      2150\n",
       "4101  m. Toruń      46301.0      2       87-100  87100      2150\n",
       "4102  m. Toruń      46301.0      3       87-100  87100      2150\n",
       "4103  m. Toruń      46301.0      4       87-100  87100      2150\n",
       "4104  m. Toruń      46301.0      5       87-100  87100      2150\n",
       "...        ...          ...    ...          ...    ...       ...\n",
       "4221  m. Toruń      46301.0    122       87-100  87100      2150\n",
       "4222  m. Toruń      46301.0    123       87-100  87100      2150\n",
       "4223  m. Toruń      46301.0    124       87-100  87100      2150\n",
       "4224  m. Toruń      46301.0    125       87-100  87100      2150\n",
       "4225  m. Toruń      46301.0    126       87-100  87100      2150\n",
       "\n",
       "[126 rows x 6 columns]"
      ]
     },
     "execution_count": 46,
     "metadata": {},
     "output_type": "execute_result"
    }
   ],
   "source": [
    "# duże grupy\n",
    "obwody[obwody['group_id']==2150]"
   ]
  },
  {
   "cell_type": "code",
   "execution_count": 47,
   "id": "99150ccd",
   "metadata": {},
   "outputs": [],
   "source": [
    "# usun grupy mniej niz 3-komisjowe\n",
    "obwody['liczba komisji w grupie']  = obwody.groupby('group_id').transform('count')['kod']\n",
    "obwody = obwody[obwody['liczba komisji w grupie']>3]"
   ]
  },
  {
   "cell_type": "code",
   "execution_count": 48,
   "id": "996551b4",
   "metadata": {},
   "outputs": [
    {
     "data": {
      "text/plain": [
       "30553"
      ]
     },
     "execution_count": 48,
     "metadata": {},
     "output_type": "execute_result"
    }
   ],
   "source": [
    "len(obwody)"
   ]
  },
  {
   "cell_type": "markdown",
   "id": "ceb176c4",
   "metadata": {},
   "source": [
    "# Wyniki głosowania"
   ]
  },
  {
   "cell_type": "code",
   "execution_count": 49,
   "id": "3f213631",
   "metadata": {},
   "outputs": [],
   "source": [
    "p = pd.read_csv('./protokoly_po_obwodach_utf8.csv', sep=';')\n",
    "d = pd.read_csv('./protokoly_po_obwodach_w_drugiej_turze_utf8.csv', sep=';')\n"
   ]
  },
  {
   "cell_type": "code",
   "execution_count": 50,
   "id": "582e9a4d",
   "metadata": {},
   "outputs": [],
   "source": [
    "keep = ['Teryt Gminy', 'Nr komisji', 'Gmina', 'TRZASKOWSKI Rafał Kazimierz', 'NAWROCKI Karol Tadeusz']"
   ]
  },
  {
   "cell_type": "code",
   "execution_count": 51,
   "id": "fd2c1796",
   "metadata": {},
   "outputs": [],
   "source": [
    "p = p[keep].dropna()\n",
    "d = d[keep].dropna()"
   ]
  },
  {
   "cell_type": "code",
   "execution_count": 52,
   "id": "6e949a6d",
   "metadata": {},
   "outputs": [
    {
     "data": {
      "text/html": [
       "<div>\n",
       "<style scoped>\n",
       "    .dataframe tbody tr th:only-of-type {\n",
       "        vertical-align: middle;\n",
       "    }\n",
       "\n",
       "    .dataframe tbody tr th {\n",
       "        vertical-align: top;\n",
       "    }\n",
       "\n",
       "    .dataframe thead th {\n",
       "        text-align: right;\n",
       "    }\n",
       "</style>\n",
       "<table border=\"1\" class=\"dataframe\">\n",
       "  <thead>\n",
       "    <tr style=\"text-align: right;\">\n",
       "      <th></th>\n",
       "      <th>Teryt Gminy</th>\n",
       "      <th>Nr komisji</th>\n",
       "      <th>Gmina</th>\n",
       "      <th>TRZASKOWSKI Rafał Kazimierz</th>\n",
       "      <th>NAWROCKI Karol Tadeusz</th>\n",
       "    </tr>\n",
       "  </thead>\n",
       "  <tbody>\n",
       "    <tr>\n",
       "      <th>0</th>\n",
       "      <td>20101.0</td>\n",
       "      <td>1</td>\n",
       "      <td>m. Bolesławiec</td>\n",
       "      <td>361.0</td>\n",
       "      <td>287.0</td>\n",
       "    </tr>\n",
       "    <tr>\n",
       "      <th>1</th>\n",
       "      <td>20101.0</td>\n",
       "      <td>2</td>\n",
       "      <td>m. Bolesławiec</td>\n",
       "      <td>381.0</td>\n",
       "      <td>228.0</td>\n",
       "    </tr>\n",
       "  </tbody>\n",
       "</table>\n",
       "</div>"
      ],
      "text/plain": [
       "   Teryt Gminy  Nr komisji           Gmina  TRZASKOWSKI Rafał Kazimierz  \\\n",
       "0      20101.0           1  m. Bolesławiec                        361.0   \n",
       "1      20101.0           2  m. Bolesławiec                        381.0   \n",
       "\n",
       "   NAWROCKI Karol Tadeusz  \n",
       "0                   287.0  \n",
       "1                   228.0  "
      ]
     },
     "execution_count": 52,
     "metadata": {},
     "output_type": "execute_result"
    }
   ],
   "source": [
    "p.head(2)"
   ]
  },
  {
   "cell_type": "code",
   "execution_count": 53,
   "id": "9b1dafb6",
   "metadata": {},
   "outputs": [],
   "source": [
    "# polacz 1 i 2 tura"
   ]
  },
  {
   "cell_type": "code",
   "execution_count": 54,
   "id": "99f0d4f8",
   "metadata": {},
   "outputs": [],
   "source": [
    "df = pd.merge(\n",
    "    left=p, \n",
    "    right=d,\n",
    "    how='left',\n",
    "    left_on=['Teryt Gminy', 'Nr komisji'],\n",
    "    right_on=['Teryt Gminy', 'Nr komisji'],\n",
    "    suffixes = ('_1', '_2')\n",
    ")"
   ]
  },
  {
   "cell_type": "code",
   "execution_count": 55,
   "id": "21a5b9ef",
   "metadata": {},
   "outputs": [],
   "source": [
    "# polacz z obwodami"
   ]
  },
  {
   "cell_type": "code",
   "execution_count": 56,
   "id": "b18fb7af",
   "metadata": {},
   "outputs": [],
   "source": [
    "df = pd.merge(\n",
    "    left=df, \n",
    "    right=obwody,\n",
    "    how='left',\n",
    "    left_on=['Teryt Gminy', 'Nr komisji'],\n",
    "    right_on=['TERYT gminy', 'Numer'],\n",
    ")\n"
   ]
  },
  {
   "cell_type": "code",
   "execution_count": 57,
   "id": "8f374f24",
   "metadata": {},
   "outputs": [],
   "source": [
    "from copy import copy\n",
    "df = copy(df.dropna())"
   ]
  },
  {
   "cell_type": "markdown",
   "id": "96eb9b53",
   "metadata": {},
   "source": [
    "# Reprodukcja Analizy z artykułu dla obu kandydatów"
   ]
  },
  {
   "cell_type": "markdown",
   "id": "b6564257",
   "metadata": {},
   "source": [
    "## 1. Nadmierne poparcie dla Karola Nawrockiego (względem mediany w ramach lokalnej grupy)"
   ]
  },
  {
   "cell_type": "code",
   "execution_count": 58,
   "id": "13144a40",
   "metadata": {},
   "outputs": [],
   "source": [
    "kandydat_A = \"TRZASKOWSKI Rafał Kazimierz\"\n",
    "kandydat_B = \"NAWROCKI Karol Tadeusz\""
   ]
  },
  {
   "cell_type": "code",
   "execution_count": 59,
   "id": "f20cfe96",
   "metadata": {},
   "outputs": [],
   "source": [
    "# mediana w grupie\n",
    "df[kandydat_A + '_mediana_2'] = df.groupby('group_id')[kandydat_A+'_2'].transform('median')\n",
    "df[kandydat_B + '_mediana_2'] = df.groupby('group_id')[kandydat_B+'_2'].transform('median')"
   ]
  },
  {
   "cell_type": "code",
   "execution_count": 60,
   "id": "852e394a",
   "metadata": {},
   "outputs": [],
   "source": [
    "# MAD w grupie\n",
    "from scipy.stats import median_abs_deviation\n",
    "def mad(series):\n",
    "    \"\"\"Median Absolute Deviation\"\"\"\n",
    "    return median_abs_deviation(series)\n",
    "\n",
    "df[kandydat_A + \"_MAD_2\"] = df.groupby(\"group_id\")[kandydat_A+'_2'].transform(mad)\n",
    "df[kandydat_B + \"_MAD_2\"] = df.groupby(\"group_id\")[kandydat_B+'_2'].transform(mad)"
   ]
  },
  {
   "cell_type": "code",
   "execution_count": 61,
   "id": "8a491c43",
   "metadata": {},
   "outputs": [],
   "source": [
    "# wspolczynnik k"
   ]
  },
  {
   "cell_type": "code",
   "execution_count": 62,
   "id": "2a47bd84",
   "metadata": {},
   "outputs": [],
   "source": [
    "df[kandydat_A +'_k_analiza_1'] = (df[kandydat_A +'_2'] - df[kandydat_A + '_mediana_2'])/df[kandydat_A + '_MAD_2']"
   ]
  },
  {
   "cell_type": "code",
   "execution_count": 63,
   "id": "f9925296",
   "metadata": {},
   "outputs": [],
   "source": [
    "df[kandydat_B +'_k_analiza_1'] = (df[kandydat_B +'_2'] - df[kandydat_B + '_mediana_2'])/df[kandydat_B + '_MAD_2']"
   ]
  },
  {
   "cell_type": "code",
   "execution_count": 64,
   "id": "d60a7184",
   "metadata": {},
   "outputs": [],
   "source": [
    "k = 3"
   ]
  },
  {
   "cell_type": "code",
   "execution_count": 65,
   "id": "b9c386ed",
   "metadata": {},
   "outputs": [
    {
     "data": {
      "text/plain": [
       "('TRZASKOWSKI Rafał Kazimierz', 2794)"
      ]
     },
     "execution_count": 65,
     "metadata": {},
     "output_type": "execute_result"
    }
   ],
   "source": [
    "kandydat_A, sum(df[kandydat_A +'_k_analiza_1']>k)"
   ]
  },
  {
   "cell_type": "code",
   "execution_count": 66,
   "id": "b43bea6b",
   "metadata": {},
   "outputs": [
    {
     "data": {
      "text/plain": [
       "('NAWROCKI Karol Tadeusz', 2015)"
      ]
     },
     "execution_count": 66,
     "metadata": {},
     "output_type": "execute_result"
    }
   ],
   "source": [
    "kandydat_B, sum(df[kandydat_B +'_k_analiza_1']>k)"
   ]
  },
  {
   "cell_type": "code",
   "execution_count": 67,
   "id": "98fa5156",
   "metadata": {},
   "outputs": [],
   "source": [
    "k = 2"
   ]
  },
  {
   "cell_type": "code",
   "execution_count": 68,
   "id": "12a50006",
   "metadata": {},
   "outputs": [
    {
     "data": {
      "text/plain": [
       "('TRZASKOWSKI Rafał Kazimierz', 4551)"
      ]
     },
     "execution_count": 68,
     "metadata": {},
     "output_type": "execute_result"
    }
   ],
   "source": [
    "kandydat_A, sum(df[kandydat_A +'_k_analiza_1']>k)"
   ]
  },
  {
   "cell_type": "code",
   "execution_count": 69,
   "id": "bc223d3f",
   "metadata": {},
   "outputs": [
    {
     "data": {
      "text/plain": [
       "('NAWROCKI Karol Tadeusz', 3750)"
      ]
     },
     "execution_count": 69,
     "metadata": {},
     "output_type": "execute_result"
    }
   ],
   "source": [
    "kandydat_B, sum(df[kandydat_B +'_k_analiza_1']>k)"
   ]
  },
  {
   "cell_type": "markdown",
   "id": "4e1b8f43",
   "metadata": {},
   "source": [
    "### Wynik:\n",
    "Dla k=2, takich grup, w których \"za duże\" poparcie ma Nawrocki jest 3750, a Trzaskowski 4551."
   ]
  },
  {
   "cell_type": "code",
   "execution_count": 128,
   "id": "b6bc166e",
   "metadata": {},
   "outputs": [],
   "source": [
    "# anomalia na korzyść\n",
    "df[kandydat_A + \"_anomalia_1\"] = df[kandydat_A +'_k_analiza_1']>2\n",
    "df[kandydat_B + \"_anomalia_1\"] = df[kandydat_B +'_k_analiza_1']>2"
   ]
  },
  {
   "cell_type": "markdown",
   "id": "a7c3672c",
   "metadata": {},
   "source": [
    "## 2. Nadmierny względny wzrost poparcia dla Karola Nawrockiego między pierwszą a drugą turą, w porównaniu do odpowiedniego wzrostu poparcia dla Rafała Trzaskowskiego w tej samej grupie lokalnej;\n"
   ]
  },
  {
   "cell_type": "code",
   "execution_count": 129,
   "id": "a37a8d80",
   "metadata": {},
   "outputs": [],
   "source": [
    "# wzgledny wzrost między pierwszą a drugą turą\n",
    "df[kandydat_A+ '_wzrost'] = df[kandydat_A+'_2']/df[kandydat_A+'_1']\n",
    "df[kandydat_B+ '_wzrost'] = df[kandydat_B+'_2']/df[kandydat_B+'_1']"
   ]
  },
  {
   "cell_type": "code",
   "execution_count": 130,
   "id": "50837294",
   "metadata": {},
   "outputs": [],
   "source": [
    "# roznica wzglednego roz_wzru miedzy kandydatami\n",
    "df['roz_wzr_' + kandydat_A] =  df[kandydat_A + '_wzrost']  - df[kandydat_B + '_wzrost'] \n",
    "df['roz_wzr_' + kandydat_B] =  df[kandydat_B + '_wzrost']  - df[kandydat_A + '_wzrost'] "
   ]
  },
  {
   "cell_type": "code",
   "execution_count": 131,
   "id": "1b64bed9",
   "metadata": {},
   "outputs": [],
   "source": [
    "# mediana i mad różnicy względnego wzrostu poparcia\n",
    "\n",
    "df['roz_wzr_' + kandydat_A +'_mediana'] = df.groupby('group_id')['roz_wzr_' + kandydat_A].transform('median')\n",
    "df['roz_wzr_' + kandydat_A + '_MAD'] =    df.groupby('group_id')['roz_wzr_' + kandydat_A].transform(mad)"
   ]
  },
  {
   "cell_type": "code",
   "execution_count": 132,
   "id": "b9e0fcf6",
   "metadata": {},
   "outputs": [],
   "source": [
    "df['roz_wzr_' + kandydat_B +'_mediana'] = df.groupby('group_id')['roz_wzr_' + kandydat_B].transform('median')\n",
    "df['roz_wzr_' + kandydat_B + '_MAD'] =    df.groupby('group_id')['roz_wzr_' + kandydat_B].transform(mad)"
   ]
  },
  {
   "cell_type": "code",
   "execution_count": 133,
   "id": "9f15947a",
   "metadata": {},
   "outputs": [],
   "source": [
    "df[kandydat_A +'_k_analiza_2'] = (df['roz_wzr_' + kandydat_A] - df['roz_wzr_' + kandydat_A +'_mediana'])/df['roz_wzr_' + kandydat_A + '_MAD']"
   ]
  },
  {
   "cell_type": "code",
   "execution_count": 134,
   "id": "e496813e",
   "metadata": {},
   "outputs": [],
   "source": [
    "df[kandydat_B +'_k_analiza_2'] = (df['roz_wzr_' + kandydat_B] - df['roz_wzr_' + kandydat_B +'_mediana'])/df['roz_wzr_' + kandydat_B + '_MAD']"
   ]
  },
  {
   "cell_type": "code",
   "execution_count": 135,
   "id": "86c173d3",
   "metadata": {},
   "outputs": [],
   "source": [
    "k = 3"
   ]
  },
  {
   "cell_type": "code",
   "execution_count": 136,
   "id": "2855a4e0",
   "metadata": {},
   "outputs": [
    {
     "data": {
      "text/plain": [
       "('TRZASKOWSKI Rafał Kazimierz', 2106)"
      ]
     },
     "execution_count": 136,
     "metadata": {},
     "output_type": "execute_result"
    }
   ],
   "source": [
    "kandydat_A, sum(df[kandydat_A +'_k_analiza_2']>k)"
   ]
  },
  {
   "cell_type": "code",
   "execution_count": 137,
   "id": "efaca676",
   "metadata": {},
   "outputs": [
    {
     "data": {
      "text/plain": [
       "('NAWROCKI Karol Tadeusz', 1669)"
      ]
     },
     "execution_count": 137,
     "metadata": {},
     "output_type": "execute_result"
    }
   ],
   "source": [
    "kandydat_B, sum(df[kandydat_B +'_k_analiza_2']>k)"
   ]
  },
  {
   "cell_type": "code",
   "execution_count": 138,
   "id": "d5d4ab5f",
   "metadata": {},
   "outputs": [],
   "source": [
    "k = 2"
   ]
  },
  {
   "cell_type": "code",
   "execution_count": 139,
   "id": "925be8d9",
   "metadata": {},
   "outputs": [
    {
     "data": {
      "text/plain": [
       "('TRZASKOWSKI Rafał Kazimierz', 3552)"
      ]
     },
     "execution_count": 139,
     "metadata": {},
     "output_type": "execute_result"
    }
   ],
   "source": [
    "kandydat_A, sum(df[kandydat_A +'_k_analiza_2']>k)"
   ]
  },
  {
   "cell_type": "code",
   "execution_count": 140,
   "id": "c420618e",
   "metadata": {},
   "outputs": [
    {
     "data": {
      "text/plain": [
       "('NAWROCKI Karol Tadeusz', 3127)"
      ]
     },
     "execution_count": 140,
     "metadata": {},
     "output_type": "execute_result"
    }
   ],
   "source": [
    "kandydat_B, sum(df[kandydat_B +'_k_analiza_2']>k)"
   ]
  },
  {
   "cell_type": "markdown",
   "id": "b2aae44e",
   "metadata": {},
   "source": [
    "\"Nadmierny\" względny wzrost poparcia dla Trzaskowskiego odnotowano w 3552 komisjach\n",
    "\"Nadmierny\" względny wzrost poparcia dla Nawrockiego odnotowano w 3127 komisjach"
   ]
  },
  {
   "cell_type": "code",
   "execution_count": 141,
   "id": "b667de46",
   "metadata": {},
   "outputs": [],
   "source": [
    "# anomalia na korzyść kandydata\n",
    "df[kandydat_A + \"_anomalia_2\"] = df[kandydat_A +'_k_analiza_2']>3\n",
    "df[kandydat_B + \"_anomalia_2\"] = df[kandydat_B +'_k_analiza_2']>3"
   ]
  },
  {
   "cell_type": "markdown",
   "id": "35ea136a",
   "metadata": {},
   "source": [
    "### 3 Komisje, w których Nawrocki uzyskał więcej głosów niż Trzaskowski w drugiej turze, mimo że mediana wyników w grupie wskazywała na przewagę Trzaskowskiego;"
   ]
  },
  {
   "cell_type": "code",
   "execution_count": 142,
   "id": "3426b5f9",
   "metadata": {},
   "outputs": [],
   "source": [
    "# wieksza mediana w grupie\n",
    "df['wieksza_mediana_' + kandydat_A] = (df[kandydat_A + '_mediana_2'] >  df[kandydat_B + '_mediana_2']).astype(bool)\n",
    "df['wieksza_mediana_' + kandydat_B] = (df[kandydat_B + '_mediana_2'] >  df[kandydat_A + '_mediana_2']).astype(bool)"
   ]
  },
  {
   "cell_type": "code",
   "execution_count": 143,
   "id": "570e2594",
   "metadata": {},
   "outputs": [],
   "source": [
    "df_wieksza_mediana_kandydat_A = df[df['wieksza_mediana_' + kandydat_A]]\n",
    "df_wieksza_mediana_kandydat_B = df[df['wieksza_mediana_' + kandydat_B]]"
   ]
  },
  {
   "cell_type": "code",
   "execution_count": 144,
   "id": "b1a90f34",
   "metadata": {},
   "outputs": [
    {
     "data": {
      "text/plain": [
       "('TRZASKOWSKI Rafał Kazimierz', 1843)"
      ]
     },
     "execution_count": 144,
     "metadata": {},
     "output_type": "execute_result"
    }
   ],
   "source": [
    "kandydat_A, sum(df_wieksza_mediana_kandydat_A[kandydat_B+'_2']>df_wieksza_mediana_kandydat_A[kandydat_A+'_2'])"
   ]
  },
  {
   "cell_type": "code",
   "execution_count": 145,
   "id": "5c2abf52",
   "metadata": {},
   "outputs": [
    {
     "data": {
      "text/plain": [
       "('NAWROCKI Karol Tadeusz', 2608)"
      ]
     },
     "execution_count": 145,
     "metadata": {},
     "output_type": "execute_result"
    }
   ],
   "source": [
    "kandydat_B, sum(df_wieksza_mediana_kandydat_B[kandydat_A+'_2']>df_wieksza_mediana_kandydat_B[kandydat_B+'_2'])"
   ]
  },
  {
   "cell_type": "markdown",
   "id": "857026ea",
   "metadata": {},
   "source": [
    "W grupach, w których większą medianę miał Trzaskowski, 1843 razy wyższy wyniki uzyskał Nawrocki.\n",
    "\n",
    "W grupach, w których większą medianę miał Nawrocki, 2608 razy wyższy wynik uzyskał Trzaskowski."
   ]
  },
  {
   "cell_type": "code",
   "execution_count": 146,
   "id": "ee6bfb3c",
   "metadata": {},
   "outputs": [],
   "source": [
    "# anomalie na korzysc\n",
    "df[kandydat_A + '_anomalia_3'] = df['wieksza_mediana_' + kandydat_B] & (df[kandydat_A + '_2'] > df[kandydat_B + '_2']) \n",
    "df[kandydat_B + '_anomalia_3'] = df['wieksza_mediana_' + kandydat_A] & (df[kandydat_B + '_2'] > df[kandydat_A + '_2']) \n"
   ]
  },
  {
   "cell_type": "markdown",
   "id": "2654a9f6",
   "metadata": {},
   "source": [
    "## 4. Kandydat otrzymał mniej głosów w drugiej turze niż w pierwszej"
   ]
  },
  {
   "cell_type": "code",
   "execution_count": 147,
   "id": "7ad39609",
   "metadata": {},
   "outputs": [
    {
     "data": {
      "text/plain": [
       "('TRZASKOWSKI Rafał Kazimierz', 128)"
      ]
     },
     "execution_count": 147,
     "metadata": {},
     "output_type": "execute_result"
    }
   ],
   "source": [
    "kandydat_A, sum(df[kandydat_A + '_2']<df[kandydat_A + '_1'])"
   ]
  },
  {
   "cell_type": "code",
   "execution_count": 148,
   "id": "d72dfd39",
   "metadata": {},
   "outputs": [
    {
     "data": {
      "text/plain": [
       "('NAWROCKI Karol Tadeusz', 112)"
      ]
     },
     "execution_count": 148,
     "metadata": {},
     "output_type": "execute_result"
    }
   ],
   "source": [
    "kandydat_B, sum(df[kandydat_B + '_2']<df[kandydat_B + '_1'])"
   ]
  },
  {
   "cell_type": "markdown",
   "id": "7aea2795",
   "metadata": {},
   "source": [
    "W 128 komisjach Trzaskowski uzyskał mniej głosów w drugiej turze niż w pierwszej.\n",
    "\n",
    "W 112 komisjach Nawrocki uzyskał mniej głosó w drugiej turze niż w pierwszej."
   ]
  },
  {
   "cell_type": "code",
   "execution_count": 149,
   "id": "3d952264",
   "metadata": {},
   "outputs": [],
   "source": [
    "# Anomalie na korzysc\n",
    "df[kandydat_A + '_anomalia_4'] = df[kandydat_B + '_2']<df[kandydat_B + '_1']\n",
    "df[kandydat_B + '_anomalia_4'] = df[kandydat_A + '_2']<df[kandydat_A + '_1']"
   ]
  },
  {
   "cell_type": "code",
   "execution_count": 150,
   "id": "6c3d80fe",
   "metadata": {},
   "outputs": [],
   "source": [
    "df[kandydat_A + '_razem_anomali_na_korzysc'] = df[[\n",
    "    kandydat_A + '_anomalia_1', \n",
    "    kandydat_A + '_anomalia_2',\n",
    "    kandydat_A + '_anomalia_3',\n",
    "    kandydat_A + '_anomalia_4']].sum(axis=1)"
   ]
  },
  {
   "cell_type": "code",
   "execution_count": 151,
   "id": "aafab0ce",
   "metadata": {},
   "outputs": [],
   "source": [
    "df[kandydat_B + '_razem_anomali_na_korzysc'] = df[[\n",
    "    kandydat_B + '_anomalia_1', \n",
    "    kandydat_B + '_anomalia_2',\n",
    "    kandydat_B + '_anomalia_3',\n",
    "    kandydat_B + '_anomalia_4']].sum(axis=1)"
   ]
  },
  {
   "cell_type": "code",
   "execution_count": 172,
   "id": "d63a3a77",
   "metadata": {},
   "outputs": [
    {
     "data": {
      "text/plain": [
       "('TRZASKOWSKI Rafał Kazimierz', 30553)"
      ]
     },
     "execution_count": 172,
     "metadata": {},
     "output_type": "execute_result"
    }
   ],
   "source": [
    "kandydat_A, sum(df[kandydat_A + '_razem_anomali_na_korzysc']>=0)"
   ]
  },
  {
   "cell_type": "code",
   "execution_count": 173,
   "id": "38accc20",
   "metadata": {},
   "outputs": [
    {
     "data": {
      "text/plain": [
       "('TRZASKOWSKI Rafał Kazimierz', 8161)"
      ]
     },
     "execution_count": 173,
     "metadata": {},
     "output_type": "execute_result"
    }
   ],
   "source": [
    "kandydat_A, sum(df[kandydat_A + '_razem_anomali_na_korzysc']>=1)"
   ]
  },
  {
   "cell_type": "code",
   "execution_count": 174,
   "id": "55fcdb05",
   "metadata": {},
   "outputs": [
    {
     "data": {
      "text/plain": [
       "('TRZASKOWSKI Rafał Kazimierz', 1179)"
      ]
     },
     "execution_count": 174,
     "metadata": {},
     "output_type": "execute_result"
    }
   ],
   "source": [
    "kandydat_A, sum(df[kandydat_A + '_razem_anomali_na_korzysc']>=2)"
   ]
  },
  {
   "cell_type": "code",
   "execution_count": 175,
   "id": "d2f44959",
   "metadata": {},
   "outputs": [
    {
     "data": {
      "text/plain": [
       "('TRZASKOWSKI Rafał Kazimierz', 34)"
      ]
     },
     "execution_count": 175,
     "metadata": {},
     "output_type": "execute_result"
    }
   ],
   "source": [
    "kandydat_A, sum(df[kandydat_A + '_razem_anomali_na_korzysc']>=3)"
   ]
  },
  {
   "cell_type": "code",
   "execution_count": 176,
   "id": "ec7f3d30",
   "metadata": {},
   "outputs": [
    {
     "data": {
      "text/html": [
       "<div>\n",
       "<style scoped>\n",
       "    .dataframe tbody tr th:only-of-type {\n",
       "        vertical-align: middle;\n",
       "    }\n",
       "\n",
       "    .dataframe tbody tr th {\n",
       "        vertical-align: top;\n",
       "    }\n",
       "\n",
       "    .dataframe thead th {\n",
       "        text-align: right;\n",
       "    }\n",
       "</style>\n",
       "<table border=\"1\" class=\"dataframe\">\n",
       "  <thead>\n",
       "    <tr style=\"text-align: right;\">\n",
       "      <th></th>\n",
       "      <th>Teryt Gminy</th>\n",
       "      <th>Nr komisji</th>\n",
       "      <th>Gmina_1</th>\n",
       "      <th>TRZASKOWSKI Rafał Kazimierz_1</th>\n",
       "      <th>NAWROCKI Karol Tadeusz_1</th>\n",
       "      <th>Gmina_2</th>\n",
       "      <th>TRZASKOWSKI Rafał Kazimierz_2</th>\n",
       "      <th>NAWROCKI Karol Tadeusz_2</th>\n",
       "      <th>Gmina</th>\n",
       "      <th>TERYT gminy</th>\n",
       "      <th>Numer</th>\n",
       "      <th>Kod pocztowy</th>\n",
       "      <th>kod</th>\n",
       "      <th>group_id</th>\n",
       "      <th>liczba komisji w grupie</th>\n",
       "      <th>TRZASKOWSKI Rafał Kazimierz_mediana_2</th>\n",
       "      <th>NAWROCKI Karol Tadeusz_mediana_2</th>\n",
       "      <th>TRZASKOWSKI Rafał Kazimierz_MAD_2</th>\n",
       "      <th>NAWROCKI Karol Tadeusz_MAD_2</th>\n",
       "      <th>TRZASKOWSKI Rafał Kazimierz_k_analiza_1</th>\n",
       "      <th>NAWROCKI Karol Tadeusz_k_analiza_1</th>\n",
       "      <th>TRZASKOWSKI Rafał Kazimierz_anomalia_1</th>\n",
       "      <th>NAWROCKI Karol Tadeusz_anomalia_1</th>\n",
       "      <th>TRZASKOWSKI Rafał Kazimierz_wzrost</th>\n",
       "      <th>NAWROCKI Karol Tadeusz_wzrost</th>\n",
       "      <th>roz_wzr_TRZASKOWSKI Rafał Kazimierz</th>\n",
       "      <th>roz_wzr_NAWROCKI Karol Tadeusz</th>\n",
       "      <th>roz_wzr_TRZASKOWSKI Rafał Kazimierz_mediana</th>\n",
       "      <th>roz_wzr_TRZASKOWSKI Rafał Kazimierz_MAD</th>\n",
       "      <th>roz_wzr_NAWROCKI Karol Tadeusz_mediana</th>\n",
       "      <th>roz_wzr_NAWROCKI Karol Tadeusz_MAD</th>\n",
       "      <th>TRZASKOWSKI Rafał Kazimierz_k_analiza_2</th>\n",
       "      <th>NAWROCKI Karol Tadeusz_k_analiza_2</th>\n",
       "      <th>TRZASKOWSKI Rafał Kazimierz_anomalia_2</th>\n",
       "      <th>NAWROCKI Karol Tadeusz_anomalia_2</th>\n",
       "      <th>wieksza_mediana_TRZASKOWSKI Rafał Kazimierz</th>\n",
       "      <th>wieksza_mediana_NAWROCKI Karol Tadeusz</th>\n",
       "      <th>TRZASKOWSKI Rafał Kazimierz_anomalia_3</th>\n",
       "      <th>NAWROCKI Karol Tadeusz_anomalia_3</th>\n",
       "      <th>TRZASKOWSKI Rafał Kazimierz_anomalia_4</th>\n",
       "      <th>NAWROCKI Karol Tadeusz_anomalia_4</th>\n",
       "      <th>TRZASKOWSKI Rafał Kazimierz_razem_anomali_na_korzysc</th>\n",
       "      <th>NAWROCKI Karol Tadeusz_razem_anomali_na_korzysc</th>\n",
       "    </tr>\n",
       "  </thead>\n",
       "  <tbody>\n",
       "    <tr>\n",
       "      <th>5098</th>\n",
       "      <td>60903.0</td>\n",
       "      <td>4</td>\n",
       "      <td>gm. Bychawa</td>\n",
       "      <td>89.0</td>\n",
       "      <td>174.0</td>\n",
       "      <td>gm. Bychawa</td>\n",
       "      <td>260.0</td>\n",
       "      <td>163.0</td>\n",
       "      <td>gm. Bychawa</td>\n",
       "      <td>60903.0</td>\n",
       "      <td>4.0</td>\n",
       "      <td>23-100</td>\n",
       "      <td>23100.0</td>\n",
       "      <td>522.0</td>\n",
       "      <td>20.0</td>\n",
       "      <td>64.0</td>\n",
       "      <td>203.5</td>\n",
       "      <td>33.5</td>\n",
       "      <td>68.0</td>\n",
       "      <td>5.850746</td>\n",
       "      <td>-0.595588</td>\n",
       "      <td>True</td>\n",
       "      <td>False</td>\n",
       "      <td>2.921348</td>\n",
       "      <td>0.936782</td>\n",
       "      <td>1.984567</td>\n",
       "      <td>-1.984567</td>\n",
       "      <td>0.283991</td>\n",
       "      <td>0.291965</td>\n",
       "      <td>-0.283991</td>\n",
       "      <td>0.291965</td>\n",
       "      <td>5.824589</td>\n",
       "      <td>-5.824589</td>\n",
       "      <td>True</td>\n",
       "      <td>False</td>\n",
       "      <td>False</td>\n",
       "      <td>True</td>\n",
       "      <td>True</td>\n",
       "      <td>False</td>\n",
       "      <td>True</td>\n",
       "      <td>False</td>\n",
       "      <td>4</td>\n",
       "      <td>0</td>\n",
       "    </tr>\n",
       "    <tr>\n",
       "      <th>12616</th>\n",
       "      <td>140706.0</td>\n",
       "      <td>1</td>\n",
       "      <td>gm. Magnuszew</td>\n",
       "      <td>105.0</td>\n",
       "      <td>285.0</td>\n",
       "      <td>gm. Magnuszew</td>\n",
       "      <td>467.0</td>\n",
       "      <td>193.0</td>\n",
       "      <td>gm. Magnuszew</td>\n",
       "      <td>140706.0</td>\n",
       "      <td>1.0</td>\n",
       "      <td>26-910</td>\n",
       "      <td>26910.0</td>\n",
       "      <td>630.0</td>\n",
       "      <td>10.0</td>\n",
       "      <td>102.0</td>\n",
       "      <td>221.0</td>\n",
       "      <td>42.5</td>\n",
       "      <td>36.5</td>\n",
       "      <td>8.588235</td>\n",
       "      <td>-0.767123</td>\n",
       "      <td>True</td>\n",
       "      <td>False</td>\n",
       "      <td>4.447619</td>\n",
       "      <td>0.677193</td>\n",
       "      <td>3.770426</td>\n",
       "      <td>-3.770426</td>\n",
       "      <td>0.106758</td>\n",
       "      <td>0.364758</td>\n",
       "      <td>-0.106758</td>\n",
       "      <td>0.364758</td>\n",
       "      <td>10.044104</td>\n",
       "      <td>-10.044104</td>\n",
       "      <td>True</td>\n",
       "      <td>False</td>\n",
       "      <td>False</td>\n",
       "      <td>True</td>\n",
       "      <td>True</td>\n",
       "      <td>False</td>\n",
       "      <td>True</td>\n",
       "      <td>False</td>\n",
       "      <td>4</td>\n",
       "      <td>0</td>\n",
       "    </tr>\n",
       "    <tr>\n",
       "      <th>25866</th>\n",
       "      <td>261207.0</td>\n",
       "      <td>4</td>\n",
       "      <td>gm. Staszów</td>\n",
       "      <td>143.0</td>\n",
       "      <td>224.0</td>\n",
       "      <td>gm. Staszów</td>\n",
       "      <td>360.0</td>\n",
       "      <td>209.0</td>\n",
       "      <td>gm. Staszów</td>\n",
       "      <td>261207.0</td>\n",
       "      <td>4.0</td>\n",
       "      <td>28-200</td>\n",
       "      <td>28200.0</td>\n",
       "      <td>662.0</td>\n",
       "      <td>29.0</td>\n",
       "      <td>123.0</td>\n",
       "      <td>294.0</td>\n",
       "      <td>97.0</td>\n",
       "      <td>57.0</td>\n",
       "      <td>2.443299</td>\n",
       "      <td>-1.491228</td>\n",
       "      <td>True</td>\n",
       "      <td>False</td>\n",
       "      <td>2.517483</td>\n",
       "      <td>0.933036</td>\n",
       "      <td>1.584447</td>\n",
       "      <td>-1.584447</td>\n",
       "      <td>0.020685</td>\n",
       "      <td>0.200502</td>\n",
       "      <td>-0.020685</td>\n",
       "      <td>0.200502</td>\n",
       "      <td>7.799246</td>\n",
       "      <td>-7.799246</td>\n",
       "      <td>True</td>\n",
       "      <td>False</td>\n",
       "      <td>False</td>\n",
       "      <td>True</td>\n",
       "      <td>True</td>\n",
       "      <td>False</td>\n",
       "      <td>True</td>\n",
       "      <td>False</td>\n",
       "      <td>4</td>\n",
       "      <td>0</td>\n",
       "    </tr>\n",
       "  </tbody>\n",
       "</table>\n",
       "</div>"
      ],
      "text/plain": [
       "       Teryt Gminy  Nr komisji        Gmina_1  TRZASKOWSKI Rafał Kazimierz_1  \\\n",
       "5098       60903.0           4    gm. Bychawa                           89.0   \n",
       "12616     140706.0           1  gm. Magnuszew                          105.0   \n",
       "25866     261207.0           4    gm. Staszów                          143.0   \n",
       "\n",
       "       NAWROCKI Karol Tadeusz_1        Gmina_2  TRZASKOWSKI Rafał Kazimierz_2  \\\n",
       "5098                      174.0    gm. Bychawa                          260.0   \n",
       "12616                     285.0  gm. Magnuszew                          467.0   \n",
       "25866                     224.0    gm. Staszów                          360.0   \n",
       "\n",
       "       NAWROCKI Karol Tadeusz_2          Gmina  TERYT gminy  Numer  \\\n",
       "5098                      163.0    gm. Bychawa      60903.0    4.0   \n",
       "12616                     193.0  gm. Magnuszew     140706.0    1.0   \n",
       "25866                     209.0    gm. Staszów     261207.0    4.0   \n",
       "\n",
       "      Kod pocztowy      kod  group_id  liczba komisji w grupie  \\\n",
       "5098        23-100  23100.0     522.0                     20.0   \n",
       "12616       26-910  26910.0     630.0                     10.0   \n",
       "25866       28-200  28200.0     662.0                     29.0   \n",
       "\n",
       "       TRZASKOWSKI Rafał Kazimierz_mediana_2  \\\n",
       "5098                                    64.0   \n",
       "12616                                  102.0   \n",
       "25866                                  123.0   \n",
       "\n",
       "       NAWROCKI Karol Tadeusz_mediana_2  TRZASKOWSKI Rafał Kazimierz_MAD_2  \\\n",
       "5098                              203.5                               33.5   \n",
       "12616                             221.0                               42.5   \n",
       "25866                             294.0                               97.0   \n",
       "\n",
       "       NAWROCKI Karol Tadeusz_MAD_2  TRZASKOWSKI Rafał Kazimierz_k_analiza_1  \\\n",
       "5098                           68.0                                 5.850746   \n",
       "12616                          36.5                                 8.588235   \n",
       "25866                          57.0                                 2.443299   \n",
       "\n",
       "       NAWROCKI Karol Tadeusz_k_analiza_1  \\\n",
       "5098                            -0.595588   \n",
       "12616                           -0.767123   \n",
       "25866                           -1.491228   \n",
       "\n",
       "       TRZASKOWSKI Rafał Kazimierz_anomalia_1  \\\n",
       "5098                                     True   \n",
       "12616                                    True   \n",
       "25866                                    True   \n",
       "\n",
       "       NAWROCKI Karol Tadeusz_anomalia_1  TRZASKOWSKI Rafał Kazimierz_wzrost  \\\n",
       "5098                               False                            2.921348   \n",
       "12616                              False                            4.447619   \n",
       "25866                              False                            2.517483   \n",
       "\n",
       "       NAWROCKI Karol Tadeusz_wzrost  roz_wzr_TRZASKOWSKI Rafał Kazimierz  \\\n",
       "5098                        0.936782                             1.984567   \n",
       "12616                       0.677193                             3.770426   \n",
       "25866                       0.933036                             1.584447   \n",
       "\n",
       "       roz_wzr_NAWROCKI Karol Tadeusz  \\\n",
       "5098                        -1.984567   \n",
       "12616                       -3.770426   \n",
       "25866                       -1.584447   \n",
       "\n",
       "       roz_wzr_TRZASKOWSKI Rafał Kazimierz_mediana  \\\n",
       "5098                                      0.283991   \n",
       "12616                                     0.106758   \n",
       "25866                                     0.020685   \n",
       "\n",
       "       roz_wzr_TRZASKOWSKI Rafał Kazimierz_MAD  \\\n",
       "5098                                  0.291965   \n",
       "12616                                 0.364758   \n",
       "25866                                 0.200502   \n",
       "\n",
       "       roz_wzr_NAWROCKI Karol Tadeusz_mediana  \\\n",
       "5098                                -0.283991   \n",
       "12616                               -0.106758   \n",
       "25866                               -0.020685   \n",
       "\n",
       "       roz_wzr_NAWROCKI Karol Tadeusz_MAD  \\\n",
       "5098                             0.291965   \n",
       "12616                            0.364758   \n",
       "25866                            0.200502   \n",
       "\n",
       "       TRZASKOWSKI Rafał Kazimierz_k_analiza_2  \\\n",
       "5098                                  5.824589   \n",
       "12616                                10.044104   \n",
       "25866                                 7.799246   \n",
       "\n",
       "       NAWROCKI Karol Tadeusz_k_analiza_2  \\\n",
       "5098                            -5.824589   \n",
       "12616                          -10.044104   \n",
       "25866                           -7.799246   \n",
       "\n",
       "       TRZASKOWSKI Rafał Kazimierz_anomalia_2  \\\n",
       "5098                                     True   \n",
       "12616                                    True   \n",
       "25866                                    True   \n",
       "\n",
       "       NAWROCKI Karol Tadeusz_anomalia_2  \\\n",
       "5098                               False   \n",
       "12616                              False   \n",
       "25866                              False   \n",
       "\n",
       "       wieksza_mediana_TRZASKOWSKI Rafał Kazimierz  \\\n",
       "5098                                         False   \n",
       "12616                                        False   \n",
       "25866                                        False   \n",
       "\n",
       "       wieksza_mediana_NAWROCKI Karol Tadeusz  \\\n",
       "5098                                     True   \n",
       "12616                                    True   \n",
       "25866                                    True   \n",
       "\n",
       "       TRZASKOWSKI Rafał Kazimierz_anomalia_3  \\\n",
       "5098                                     True   \n",
       "12616                                    True   \n",
       "25866                                    True   \n",
       "\n",
       "       NAWROCKI Karol Tadeusz_anomalia_3  \\\n",
       "5098                               False   \n",
       "12616                              False   \n",
       "25866                              False   \n",
       "\n",
       "       TRZASKOWSKI Rafał Kazimierz_anomalia_4  \\\n",
       "5098                                     True   \n",
       "12616                                    True   \n",
       "25866                                    True   \n",
       "\n",
       "       NAWROCKI Karol Tadeusz_anomalia_4  \\\n",
       "5098                               False   \n",
       "12616                              False   \n",
       "25866                              False   \n",
       "\n",
       "       TRZASKOWSKI Rafał Kazimierz_razem_anomali_na_korzysc  \\\n",
       "5098                                                   4      \n",
       "12616                                                  4      \n",
       "25866                                                  4      \n",
       "\n",
       "       NAWROCKI Karol Tadeusz_razem_anomali_na_korzysc  \n",
       "5098                                                 0  \n",
       "12616                                                0  \n",
       "25866                                                0  "
      ]
     },
     "execution_count": 176,
     "metadata": {},
     "output_type": "execute_result"
    }
   ],
   "source": [
    "df[df[kandydat_A + '_razem_anomali_na_korzysc']>3]"
   ]
  },
  {
   "cell_type": "code",
   "execution_count": null,
   "id": "08a205bb",
   "metadata": {},
   "outputs": [],
   "source": []
  },
  {
   "cell_type": "code",
   "execution_count": 177,
   "id": "3fe9adfb",
   "metadata": {},
   "outputs": [
    {
     "data": {
      "text/plain": [
       "('NAWROCKI Karol Tadeusz', 6871)"
      ]
     },
     "execution_count": 177,
     "metadata": {},
     "output_type": "execute_result"
    }
   ],
   "source": [
    "kandydat_B, sum(df[kandydat_B + '_razem_anomali_na_korzysc']>=1)"
   ]
  },
  {
   "cell_type": "code",
   "execution_count": 178,
   "id": "a8d5006f",
   "metadata": {},
   "outputs": [
    {
     "data": {
      "text/plain": [
       "('NAWROCKI Karol Tadeusz', 483)"
      ]
     },
     "execution_count": 178,
     "metadata": {},
     "output_type": "execute_result"
    }
   ],
   "source": [
    "kandydat_B, sum(df[kandydat_B + '_razem_anomali_na_korzysc']>=2)"
   ]
  },
  {
   "cell_type": "code",
   "execution_count": 179,
   "id": "e4e892a4",
   "metadata": {},
   "outputs": [
    {
     "data": {
      "text/plain": [
       "('NAWROCKI Karol Tadeusz', 34)"
      ]
     },
     "execution_count": 179,
     "metadata": {},
     "output_type": "execute_result"
    }
   ],
   "source": [
    "kandydat_B, sum(df[kandydat_B + '_razem_anomali_na_korzysc']>=3)"
   ]
  },
  {
   "cell_type": "code",
   "execution_count": 180,
   "id": "6939b472",
   "metadata": {},
   "outputs": [
    {
     "data": {
      "text/plain": [
       "('NAWROCKI Karol Tadeusz', 2)"
      ]
     },
     "execution_count": 180,
     "metadata": {},
     "output_type": "execute_result"
    }
   ],
   "source": [
    "kandydat_B, sum(df[kandydat_B + '_razem_anomali_na_korzysc']>=4)"
   ]
  },
  {
   "cell_type": "code",
   "execution_count": 181,
   "id": "ad0dc0d8",
   "metadata": {},
   "outputs": [
    {
     "data": {
      "text/html": [
       "<div>\n",
       "<style scoped>\n",
       "    .dataframe tbody tr th:only-of-type {\n",
       "        vertical-align: middle;\n",
       "    }\n",
       "\n",
       "    .dataframe tbody tr th {\n",
       "        vertical-align: top;\n",
       "    }\n",
       "\n",
       "    .dataframe thead th {\n",
       "        text-align: right;\n",
       "    }\n",
       "</style>\n",
       "<table border=\"1\" class=\"dataframe\">\n",
       "  <thead>\n",
       "    <tr style=\"text-align: right;\">\n",
       "      <th></th>\n",
       "      <th>Teryt Gminy</th>\n",
       "      <th>Nr komisji</th>\n",
       "      <th>Gmina_1</th>\n",
       "      <th>TRZASKOWSKI Rafał Kazimierz_1</th>\n",
       "      <th>NAWROCKI Karol Tadeusz_1</th>\n",
       "      <th>Gmina_2</th>\n",
       "      <th>TRZASKOWSKI Rafał Kazimierz_2</th>\n",
       "      <th>NAWROCKI Karol Tadeusz_2</th>\n",
       "      <th>Gmina</th>\n",
       "      <th>TERYT gminy</th>\n",
       "      <th>Numer</th>\n",
       "      <th>Kod pocztowy</th>\n",
       "      <th>kod</th>\n",
       "      <th>group_id</th>\n",
       "      <th>liczba komisji w grupie</th>\n",
       "      <th>TRZASKOWSKI Rafał Kazimierz_mediana_2</th>\n",
       "      <th>NAWROCKI Karol Tadeusz_mediana_2</th>\n",
       "      <th>TRZASKOWSKI Rafał Kazimierz_MAD_2</th>\n",
       "      <th>NAWROCKI Karol Tadeusz_MAD_2</th>\n",
       "      <th>TRZASKOWSKI Rafał Kazimierz_k_analiza_1</th>\n",
       "      <th>NAWROCKI Karol Tadeusz_k_analiza_1</th>\n",
       "      <th>TRZASKOWSKI Rafał Kazimierz_anomalia_1</th>\n",
       "      <th>NAWROCKI Karol Tadeusz_anomalia_1</th>\n",
       "      <th>TRZASKOWSKI Rafał Kazimierz_wzrost</th>\n",
       "      <th>NAWROCKI Karol Tadeusz_wzrost</th>\n",
       "      <th>roz_wzr_TRZASKOWSKI Rafał Kazimierz</th>\n",
       "      <th>roz_wzr_NAWROCKI Karol Tadeusz</th>\n",
       "      <th>roz_wzr_TRZASKOWSKI Rafał Kazimierz_mediana</th>\n",
       "      <th>roz_wzr_TRZASKOWSKI Rafał Kazimierz_MAD</th>\n",
       "      <th>roz_wzr_NAWROCKI Karol Tadeusz_mediana</th>\n",
       "      <th>roz_wzr_NAWROCKI Karol Tadeusz_MAD</th>\n",
       "      <th>TRZASKOWSKI Rafał Kazimierz_k_analiza_2</th>\n",
       "      <th>NAWROCKI Karol Tadeusz_k_analiza_2</th>\n",
       "      <th>TRZASKOWSKI Rafał Kazimierz_anomalia_2</th>\n",
       "      <th>NAWROCKI Karol Tadeusz_anomalia_2</th>\n",
       "      <th>wieksza_mediana_TRZASKOWSKI Rafał Kazimierz</th>\n",
       "      <th>wieksza_mediana_NAWROCKI Karol Tadeusz</th>\n",
       "      <th>TRZASKOWSKI Rafał Kazimierz_anomalia_3</th>\n",
       "      <th>NAWROCKI Karol Tadeusz_anomalia_3</th>\n",
       "      <th>TRZASKOWSKI Rafał Kazimierz_anomalia_4</th>\n",
       "      <th>NAWROCKI Karol Tadeusz_anomalia_4</th>\n",
       "      <th>TRZASKOWSKI Rafał Kazimierz_razem_anomali_na_korzysc</th>\n",
       "      <th>NAWROCKI Karol Tadeusz_razem_anomali_na_korzysc</th>\n",
       "    </tr>\n",
       "  </thead>\n",
       "  <tbody>\n",
       "    <tr>\n",
       "      <th>21</th>\n",
       "      <td>20101.0</td>\n",
       "      <td>22</td>\n",
       "      <td>m. Bolesławiec</td>\n",
       "      <td>29.0</td>\n",
       "      <td>16.0</td>\n",
       "      <td>m. Bolesławiec</td>\n",
       "      <td>39.0</td>\n",
       "      <td>55.0</td>\n",
       "      <td>m. Bolesławiec</td>\n",
       "      <td>20101.0</td>\n",
       "      <td>22.0</td>\n",
       "      <td>59-700</td>\n",
       "      <td>59700.0</td>\n",
       "      <td>1567.0</td>\n",
       "      <td>44.0</td>\n",
       "      <td>338.0</td>\n",
       "      <td>299.5</td>\n",
       "      <td>216.5</td>\n",
       "      <td>96.0</td>\n",
       "      <td>-1.381062</td>\n",
       "      <td>-2.546875</td>\n",
       "      <td>False</td>\n",
       "      <td>False</td>\n",
       "      <td>1.344828</td>\n",
       "      <td>3.437500</td>\n",
       "      <td>-2.092672</td>\n",
       "      <td>2.092672</td>\n",
       "      <td>-0.332329</td>\n",
       "      <td>0.165683</td>\n",
       "      <td>0.332329</td>\n",
       "      <td>0.165683</td>\n",
       "      <td>-10.624797</td>\n",
       "      <td>10.624797</td>\n",
       "      <td>False</td>\n",
       "      <td>True</td>\n",
       "      <td>True</td>\n",
       "      <td>False</td>\n",
       "      <td>False</td>\n",
       "      <td>True</td>\n",
       "      <td>False</td>\n",
       "      <td>False</td>\n",
       "      <td>0</td>\n",
       "      <td>2</td>\n",
       "    </tr>\n",
       "    <tr>\n",
       "      <th>66</th>\n",
       "      <td>20105.0</td>\n",
       "      <td>2</td>\n",
       "      <td>gm. Osiecznica</td>\n",
       "      <td>251.0</td>\n",
       "      <td>185.0</td>\n",
       "      <td>gm. Osiecznica</td>\n",
       "      <td>391.0</td>\n",
       "      <td>397.0</td>\n",
       "      <td>gm. Osiecznica</td>\n",
       "      <td>20105.0</td>\n",
       "      <td>2.0</td>\n",
       "      <td>59-724</td>\n",
       "      <td>59724.0</td>\n",
       "      <td>1570.0</td>\n",
       "      <td>6.0</td>\n",
       "      <td>160.5</td>\n",
       "      <td>200.5</td>\n",
       "      <td>40.0</td>\n",
       "      <td>91.0</td>\n",
       "      <td>5.762500</td>\n",
       "      <td>2.159341</td>\n",
       "      <td>True</td>\n",
       "      <td>True</td>\n",
       "      <td>1.557769</td>\n",
       "      <td>2.145946</td>\n",
       "      <td>-0.588177</td>\n",
       "      <td>0.588177</td>\n",
       "      <td>-0.258934</td>\n",
       "      <td>0.106199</td>\n",
       "      <td>0.258934</td>\n",
       "      <td>0.106199</td>\n",
       "      <td>-3.100238</td>\n",
       "      <td>3.100238</td>\n",
       "      <td>False</td>\n",
       "      <td>True</td>\n",
       "      <td>False</td>\n",
       "      <td>True</td>\n",
       "      <td>False</td>\n",
       "      <td>False</td>\n",
       "      <td>False</td>\n",
       "      <td>False</td>\n",
       "      <td>1</td>\n",
       "      <td>2</td>\n",
       "    </tr>\n",
       "    <tr>\n",
       "      <th>82</th>\n",
       "      <td>20201.0</td>\n",
       "      <td>1</td>\n",
       "      <td>m. Bielawa</td>\n",
       "      <td>199.0</td>\n",
       "      <td>186.0</td>\n",
       "      <td>m. Bielawa</td>\n",
       "      <td>303.0</td>\n",
       "      <td>362.0</td>\n",
       "      <td>m. Bielawa</td>\n",
       "      <td>20201.0</td>\n",
       "      <td>1.0</td>\n",
       "      <td>58-260</td>\n",
       "      <td>58260.0</td>\n",
       "      <td>1520.0</td>\n",
       "      <td>22.0</td>\n",
       "      <td>334.5</td>\n",
       "      <td>293.0</td>\n",
       "      <td>49.0</td>\n",
       "      <td>26.5</td>\n",
       "      <td>-0.642857</td>\n",
       "      <td>2.603774</td>\n",
       "      <td>False</td>\n",
       "      <td>True</td>\n",
       "      <td>1.522613</td>\n",
       "      <td>1.946237</td>\n",
       "      <td>-0.423623</td>\n",
       "      <td>0.423623</td>\n",
       "      <td>-0.253600</td>\n",
       "      <td>0.111558</td>\n",
       "      <td>0.253600</td>\n",
       "      <td>0.111558</td>\n",
       "      <td>-1.524080</td>\n",
       "      <td>1.524080</td>\n",
       "      <td>False</td>\n",
       "      <td>False</td>\n",
       "      <td>True</td>\n",
       "      <td>False</td>\n",
       "      <td>False</td>\n",
       "      <td>True</td>\n",
       "      <td>False</td>\n",
       "      <td>False</td>\n",
       "      <td>0</td>\n",
       "      <td>2</td>\n",
       "    </tr>\n",
       "    <tr>\n",
       "      <th>83</th>\n",
       "      <td>20201.0</td>\n",
       "      <td>2</td>\n",
       "      <td>m. Bielawa</td>\n",
       "      <td>225.0</td>\n",
       "      <td>174.0</td>\n",
       "      <td>m. Bielawa</td>\n",
       "      <td>384.0</td>\n",
       "      <td>389.0</td>\n",
       "      <td>m. Bielawa</td>\n",
       "      <td>20201.0</td>\n",
       "      <td>2.0</td>\n",
       "      <td>58-260</td>\n",
       "      <td>58260.0</td>\n",
       "      <td>1520.0</td>\n",
       "      <td>22.0</td>\n",
       "      <td>334.5</td>\n",
       "      <td>293.0</td>\n",
       "      <td>49.0</td>\n",
       "      <td>26.5</td>\n",
       "      <td>1.010204</td>\n",
       "      <td>3.622642</td>\n",
       "      <td>False</td>\n",
       "      <td>True</td>\n",
       "      <td>1.706667</td>\n",
       "      <td>2.235632</td>\n",
       "      <td>-0.528966</td>\n",
       "      <td>0.528966</td>\n",
       "      <td>-0.253600</td>\n",
       "      <td>0.111558</td>\n",
       "      <td>0.253600</td>\n",
       "      <td>0.111558</td>\n",
       "      <td>-2.468360</td>\n",
       "      <td>2.468360</td>\n",
       "      <td>False</td>\n",
       "      <td>False</td>\n",
       "      <td>True</td>\n",
       "      <td>False</td>\n",
       "      <td>False</td>\n",
       "      <td>True</td>\n",
       "      <td>False</td>\n",
       "      <td>False</td>\n",
       "      <td>0</td>\n",
       "      <td>2</td>\n",
       "    </tr>\n",
       "    <tr>\n",
       "      <th>173</th>\n",
       "      <td>20301.0</td>\n",
       "      <td>1</td>\n",
       "      <td>m. Głogów</td>\n",
       "      <td>614.0</td>\n",
       "      <td>296.0</td>\n",
       "      <td>m. Głogów</td>\n",
       "      <td>1020.0</td>\n",
       "      <td>681.0</td>\n",
       "      <td>m. Głogów</td>\n",
       "      <td>20301.0</td>\n",
       "      <td>1.0</td>\n",
       "      <td>67-200</td>\n",
       "      <td>67200.0</td>\n",
       "      <td>1829.0</td>\n",
       "      <td>37.0</td>\n",
       "      <td>473.0</td>\n",
       "      <td>421.0</td>\n",
       "      <td>104.0</td>\n",
       "      <td>102.0</td>\n",
       "      <td>5.259615</td>\n",
       "      <td>2.549020</td>\n",
       "      <td>True</td>\n",
       "      <td>True</td>\n",
       "      <td>1.661238</td>\n",
       "      <td>2.300676</td>\n",
       "      <td>-0.639438</td>\n",
       "      <td>0.639438</td>\n",
       "      <td>-0.197104</td>\n",
       "      <td>0.098151</td>\n",
       "      <td>0.197104</td>\n",
       "      <td>0.098151</td>\n",
       "      <td>-4.506645</td>\n",
       "      <td>4.506645</td>\n",
       "      <td>False</td>\n",
       "      <td>True</td>\n",
       "      <td>True</td>\n",
       "      <td>False</td>\n",
       "      <td>False</td>\n",
       "      <td>False</td>\n",
       "      <td>False</td>\n",
       "      <td>False</td>\n",
       "      <td>1</td>\n",
       "      <td>2</td>\n",
       "    </tr>\n",
       "    <tr>\n",
       "      <th>...</th>\n",
       "      <td>...</td>\n",
       "      <td>...</td>\n",
       "      <td>...</td>\n",
       "      <td>...</td>\n",
       "      <td>...</td>\n",
       "      <td>...</td>\n",
       "      <td>...</td>\n",
       "      <td>...</td>\n",
       "      <td>...</td>\n",
       "      <td>...</td>\n",
       "      <td>...</td>\n",
       "      <td>...</td>\n",
       "      <td>...</td>\n",
       "      <td>...</td>\n",
       "      <td>...</td>\n",
       "      <td>...</td>\n",
       "      <td>...</td>\n",
       "      <td>...</td>\n",
       "      <td>...</td>\n",
       "      <td>...</td>\n",
       "      <td>...</td>\n",
       "      <td>...</td>\n",
       "      <td>...</td>\n",
       "      <td>...</td>\n",
       "      <td>...</td>\n",
       "      <td>...</td>\n",
       "      <td>...</td>\n",
       "      <td>...</td>\n",
       "      <td>...</td>\n",
       "      <td>...</td>\n",
       "      <td>...</td>\n",
       "      <td>...</td>\n",
       "      <td>...</td>\n",
       "      <td>...</td>\n",
       "      <td>...</td>\n",
       "      <td>...</td>\n",
       "      <td>...</td>\n",
       "      <td>...</td>\n",
       "      <td>...</td>\n",
       "      <td>...</td>\n",
       "      <td>...</td>\n",
       "      <td>...</td>\n",
       "      <td>...</td>\n",
       "    </tr>\n",
       "    <tr>\n",
       "      <th>30941</th>\n",
       "      <td>321205.0</td>\n",
       "      <td>3</td>\n",
       "      <td>gm. Pyrzyce</td>\n",
       "      <td>466.0</td>\n",
       "      <td>421.0</td>\n",
       "      <td>gm. Pyrzyce</td>\n",
       "      <td>669.0</td>\n",
       "      <td>749.0</td>\n",
       "      <td>gm. Pyrzyce</td>\n",
       "      <td>321205.0</td>\n",
       "      <td>3.0</td>\n",
       "      <td>74-200</td>\n",
       "      <td>74200.0</td>\n",
       "      <td>1909.0</td>\n",
       "      <td>11.0</td>\n",
       "      <td>404.0</td>\n",
       "      <td>354.0</td>\n",
       "      <td>94.0</td>\n",
       "      <td>127.0</td>\n",
       "      <td>2.819149</td>\n",
       "      <td>3.110236</td>\n",
       "      <td>True</td>\n",
       "      <td>True</td>\n",
       "      <td>1.435622</td>\n",
       "      <td>1.779097</td>\n",
       "      <td>-0.343475</td>\n",
       "      <td>0.343475</td>\n",
       "      <td>-0.155655</td>\n",
       "      <td>0.181037</td>\n",
       "      <td>0.155655</td>\n",
       "      <td>0.181037</td>\n",
       "      <td>-1.037467</td>\n",
       "      <td>1.037467</td>\n",
       "      <td>False</td>\n",
       "      <td>False</td>\n",
       "      <td>True</td>\n",
       "      <td>False</td>\n",
       "      <td>False</td>\n",
       "      <td>True</td>\n",
       "      <td>False</td>\n",
       "      <td>False</td>\n",
       "      <td>1</td>\n",
       "      <td>2</td>\n",
       "    </tr>\n",
       "    <tr>\n",
       "      <th>30946</th>\n",
       "      <td>321205.0</td>\n",
       "      <td>8</td>\n",
       "      <td>gm. Pyrzyce</td>\n",
       "      <td>260.0</td>\n",
       "      <td>341.0</td>\n",
       "      <td>gm. Pyrzyce</td>\n",
       "      <td>432.0</td>\n",
       "      <td>676.0</td>\n",
       "      <td>gm. Pyrzyce</td>\n",
       "      <td>321205.0</td>\n",
       "      <td>8.0</td>\n",
       "      <td>74-200</td>\n",
       "      <td>74200.0</td>\n",
       "      <td>1909.0</td>\n",
       "      <td>11.0</td>\n",
       "      <td>404.0</td>\n",
       "      <td>354.0</td>\n",
       "      <td>94.0</td>\n",
       "      <td>127.0</td>\n",
       "      <td>0.297872</td>\n",
       "      <td>2.535433</td>\n",
       "      <td>False</td>\n",
       "      <td>True</td>\n",
       "      <td>1.661538</td>\n",
       "      <td>1.982405</td>\n",
       "      <td>-0.320866</td>\n",
       "      <td>0.320866</td>\n",
       "      <td>-0.155655</td>\n",
       "      <td>0.181037</td>\n",
       "      <td>0.155655</td>\n",
       "      <td>0.181037</td>\n",
       "      <td>-0.912582</td>\n",
       "      <td>0.912582</td>\n",
       "      <td>False</td>\n",
       "      <td>False</td>\n",
       "      <td>True</td>\n",
       "      <td>False</td>\n",
       "      <td>False</td>\n",
       "      <td>True</td>\n",
       "      <td>False</td>\n",
       "      <td>False</td>\n",
       "      <td>0</td>\n",
       "      <td>2</td>\n",
       "    </tr>\n",
       "    <tr>\n",
       "      <th>31312</th>\n",
       "      <td>321802.0</td>\n",
       "      <td>8</td>\n",
       "      <td>gm. Łobez</td>\n",
       "      <td>117.0</td>\n",
       "      <td>106.0</td>\n",
       "      <td>gm. Łobez</td>\n",
       "      <td>183.0</td>\n",
       "      <td>202.0</td>\n",
       "      <td>gm. Łobez</td>\n",
       "      <td>321802.0</td>\n",
       "      <td>8.0</td>\n",
       "      <td>73-150</td>\n",
       "      <td>73150.0</td>\n",
       "      <td>1900.0</td>\n",
       "      <td>11.0</td>\n",
       "      <td>230.0</td>\n",
       "      <td>184.0</td>\n",
       "      <td>80.0</td>\n",
       "      <td>35.0</td>\n",
       "      <td>-0.587500</td>\n",
       "      <td>0.514286</td>\n",
       "      <td>False</td>\n",
       "      <td>False</td>\n",
       "      <td>1.564103</td>\n",
       "      <td>1.905660</td>\n",
       "      <td>-0.341558</td>\n",
       "      <td>0.341558</td>\n",
       "      <td>-0.179690</td>\n",
       "      <td>0.051512</td>\n",
       "      <td>0.179690</td>\n",
       "      <td>0.051512</td>\n",
       "      <td>-3.142348</td>\n",
       "      <td>3.142348</td>\n",
       "      <td>False</td>\n",
       "      <td>True</td>\n",
       "      <td>True</td>\n",
       "      <td>False</td>\n",
       "      <td>False</td>\n",
       "      <td>True</td>\n",
       "      <td>False</td>\n",
       "      <td>False</td>\n",
       "      <td>0</td>\n",
       "      <td>2</td>\n",
       "    </tr>\n",
       "    <tr>\n",
       "      <th>31451</th>\n",
       "      <td>326201.0</td>\n",
       "      <td>63</td>\n",
       "      <td>m. Szczecin</td>\n",
       "      <td>797.0</td>\n",
       "      <td>211.0</td>\n",
       "      <td>m. Szczecin</td>\n",
       "      <td>1346.0</td>\n",
       "      <td>489.0</td>\n",
       "      <td>m. Szczecin</td>\n",
       "      <td>326201.0</td>\n",
       "      <td>63.0</td>\n",
       "      <td>71-044</td>\n",
       "      <td>71044.0</td>\n",
       "      <td>1859.0</td>\n",
       "      <td>15.0</td>\n",
       "      <td>833.0</td>\n",
       "      <td>406.0</td>\n",
       "      <td>162.0</td>\n",
       "      <td>31.0</td>\n",
       "      <td>3.166667</td>\n",
       "      <td>2.677419</td>\n",
       "      <td>True</td>\n",
       "      <td>True</td>\n",
       "      <td>1.688833</td>\n",
       "      <td>2.317536</td>\n",
       "      <td>-0.628702</td>\n",
       "      <td>0.628702</td>\n",
       "      <td>-0.318824</td>\n",
       "      <td>0.078681</td>\n",
       "      <td>0.318824</td>\n",
       "      <td>0.078681</td>\n",
       "      <td>-3.938428</td>\n",
       "      <td>3.938428</td>\n",
       "      <td>False</td>\n",
       "      <td>True</td>\n",
       "      <td>True</td>\n",
       "      <td>False</td>\n",
       "      <td>False</td>\n",
       "      <td>False</td>\n",
       "      <td>False</td>\n",
       "      <td>False</td>\n",
       "      <td>1</td>\n",
       "      <td>2</td>\n",
       "    </tr>\n",
       "    <tr>\n",
       "      <th>31596</th>\n",
       "      <td>326201.0</td>\n",
       "      <td>208</td>\n",
       "      <td>m. Szczecin</td>\n",
       "      <td>5.0</td>\n",
       "      <td>6.0</td>\n",
       "      <td>m. Szczecin</td>\n",
       "      <td>6.0</td>\n",
       "      <td>11.0</td>\n",
       "      <td>m. Szczecin</td>\n",
       "      <td>326201.0</td>\n",
       "      <td>208.0</td>\n",
       "      <td>71-505</td>\n",
       "      <td>71505.0</td>\n",
       "      <td>1860.0</td>\n",
       "      <td>12.0</td>\n",
       "      <td>618.5</td>\n",
       "      <td>355.5</td>\n",
       "      <td>150.0</td>\n",
       "      <td>81.5</td>\n",
       "      <td>-4.083333</td>\n",
       "      <td>-4.226994</td>\n",
       "      <td>False</td>\n",
       "      <td>False</td>\n",
       "      <td>1.200000</td>\n",
       "      <td>1.833333</td>\n",
       "      <td>-0.633333</td>\n",
       "      <td>0.633333</td>\n",
       "      <td>-0.171471</td>\n",
       "      <td>0.079063</td>\n",
       "      <td>0.171471</td>\n",
       "      <td>0.079063</td>\n",
       "      <td>-5.841660</td>\n",
       "      <td>5.841660</td>\n",
       "      <td>False</td>\n",
       "      <td>True</td>\n",
       "      <td>True</td>\n",
       "      <td>False</td>\n",
       "      <td>False</td>\n",
       "      <td>True</td>\n",
       "      <td>False</td>\n",
       "      <td>False</td>\n",
       "      <td>0</td>\n",
       "      <td>2</td>\n",
       "    </tr>\n",
       "  </tbody>\n",
       "</table>\n",
       "<p>483 rows × 43 columns</p>\n",
       "</div>"
      ],
      "text/plain": [
       "       Teryt Gminy  Nr komisji         Gmina_1  TRZASKOWSKI Rafał Kazimierz_1  \\\n",
       "21         20101.0          22  m. Bolesławiec                           29.0   \n",
       "66         20105.0           2  gm. Osiecznica                          251.0   \n",
       "82         20201.0           1      m. Bielawa                          199.0   \n",
       "83         20201.0           2      m. Bielawa                          225.0   \n",
       "173        20301.0           1       m. Głogów                          614.0   \n",
       "...            ...         ...             ...                            ...   \n",
       "30941     321205.0           3     gm. Pyrzyce                          466.0   \n",
       "30946     321205.0           8     gm. Pyrzyce                          260.0   \n",
       "31312     321802.0           8       gm. Łobez                          117.0   \n",
       "31451     326201.0          63     m. Szczecin                          797.0   \n",
       "31596     326201.0         208     m. Szczecin                            5.0   \n",
       "\n",
       "       NAWROCKI Karol Tadeusz_1         Gmina_2  \\\n",
       "21                         16.0  m. Bolesławiec   \n",
       "66                        185.0  gm. Osiecznica   \n",
       "82                        186.0      m. Bielawa   \n",
       "83                        174.0      m. Bielawa   \n",
       "173                       296.0       m. Głogów   \n",
       "...                         ...             ...   \n",
       "30941                     421.0     gm. Pyrzyce   \n",
       "30946                     341.0     gm. Pyrzyce   \n",
       "31312                     106.0       gm. Łobez   \n",
       "31451                     211.0     m. Szczecin   \n",
       "31596                       6.0     m. Szczecin   \n",
       "\n",
       "       TRZASKOWSKI Rafał Kazimierz_2  NAWROCKI Karol Tadeusz_2  \\\n",
       "21                              39.0                      55.0   \n",
       "66                             391.0                     397.0   \n",
       "82                             303.0                     362.0   \n",
       "83                             384.0                     389.0   \n",
       "173                           1020.0                     681.0   \n",
       "...                              ...                       ...   \n",
       "30941                          669.0                     749.0   \n",
       "30946                          432.0                     676.0   \n",
       "31312                          183.0                     202.0   \n",
       "31451                         1346.0                     489.0   \n",
       "31596                            6.0                      11.0   \n",
       "\n",
       "                Gmina  TERYT gminy  Numer Kod pocztowy      kod  group_id  \\\n",
       "21     m. Bolesławiec      20101.0   22.0       59-700  59700.0    1567.0   \n",
       "66     gm. Osiecznica      20105.0    2.0       59-724  59724.0    1570.0   \n",
       "82         m. Bielawa      20201.0    1.0       58-260  58260.0    1520.0   \n",
       "83         m. Bielawa      20201.0    2.0       58-260  58260.0    1520.0   \n",
       "173         m. Głogów      20301.0    1.0       67-200  67200.0    1829.0   \n",
       "...               ...          ...    ...          ...      ...       ...   \n",
       "30941     gm. Pyrzyce     321205.0    3.0       74-200  74200.0    1909.0   \n",
       "30946     gm. Pyrzyce     321205.0    8.0       74-200  74200.0    1909.0   \n",
       "31312       gm. Łobez     321802.0    8.0       73-150  73150.0    1900.0   \n",
       "31451     m. Szczecin     326201.0   63.0       71-044  71044.0    1859.0   \n",
       "31596     m. Szczecin     326201.0  208.0       71-505  71505.0    1860.0   \n",
       "\n",
       "       liczba komisji w grupie  TRZASKOWSKI Rafał Kazimierz_mediana_2  \\\n",
       "21                        44.0                                  338.0   \n",
       "66                         6.0                                  160.5   \n",
       "82                        22.0                                  334.5   \n",
       "83                        22.0                                  334.5   \n",
       "173                       37.0                                  473.0   \n",
       "...                        ...                                    ...   \n",
       "30941                     11.0                                  404.0   \n",
       "30946                     11.0                                  404.0   \n",
       "31312                     11.0                                  230.0   \n",
       "31451                     15.0                                  833.0   \n",
       "31596                     12.0                                  618.5   \n",
       "\n",
       "       NAWROCKI Karol Tadeusz_mediana_2  TRZASKOWSKI Rafał Kazimierz_MAD_2  \\\n",
       "21                                299.5                              216.5   \n",
       "66                                200.5                               40.0   \n",
       "82                                293.0                               49.0   \n",
       "83                                293.0                               49.0   \n",
       "173                               421.0                              104.0   \n",
       "...                                 ...                                ...   \n",
       "30941                             354.0                               94.0   \n",
       "30946                             354.0                               94.0   \n",
       "31312                             184.0                               80.0   \n",
       "31451                             406.0                              162.0   \n",
       "31596                             355.5                              150.0   \n",
       "\n",
       "       NAWROCKI Karol Tadeusz_MAD_2  TRZASKOWSKI Rafał Kazimierz_k_analiza_1  \\\n",
       "21                             96.0                                -1.381062   \n",
       "66                             91.0                                 5.762500   \n",
       "82                             26.5                                -0.642857   \n",
       "83                             26.5                                 1.010204   \n",
       "173                           102.0                                 5.259615   \n",
       "...                             ...                                      ...   \n",
       "30941                         127.0                                 2.819149   \n",
       "30946                         127.0                                 0.297872   \n",
       "31312                          35.0                                -0.587500   \n",
       "31451                          31.0                                 3.166667   \n",
       "31596                          81.5                                -4.083333   \n",
       "\n",
       "       NAWROCKI Karol Tadeusz_k_analiza_1  \\\n",
       "21                              -2.546875   \n",
       "66                               2.159341   \n",
       "82                               2.603774   \n",
       "83                               3.622642   \n",
       "173                              2.549020   \n",
       "...                                   ...   \n",
       "30941                            3.110236   \n",
       "30946                            2.535433   \n",
       "31312                            0.514286   \n",
       "31451                            2.677419   \n",
       "31596                           -4.226994   \n",
       "\n",
       "       TRZASKOWSKI Rafał Kazimierz_anomalia_1  \\\n",
       "21                                      False   \n",
       "66                                       True   \n",
       "82                                      False   \n",
       "83                                      False   \n",
       "173                                      True   \n",
       "...                                       ...   \n",
       "30941                                    True   \n",
       "30946                                   False   \n",
       "31312                                   False   \n",
       "31451                                    True   \n",
       "31596                                   False   \n",
       "\n",
       "       NAWROCKI Karol Tadeusz_anomalia_1  TRZASKOWSKI Rafał Kazimierz_wzrost  \\\n",
       "21                                 False                            1.344828   \n",
       "66                                  True                            1.557769   \n",
       "82                                  True                            1.522613   \n",
       "83                                  True                            1.706667   \n",
       "173                                 True                            1.661238   \n",
       "...                                  ...                                 ...   \n",
       "30941                               True                            1.435622   \n",
       "30946                               True                            1.661538   \n",
       "31312                              False                            1.564103   \n",
       "31451                               True                            1.688833   \n",
       "31596                              False                            1.200000   \n",
       "\n",
       "       NAWROCKI Karol Tadeusz_wzrost  roz_wzr_TRZASKOWSKI Rafał Kazimierz  \\\n",
       "21                          3.437500                            -2.092672   \n",
       "66                          2.145946                            -0.588177   \n",
       "82                          1.946237                            -0.423623   \n",
       "83                          2.235632                            -0.528966   \n",
       "173                         2.300676                            -0.639438   \n",
       "...                              ...                                  ...   \n",
       "30941                       1.779097                            -0.343475   \n",
       "30946                       1.982405                            -0.320866   \n",
       "31312                       1.905660                            -0.341558   \n",
       "31451                       2.317536                            -0.628702   \n",
       "31596                       1.833333                            -0.633333   \n",
       "\n",
       "       roz_wzr_NAWROCKI Karol Tadeusz  \\\n",
       "21                           2.092672   \n",
       "66                           0.588177   \n",
       "82                           0.423623   \n",
       "83                           0.528966   \n",
       "173                          0.639438   \n",
       "...                               ...   \n",
       "30941                        0.343475   \n",
       "30946                        0.320866   \n",
       "31312                        0.341558   \n",
       "31451                        0.628702   \n",
       "31596                        0.633333   \n",
       "\n",
       "       roz_wzr_TRZASKOWSKI Rafał Kazimierz_mediana  \\\n",
       "21                                       -0.332329   \n",
       "66                                       -0.258934   \n",
       "82                                       -0.253600   \n",
       "83                                       -0.253600   \n",
       "173                                      -0.197104   \n",
       "...                                            ...   \n",
       "30941                                    -0.155655   \n",
       "30946                                    -0.155655   \n",
       "31312                                    -0.179690   \n",
       "31451                                    -0.318824   \n",
       "31596                                    -0.171471   \n",
       "\n",
       "       roz_wzr_TRZASKOWSKI Rafał Kazimierz_MAD  \\\n",
       "21                                    0.165683   \n",
       "66                                    0.106199   \n",
       "82                                    0.111558   \n",
       "83                                    0.111558   \n",
       "173                                   0.098151   \n",
       "...                                        ...   \n",
       "30941                                 0.181037   \n",
       "30946                                 0.181037   \n",
       "31312                                 0.051512   \n",
       "31451                                 0.078681   \n",
       "31596                                 0.079063   \n",
       "\n",
       "       roz_wzr_NAWROCKI Karol Tadeusz_mediana  \\\n",
       "21                                   0.332329   \n",
       "66                                   0.258934   \n",
       "82                                   0.253600   \n",
       "83                                   0.253600   \n",
       "173                                  0.197104   \n",
       "...                                       ...   \n",
       "30941                                0.155655   \n",
       "30946                                0.155655   \n",
       "31312                                0.179690   \n",
       "31451                                0.318824   \n",
       "31596                                0.171471   \n",
       "\n",
       "       roz_wzr_NAWROCKI Karol Tadeusz_MAD  \\\n",
       "21                               0.165683   \n",
       "66                               0.106199   \n",
       "82                               0.111558   \n",
       "83                               0.111558   \n",
       "173                              0.098151   \n",
       "...                                   ...   \n",
       "30941                            0.181037   \n",
       "30946                            0.181037   \n",
       "31312                            0.051512   \n",
       "31451                            0.078681   \n",
       "31596                            0.079063   \n",
       "\n",
       "       TRZASKOWSKI Rafał Kazimierz_k_analiza_2  \\\n",
       "21                                  -10.624797   \n",
       "66                                   -3.100238   \n",
       "82                                   -1.524080   \n",
       "83                                   -2.468360   \n",
       "173                                  -4.506645   \n",
       "...                                        ...   \n",
       "30941                                -1.037467   \n",
       "30946                                -0.912582   \n",
       "31312                                -3.142348   \n",
       "31451                                -3.938428   \n",
       "31596                                -5.841660   \n",
       "\n",
       "       NAWROCKI Karol Tadeusz_k_analiza_2  \\\n",
       "21                              10.624797   \n",
       "66                               3.100238   \n",
       "82                               1.524080   \n",
       "83                               2.468360   \n",
       "173                              4.506645   \n",
       "...                                   ...   \n",
       "30941                            1.037467   \n",
       "30946                            0.912582   \n",
       "31312                            3.142348   \n",
       "31451                            3.938428   \n",
       "31596                            5.841660   \n",
       "\n",
       "       TRZASKOWSKI Rafał Kazimierz_anomalia_2  \\\n",
       "21                                      False   \n",
       "66                                      False   \n",
       "82                                      False   \n",
       "83                                      False   \n",
       "173                                     False   \n",
       "...                                       ...   \n",
       "30941                                   False   \n",
       "30946                                   False   \n",
       "31312                                   False   \n",
       "31451                                   False   \n",
       "31596                                   False   \n",
       "\n",
       "       NAWROCKI Karol Tadeusz_anomalia_2  \\\n",
       "21                                  True   \n",
       "66                                  True   \n",
       "82                                 False   \n",
       "83                                 False   \n",
       "173                                 True   \n",
       "...                                  ...   \n",
       "30941                              False   \n",
       "30946                              False   \n",
       "31312                               True   \n",
       "31451                               True   \n",
       "31596                               True   \n",
       "\n",
       "       wieksza_mediana_TRZASKOWSKI Rafał Kazimierz  \\\n",
       "21                                            True   \n",
       "66                                           False   \n",
       "82                                            True   \n",
       "83                                            True   \n",
       "173                                           True   \n",
       "...                                            ...   \n",
       "30941                                         True   \n",
       "30946                                         True   \n",
       "31312                                         True   \n",
       "31451                                         True   \n",
       "31596                                         True   \n",
       "\n",
       "       wieksza_mediana_NAWROCKI Karol Tadeusz  \\\n",
       "21                                      False   \n",
       "66                                       True   \n",
       "82                                      False   \n",
       "83                                      False   \n",
       "173                                     False   \n",
       "...                                       ...   \n",
       "30941                                   False   \n",
       "30946                                   False   \n",
       "31312                                   False   \n",
       "31451                                   False   \n",
       "31596                                   False   \n",
       "\n",
       "       TRZASKOWSKI Rafał Kazimierz_anomalia_3  \\\n",
       "21                                      False   \n",
       "66                                      False   \n",
       "82                                      False   \n",
       "83                                      False   \n",
       "173                                     False   \n",
       "...                                       ...   \n",
       "30941                                   False   \n",
       "30946                                   False   \n",
       "31312                                   False   \n",
       "31451                                   False   \n",
       "31596                                   False   \n",
       "\n",
       "       NAWROCKI Karol Tadeusz_anomalia_3  \\\n",
       "21                                  True   \n",
       "66                                 False   \n",
       "82                                  True   \n",
       "83                                  True   \n",
       "173                                False   \n",
       "...                                  ...   \n",
       "30941                               True   \n",
       "30946                               True   \n",
       "31312                               True   \n",
       "31451                              False   \n",
       "31596                               True   \n",
       "\n",
       "       TRZASKOWSKI Rafał Kazimierz_anomalia_4  \\\n",
       "21                                      False   \n",
       "66                                      False   \n",
       "82                                      False   \n",
       "83                                      False   \n",
       "173                                     False   \n",
       "...                                       ...   \n",
       "30941                                   False   \n",
       "30946                                   False   \n",
       "31312                                   False   \n",
       "31451                                   False   \n",
       "31596                                   False   \n",
       "\n",
       "       NAWROCKI Karol Tadeusz_anomalia_4  \\\n",
       "21                                 False   \n",
       "66                                 False   \n",
       "82                                 False   \n",
       "83                                 False   \n",
       "173                                False   \n",
       "...                                  ...   \n",
       "30941                              False   \n",
       "30946                              False   \n",
       "31312                              False   \n",
       "31451                              False   \n",
       "31596                              False   \n",
       "\n",
       "       TRZASKOWSKI Rafał Kazimierz_razem_anomali_na_korzysc  \\\n",
       "21                                                     0      \n",
       "66                                                     1      \n",
       "82                                                     0      \n",
       "83                                                     0      \n",
       "173                                                    1      \n",
       "...                                                  ...      \n",
       "30941                                                  1      \n",
       "30946                                                  0      \n",
       "31312                                                  0      \n",
       "31451                                                  1      \n",
       "31596                                                  0      \n",
       "\n",
       "       NAWROCKI Karol Tadeusz_razem_anomali_na_korzysc  \n",
       "21                                                   2  \n",
       "66                                                   2  \n",
       "82                                                   2  \n",
       "83                                                   2  \n",
       "173                                                  2  \n",
       "...                                                ...  \n",
       "30941                                                2  \n",
       "30946                                                2  \n",
       "31312                                                2  \n",
       "31451                                                2  \n",
       "31596                                                2  \n",
       "\n",
       "[483 rows x 43 columns]"
      ]
     },
     "execution_count": 181,
     "metadata": {},
     "output_type": "execute_result"
    }
   ],
   "source": [
    "df[df[kandydat_B + '_razem_anomali_na_korzysc']>1]"
   ]
  },
  {
   "cell_type": "code",
   "execution_count": null,
   "id": "716d2296",
   "metadata": {},
   "outputs": [],
   "source": []
  },
  {
   "cell_type": "code",
   "execution_count": null,
   "id": "0c77d16c",
   "metadata": {},
   "outputs": [],
   "source": []
  }
 ],
 "metadata": {
  "kernelspec": {
   "display_name": "p39all",
   "language": "python",
   "name": "p39all"
  },
  "language_info": {
   "codemirror_mode": {
    "name": "ipython",
    "version": 3
   },
   "file_extension": ".py",
   "mimetype": "text/x-python",
   "name": "python",
   "nbconvert_exporter": "python",
   "pygments_lexer": "ipython3",
   "version": "3.9.7"
  }
 },
 "nbformat": 4,
 "nbformat_minor": 5
}

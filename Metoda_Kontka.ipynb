{
 "cells": [
  {
   "cell_type": "code",
   "execution_count": 53,
   "id": "7a8edfbc",
   "metadata": {},
   "outputs": [],
   "source": [
    "import pandas as pd\n",
    "import numpy as np\n",
    "pd.set_option('display.max_columns', 100)"
   ]
  },
  {
   "cell_type": "code",
   "execution_count": 2,
   "id": "cc9d49f6",
   "metadata": {},
   "outputs": [],
   "source": [
    "obwody = pd.read_csv('./obwody_glosowania_utf8.csv', sep=';')"
   ]
  },
  {
   "cell_type": "code",
   "execution_count": 3,
   "id": "0a107efd",
   "metadata": {},
   "outputs": [],
   "source": [
    "obwody = obwody[['Gmina','TERYT gminy','Numer', 'Kod pocztowy']]"
   ]
  },
  {
   "cell_type": "code",
   "execution_count": 4,
   "id": "cb213ced",
   "metadata": {},
   "outputs": [],
   "source": [
    "obwody = obwody.dropna()"
   ]
  },
  {
   "cell_type": "code",
   "execution_count": 5,
   "id": "4e4547ad",
   "metadata": {},
   "outputs": [
    {
     "data": {
      "text/html": [
       "<div>\n",
       "<style scoped>\n",
       "    .dataframe tbody tr th:only-of-type {\n",
       "        vertical-align: middle;\n",
       "    }\n",
       "\n",
       "    .dataframe tbody tr th {\n",
       "        vertical-align: top;\n",
       "    }\n",
       "\n",
       "    .dataframe thead th {\n",
       "        text-align: right;\n",
       "    }\n",
       "</style>\n",
       "<table border=\"1\" class=\"dataframe\">\n",
       "  <thead>\n",
       "    <tr style=\"text-align: right;\">\n",
       "      <th></th>\n",
       "      <th>Gmina</th>\n",
       "      <th>TERYT gminy</th>\n",
       "      <th>Numer</th>\n",
       "      <th>Kod pocztowy</th>\n",
       "    </tr>\n",
       "  </thead>\n",
       "  <tbody>\n",
       "    <tr>\n",
       "      <th>0</th>\n",
       "      <td>m. Bolesławiec</td>\n",
       "      <td>20101.0</td>\n",
       "      <td>1</td>\n",
       "      <td>59-700</td>\n",
       "    </tr>\n",
       "    <tr>\n",
       "      <th>1</th>\n",
       "      <td>m. Bolesławiec</td>\n",
       "      <td>20101.0</td>\n",
       "      <td>2</td>\n",
       "      <td>59-700</td>\n",
       "    </tr>\n",
       "  </tbody>\n",
       "</table>\n",
       "</div>"
      ],
      "text/plain": [
       "            Gmina  TERYT gminy  Numer Kod pocztowy\n",
       "0  m. Bolesławiec      20101.0      1       59-700\n",
       "1  m. Bolesławiec      20101.0      2       59-700"
      ]
     },
     "execution_count": 5,
     "metadata": {},
     "output_type": "execute_result"
    }
   ],
   "source": [
    "obwody.head(2)"
   ]
  },
  {
   "cell_type": "markdown",
   "id": "fb57388d",
   "metadata": {},
   "source": [
    "# Klastrowanie\n",
    "\n",
    "Z artykułu:\n",
    "1. Początkowe grupowanie oparto na pierwszych dwóch cyfrach kodu pocztowego (np. „30” dla obszaru Krakowa).\n",
    "2. Jeżeli powstała grupa zawierała od 10 do 16 komisji, została zaakceptowana bez zmian.\n",
    "3. Grupy liczące mniej niż 10 komisji odłożono do późniejszego łączenia.\n",
    "4. Grupy przekraczające 16 komisji dzielono rekurencyjnie, dodając kolejne cyfry kodu\n",
    "    pocztowego (np. z „30” → „301” → „3011” i dalej, aż do pełnych pięciu cyfr).\n",
    "5. Pozostałe małe grupy łączono z najbliższymi sąsiadami mającymi ten sam prefiks, przy czym\n",
    "    priorytetem była ciągłość przestrzenna i zrównoważona liczebność grup.\n",
    "    W odróżnieniu od wcześniejszego podejścia, które dopuszczało grupy o wielkości 10–25 komisji,\n",
    "    niniejsze badanie przyjęło węższy zakres docelowy: od 10 do 16 komisji na grupę\n",
    "   \n",
    "   \n",
    "Komentarz: Algorytm z artykułu nie jest deterministyczny (niejednoznacznie wskazuje co się dzieje z grupami liczącymi mniej niż 10 komisji do ponownego połączenia) nie da się go więc odtworzyć na podstawie jego opisu. Dlatego właśnie rzetelne artykułu zawierają kod źródłowy umożliwiający reprodukcję."
   ]
  },
  {
   "cell_type": "code",
   "execution_count": 6,
   "id": "3444b236",
   "metadata": {},
   "outputs": [],
   "source": [
    "import pandas as pd\n",
    "from collections import defaultdict\n",
    "\n",
    "def assign_groups(df: pd.DataFrame,\n",
    "                  code_col: str = \"kod\",\n",
    "                  min_size: int = 10,\n",
    "                  max_size: int = 16,\n",
    ") -> pd.DataFrame:\n",
    "    \"\"\"\n",
    "    Zwraca kopię df z nową kolumną `group_id` zawierającą numer grupy\n",
    "    spełniającej warunki 10 ≤ n ≤ 16.\n",
    "    \"\"\"\n",
    "\n",
    "    # 0. Normalizacja kodu do stałej długości 5 znaków (str)\n",
    "    work = df.copy()\n",
    "    work[\"_code_str\"] = work[code_col].astype(str).str.zfill(5)\n",
    "\n",
    "    accepted = {}                # {prefix: list[index]}\n",
    "    small     = {}               # prefixy < min_size (do późniejszego łączenia)\n",
    "\n",
    "    # 1. Rekurencyjne dzielenie dużych grup\n",
    "    def split(prefix: str, idxs: list[int], depth: int):\n",
    "        size = len(idxs)\n",
    "\n",
    "        # a) gotowa grupa\n",
    "        if min_size <= size <= max_size or depth == 5:\n",
    "            accepted[prefix] = idxs\n",
    "            return\n",
    "        # b) za mała – zapisz do późniejszego łączenia\n",
    "        if size < min_size:\n",
    "            small[prefix] = idxs\n",
    "            return\n",
    "        # c) za duża – dziel głębiej\n",
    "        next_depth = depth + 1\n",
    "        sub_prefixes = work.loc[idxs, \"_code_str\"].str[:next_depth]\n",
    "        for sub_pref, sub_idxs in work.loc[idxs].groupby(sub_prefixes).groups.items():\n",
    "            split(sub_pref, list(sub_idxs), next_depth)\n",
    "\n",
    "    # start od 2-cyfrowych\n",
    "    for pref2, grp in work.groupby(work[\"_code_str\"].str[:2]).groups.items():\n",
    "        split(pref2, list(grp), depth=2)\n",
    "\n",
    "    # 2. Łączenie małych grup w obrębie tych samych 2-cyfrowych prefiksów\n",
    "    buckets = defaultdict(list)          # {pref2: [(pref, idxs), ...]}\n",
    "    for p, idxs in small.items():\n",
    "        buckets[p[:2]].append((p, idxs))\n",
    "\n",
    "    for pref2, lst in buckets.items():\n",
    "        # uporządkuj rosnąco wg wartości prefiksu → przybliżenie \"sąsiedztwa\"\n",
    "        lst.sort(key=lambda x: int(x[0]))\n",
    "        buf_idx, buf_pref = [], []\n",
    "\n",
    "        for p, idxs in lst:\n",
    "            buf_idx.extend(idxs)\n",
    "            buf_pref.append(p)\n",
    "\n",
    "            if len(buf_idx) >= min_size:\n",
    "                # jeśli przypadkiem > max_size, tnij w kawałki\n",
    "                while len(buf_idx) > max_size:\n",
    "                    accepted[f\"{pref2}_{len(accepted)}\"] = buf_idx[:max_size]\n",
    "                    buf_idx = buf_idx[max_size:]\n",
    "                accepted[\"+\".join(buf_pref)] = buf_idx\n",
    "                buf_idx, buf_pref = [], []\n",
    "\n",
    "        # resztka < 10 – dociągamy do ostatniej grupy z tego prefiksu\n",
    "        if buf_idx:\n",
    "            *_, last_key = [k for k in accepted.keys() if k.startswith(pref2)]\n",
    "            accepted[last_key].extend(buf_idx)\n",
    "\n",
    "    # 3. Ostateczne przypisanie numerów\n",
    "    idx2gid = {}\n",
    "    for gid, (_, lst) in enumerate(accepted.items()):\n",
    "        for i in lst:\n",
    "            idx2gid[i] = gid\n",
    "\n",
    "    work[\"group_id\"] = work.index.map(idx2gid)\n",
    "\n",
    "    return work.drop(columns=\"_code_str\")"
   ]
  },
  {
   "cell_type": "code",
   "execution_count": 7,
   "id": "610d51c6",
   "metadata": {},
   "outputs": [],
   "source": [
    "obwody['kod'] = obwody['Kod pocztowy'].str.replace('-','').astype(int) \n",
    "\n",
    "obwody = assign_groups(obwody, code_col='kod')"
   ]
  },
  {
   "cell_type": "markdown",
   "id": "3b4a658e",
   "metadata": {},
   "source": [
    "Z artykułu:\n",
    "\n",
    "\"Większość grup spełniła założony docelowy rozmiar: 1 386 grup (62,8%) zawierało od 10 do 16\n",
    "komisji, a 2 017 grup (91,3%) zawierało od 6 do 30 komisji. Większe grupy zazwyczaj odpowiadały 5\n",
    "obszarom miejskim — na przykład takim jak Toruń czy Włocławek, gdzie pojedynczy kod pocztowy\n",
    "obejmował całe miasto\""
   ]
  },
  {
   "cell_type": "code",
   "execution_count": 8,
   "id": "c708792e",
   "metadata": {},
   "outputs": [
    {
     "data": {
      "text/plain": [
       "1223"
      ]
     },
     "execution_count": 8,
     "metadata": {},
     "output_type": "execute_result"
    }
   ],
   "source": [
    "# między 10 a 16\n",
    "sum((obwody['group_id'].value_counts()>=10) & (obwody['group_id'].value_counts()<=16))"
   ]
  },
  {
   "cell_type": "code",
   "execution_count": 9,
   "id": "14760656",
   "metadata": {},
   "outputs": [
    {
     "data": {
      "text/plain": [
       "1925"
      ]
     },
     "execution_count": 9,
     "metadata": {},
     "output_type": "execute_result"
    }
   ],
   "source": [
    "# między 6 a 30\n",
    "sum((obwody['group_id'].value_counts()>=6) & (obwody['group_id'].value_counts()<=30))"
   ]
  },
  {
   "cell_type": "code",
   "execution_count": 10,
   "id": "05ad4a40",
   "metadata": {},
   "outputs": [
    {
     "data": {
      "text/html": [
       "<div>\n",
       "<style scoped>\n",
       "    .dataframe tbody tr th:only-of-type {\n",
       "        vertical-align: middle;\n",
       "    }\n",
       "\n",
       "    .dataframe tbody tr th {\n",
       "        vertical-align: top;\n",
       "    }\n",
       "\n",
       "    .dataframe thead th {\n",
       "        text-align: right;\n",
       "    }\n",
       "</style>\n",
       "<table border=\"1\" class=\"dataframe\">\n",
       "  <thead>\n",
       "    <tr style=\"text-align: right;\">\n",
       "      <th></th>\n",
       "      <th>Gmina</th>\n",
       "      <th>TERYT gminy</th>\n",
       "      <th>Numer</th>\n",
       "      <th>Kod pocztowy</th>\n",
       "      <th>kod</th>\n",
       "      <th>group_id</th>\n",
       "    </tr>\n",
       "  </thead>\n",
       "  <tbody>\n",
       "    <tr>\n",
       "      <th>4100</th>\n",
       "      <td>m. Toruń</td>\n",
       "      <td>46301.0</td>\n",
       "      <td>1</td>\n",
       "      <td>87-100</td>\n",
       "      <td>87100</td>\n",
       "      <td>2150</td>\n",
       "    </tr>\n",
       "    <tr>\n",
       "      <th>4101</th>\n",
       "      <td>m. Toruń</td>\n",
       "      <td>46301.0</td>\n",
       "      <td>2</td>\n",
       "      <td>87-100</td>\n",
       "      <td>87100</td>\n",
       "      <td>2150</td>\n",
       "    </tr>\n",
       "    <tr>\n",
       "      <th>4102</th>\n",
       "      <td>m. Toruń</td>\n",
       "      <td>46301.0</td>\n",
       "      <td>3</td>\n",
       "      <td>87-100</td>\n",
       "      <td>87100</td>\n",
       "      <td>2150</td>\n",
       "    </tr>\n",
       "    <tr>\n",
       "      <th>4103</th>\n",
       "      <td>m. Toruń</td>\n",
       "      <td>46301.0</td>\n",
       "      <td>4</td>\n",
       "      <td>87-100</td>\n",
       "      <td>87100</td>\n",
       "      <td>2150</td>\n",
       "    </tr>\n",
       "    <tr>\n",
       "      <th>4104</th>\n",
       "      <td>m. Toruń</td>\n",
       "      <td>46301.0</td>\n",
       "      <td>5</td>\n",
       "      <td>87-100</td>\n",
       "      <td>87100</td>\n",
       "      <td>2150</td>\n",
       "    </tr>\n",
       "    <tr>\n",
       "      <th>...</th>\n",
       "      <td>...</td>\n",
       "      <td>...</td>\n",
       "      <td>...</td>\n",
       "      <td>...</td>\n",
       "      <td>...</td>\n",
       "      <td>...</td>\n",
       "    </tr>\n",
       "    <tr>\n",
       "      <th>4221</th>\n",
       "      <td>m. Toruń</td>\n",
       "      <td>46301.0</td>\n",
       "      <td>122</td>\n",
       "      <td>87-100</td>\n",
       "      <td>87100</td>\n",
       "      <td>2150</td>\n",
       "    </tr>\n",
       "    <tr>\n",
       "      <th>4222</th>\n",
       "      <td>m. Toruń</td>\n",
       "      <td>46301.0</td>\n",
       "      <td>123</td>\n",
       "      <td>87-100</td>\n",
       "      <td>87100</td>\n",
       "      <td>2150</td>\n",
       "    </tr>\n",
       "    <tr>\n",
       "      <th>4223</th>\n",
       "      <td>m. Toruń</td>\n",
       "      <td>46301.0</td>\n",
       "      <td>124</td>\n",
       "      <td>87-100</td>\n",
       "      <td>87100</td>\n",
       "      <td>2150</td>\n",
       "    </tr>\n",
       "    <tr>\n",
       "      <th>4224</th>\n",
       "      <td>m. Toruń</td>\n",
       "      <td>46301.0</td>\n",
       "      <td>125</td>\n",
       "      <td>87-100</td>\n",
       "      <td>87100</td>\n",
       "      <td>2150</td>\n",
       "    </tr>\n",
       "    <tr>\n",
       "      <th>4225</th>\n",
       "      <td>m. Toruń</td>\n",
       "      <td>46301.0</td>\n",
       "      <td>126</td>\n",
       "      <td>87-100</td>\n",
       "      <td>87100</td>\n",
       "      <td>2150</td>\n",
       "    </tr>\n",
       "  </tbody>\n",
       "</table>\n",
       "<p>126 rows × 6 columns</p>\n",
       "</div>"
      ],
      "text/plain": [
       "         Gmina  TERYT gminy  Numer Kod pocztowy    kod  group_id\n",
       "4100  m. Toruń      46301.0      1       87-100  87100      2150\n",
       "4101  m. Toruń      46301.0      2       87-100  87100      2150\n",
       "4102  m. Toruń      46301.0      3       87-100  87100      2150\n",
       "4103  m. Toruń      46301.0      4       87-100  87100      2150\n",
       "4104  m. Toruń      46301.0      5       87-100  87100      2150\n",
       "...        ...          ...    ...          ...    ...       ...\n",
       "4221  m. Toruń      46301.0    122       87-100  87100      2150\n",
       "4222  m. Toruń      46301.0    123       87-100  87100      2150\n",
       "4223  m. Toruń      46301.0    124       87-100  87100      2150\n",
       "4224  m. Toruń      46301.0    125       87-100  87100      2150\n",
       "4225  m. Toruń      46301.0    126       87-100  87100      2150\n",
       "\n",
       "[126 rows x 6 columns]"
      ]
     },
     "execution_count": 10,
     "metadata": {},
     "output_type": "execute_result"
    }
   ],
   "source": [
    "# duże grupy\n",
    "obwody[obwody['group_id']==2150]"
   ]
  },
  {
   "cell_type": "code",
   "execution_count": 11,
   "id": "928a716e",
   "metadata": {},
   "outputs": [],
   "source": [
    "# usun grupy mniej niz 3-komisjowe\n",
    "obwody['liczba komisji w grupie']  = obwody.groupby('group_id').transform('count')['kod']\n",
    "obwody = obwody[obwody['liczba komisji w grupie']>3]"
   ]
  },
  {
   "cell_type": "code",
   "execution_count": 12,
   "id": "0a1c7ea3",
   "metadata": {},
   "outputs": [
    {
     "data": {
      "text/plain": [
       "30553"
      ]
     },
     "execution_count": 12,
     "metadata": {},
     "output_type": "execute_result"
    }
   ],
   "source": [
    "len(obwody)"
   ]
  },
  {
   "cell_type": "markdown",
   "id": "6ec100c8",
   "metadata": {},
   "source": [
    "# Wyniki głosowania"
   ]
  },
  {
   "cell_type": "code",
   "execution_count": 13,
   "id": "160281e4",
   "metadata": {},
   "outputs": [],
   "source": [
    "p = pd.read_csv('./protokoly_po_obwodach_utf8.csv', sep=';')\n",
    "d = pd.read_csv('./protokoly_po_obwodach_w_drugiej_turze_utf8.csv', sep=';')\n"
   ]
  },
  {
   "cell_type": "code",
   "execution_count": 14,
   "id": "a8494275",
   "metadata": {},
   "outputs": [],
   "source": [
    "keep = ['Teryt Gminy', 'Nr komisji', 'Gmina', 'TRZASKOWSKI Rafał Kazimierz', 'NAWROCKI Karol Tadeusz']"
   ]
  },
  {
   "cell_type": "code",
   "execution_count": 15,
   "id": "e7f77274",
   "metadata": {},
   "outputs": [],
   "source": [
    "p = p[keep].dropna()\n",
    "d = d[keep].dropna()"
   ]
  },
  {
   "cell_type": "code",
   "execution_count": 16,
   "id": "850523d1",
   "metadata": {},
   "outputs": [
    {
     "data": {
      "text/html": [
       "<div>\n",
       "<style scoped>\n",
       "    .dataframe tbody tr th:only-of-type {\n",
       "        vertical-align: middle;\n",
       "    }\n",
       "\n",
       "    .dataframe tbody tr th {\n",
       "        vertical-align: top;\n",
       "    }\n",
       "\n",
       "    .dataframe thead th {\n",
       "        text-align: right;\n",
       "    }\n",
       "</style>\n",
       "<table border=\"1\" class=\"dataframe\">\n",
       "  <thead>\n",
       "    <tr style=\"text-align: right;\">\n",
       "      <th></th>\n",
       "      <th>Teryt Gminy</th>\n",
       "      <th>Nr komisji</th>\n",
       "      <th>Gmina</th>\n",
       "      <th>TRZASKOWSKI Rafał Kazimierz</th>\n",
       "      <th>NAWROCKI Karol Tadeusz</th>\n",
       "    </tr>\n",
       "  </thead>\n",
       "  <tbody>\n",
       "    <tr>\n",
       "      <th>0</th>\n",
       "      <td>20101.0</td>\n",
       "      <td>1</td>\n",
       "      <td>m. Bolesławiec</td>\n",
       "      <td>361.0</td>\n",
       "      <td>287.0</td>\n",
       "    </tr>\n",
       "    <tr>\n",
       "      <th>1</th>\n",
       "      <td>20101.0</td>\n",
       "      <td>2</td>\n",
       "      <td>m. Bolesławiec</td>\n",
       "      <td>381.0</td>\n",
       "      <td>228.0</td>\n",
       "    </tr>\n",
       "  </tbody>\n",
       "</table>\n",
       "</div>"
      ],
      "text/plain": [
       "   Teryt Gminy  Nr komisji           Gmina  TRZASKOWSKI Rafał Kazimierz  \\\n",
       "0      20101.0           1  m. Bolesławiec                        361.0   \n",
       "1      20101.0           2  m. Bolesławiec                        381.0   \n",
       "\n",
       "   NAWROCKI Karol Tadeusz  \n",
       "0                   287.0  \n",
       "1                   228.0  "
      ]
     },
     "execution_count": 16,
     "metadata": {},
     "output_type": "execute_result"
    }
   ],
   "source": [
    "p.head(2)"
   ]
  },
  {
   "cell_type": "code",
   "execution_count": 17,
   "id": "e8b195be",
   "metadata": {},
   "outputs": [],
   "source": [
    "# polacz 1 i 2 tura"
   ]
  },
  {
   "cell_type": "code",
   "execution_count": 18,
   "id": "5a9d4f31",
   "metadata": {},
   "outputs": [],
   "source": [
    "df = pd.merge(\n",
    "    left=p, \n",
    "    right=d,\n",
    "    how='left',\n",
    "    left_on=['Teryt Gminy', 'Nr komisji'],\n",
    "    right_on=['Teryt Gminy', 'Nr komisji'],\n",
    "    suffixes = ('_1', '_2')\n",
    ")"
   ]
  },
  {
   "cell_type": "code",
   "execution_count": 19,
   "id": "b320a98a",
   "metadata": {},
   "outputs": [],
   "source": [
    "# polacz z obwodami"
   ]
  },
  {
   "cell_type": "code",
   "execution_count": 20,
   "id": "c0cce9a2",
   "metadata": {},
   "outputs": [],
   "source": [
    "df = pd.merge(\n",
    "    left=df, \n",
    "    right=obwody,\n",
    "    how='left',\n",
    "    left_on=['Teryt Gminy', 'Nr komisji'],\n",
    "    right_on=['TERYT gminy', 'Numer'],\n",
    ")\n"
   ]
  },
  {
   "cell_type": "code",
   "execution_count": 21,
   "id": "ecc469f4",
   "metadata": {},
   "outputs": [],
   "source": [
    "from copy import copy\n",
    "df = copy(df.dropna())"
   ]
  },
  {
   "cell_type": "markdown",
   "id": "2900fedb",
   "metadata": {},
   "source": [
    "# Reprodukcja Analizy z artykułu dla obu kandydatów"
   ]
  },
  {
   "cell_type": "markdown",
   "id": "9b3e1806",
   "metadata": {},
   "source": [
    "## 1. Nadmierne poparcie dla Karola Nawrockiego (względem mediany w ramach lokalnej grupy)"
   ]
  },
  {
   "cell_type": "code",
   "execution_count": 22,
   "id": "2382bea0",
   "metadata": {},
   "outputs": [],
   "source": [
    "kandydat_A = \"TRZASKOWSKI Rafał Kazimierz\"\n",
    "kandydat_B = \"NAWROCKI Karol Tadeusz\""
   ]
  },
  {
   "cell_type": "code",
   "execution_count": 23,
   "id": "73801c58",
   "metadata": {},
   "outputs": [],
   "source": [
    "# mediana w grupie\n",
    "df[kandydat_A + '_mediana_2'] = df.groupby('group_id')[kandydat_A+'_2'].transform('median')\n",
    "df[kandydat_B + '_mediana_2'] = df.groupby('group_id')[kandydat_B+'_2'].transform('median')"
   ]
  },
  {
   "cell_type": "code",
   "execution_count": 24,
   "id": "11fa1039",
   "metadata": {},
   "outputs": [],
   "source": [
    "# MAD w grupie\n",
    "from scipy.stats import median_abs_deviation\n",
    "def mad(series):\n",
    "    \"\"\"Median Absolute Deviation\"\"\"\n",
    "    return median_abs_deviation(series)\n",
    "\n",
    "df[kandydat_A + \"_MAD_2\"] = df.groupby(\"group_id\")[kandydat_A+'_2'].transform(mad)\n",
    "df[kandydat_B + \"_MAD_2\"] = df.groupby(\"group_id\")[kandydat_B+'_2'].transform(mad)"
   ]
  },
  {
   "cell_type": "code",
   "execution_count": 25,
   "id": "f8459355",
   "metadata": {},
   "outputs": [],
   "source": [
    "# wspolczynnik k"
   ]
  },
  {
   "cell_type": "code",
   "execution_count": 26,
   "id": "47273ac2",
   "metadata": {},
   "outputs": [],
   "source": [
    "df[kandydat_A +'_k_analiza_1'] = (df[kandydat_A +'_2'] - df[kandydat_A + '_mediana_2'])/df[kandydat_A + '_MAD_2']"
   ]
  },
  {
   "cell_type": "code",
   "execution_count": 27,
   "id": "7acf3c0e",
   "metadata": {},
   "outputs": [],
   "source": [
    "df[kandydat_B +'_k_analiza_1'] = (df[kandydat_B +'_2'] - df[kandydat_B + '_mediana_2'])/df[kandydat_B + '_MAD_2']"
   ]
  },
  {
   "cell_type": "code",
   "execution_count": 28,
   "id": "c139d936",
   "metadata": {},
   "outputs": [],
   "source": [
    "k = 3"
   ]
  },
  {
   "cell_type": "code",
   "execution_count": 29,
   "id": "cd4aaeaa",
   "metadata": {},
   "outputs": [
    {
     "data": {
      "text/plain": [
       "('TRZASKOWSKI Rafał Kazimierz', 2794)"
      ]
     },
     "execution_count": 29,
     "metadata": {},
     "output_type": "execute_result"
    }
   ],
   "source": [
    "kandydat_A, sum(df[kandydat_A +'_k_analiza_1']>k)"
   ]
  },
  {
   "cell_type": "code",
   "execution_count": 30,
   "id": "40674b76",
   "metadata": {},
   "outputs": [
    {
     "data": {
      "text/plain": [
       "('NAWROCKI Karol Tadeusz', 2015)"
      ]
     },
     "execution_count": 30,
     "metadata": {},
     "output_type": "execute_result"
    }
   ],
   "source": [
    "kandydat_B, sum(df[kandydat_B +'_k_analiza_1']>k)"
   ]
  },
  {
   "cell_type": "code",
   "execution_count": 31,
   "id": "706412c7",
   "metadata": {},
   "outputs": [],
   "source": [
    "k = 2"
   ]
  },
  {
   "cell_type": "code",
   "execution_count": 32,
   "id": "938777c5",
   "metadata": {},
   "outputs": [
    {
     "data": {
      "text/plain": [
       "('TRZASKOWSKI Rafał Kazimierz', 4551)"
      ]
     },
     "execution_count": 32,
     "metadata": {},
     "output_type": "execute_result"
    }
   ],
   "source": [
    "kandydat_A, sum(df[kandydat_A +'_k_analiza_1']>k)"
   ]
  },
  {
   "cell_type": "code",
   "execution_count": 33,
   "id": "0421c48b",
   "metadata": {},
   "outputs": [
    {
     "data": {
      "text/plain": [
       "('NAWROCKI Karol Tadeusz', 3750)"
      ]
     },
     "execution_count": 33,
     "metadata": {},
     "output_type": "execute_result"
    }
   ],
   "source": [
    "kandydat_B, sum(df[kandydat_B +'_k_analiza_1']>k)"
   ]
  },
  {
   "cell_type": "markdown",
   "id": "90c22f9b",
   "metadata": {},
   "source": [
    "### Wynik:\n",
    "Dla k=2, takich grup, w których \"za duże\" poparcie ma Nawrocki jest 3750, a Trzaskowski 4551."
   ]
  },
  {
   "cell_type": "markdown",
   "id": "87ec162c",
   "metadata": {},
   "source": [
    "## 2. Nadmierny względny wzrost poparcia dla Karola Nawrockiego między pierwszą a drugą turą, w porównaniu do odpowiedniego wzrostu poparcia dla Rafała Trzaskowskiego w tej samej grupie lokalnej;\n"
   ]
  },
  {
   "cell_type": "code",
   "execution_count": 34,
   "id": "f6dd1444",
   "metadata": {},
   "outputs": [],
   "source": [
    "# wzgledny wzrost między pierwszą a drugą turą\n",
    "df[kandydat_A+ '_wzrost'] = df[kandydat_A+'_2']/df[kandydat_A+'_1']\n",
    "df[kandydat_B+ '_wzrost'] = df[kandydat_B+'_2']/df[kandydat_B+'_1']"
   ]
  },
  {
   "cell_type": "code",
   "execution_count": 35,
   "id": "6c312317",
   "metadata": {},
   "outputs": [],
   "source": [
    "# roznica wzglednego roz_wzru miedzy kandydatami\n",
    "df['roz_wzr_' + kandydat_A] =  df[kandydat_A + '_wzrost']  - df[kandydat_B + '_wzrost'] \n",
    "df['roz_wzr_' + kandydat_B] =  df[kandydat_B + '_wzrost']  - df[kandydat_A + '_wzrost'] "
   ]
  },
  {
   "cell_type": "code",
   "execution_count": 36,
   "id": "163225a0",
   "metadata": {},
   "outputs": [],
   "source": [
    "# mediana i mad różnicy względnego wzrostu poparcia\n",
    "\n",
    "df['roz_wzr_' + kandydat_A +'_mediana'] = df.groupby('group_id')['roz_wzr_' + kandydat_A].transform('median')\n",
    "df['roz_wzr_' + kandydat_A + '_MAD'] =    df.groupby('group_id')['roz_wzr_' + kandydat_A].transform(mad)"
   ]
  },
  {
   "cell_type": "code",
   "execution_count": 37,
   "id": "26521c30",
   "metadata": {},
   "outputs": [],
   "source": [
    "df['roz_wzr_' + kandydat_B +'_mediana'] = df.groupby('group_id')['roz_wzr_' + kandydat_B].transform('median')\n",
    "df['roz_wzr_' + kandydat_B + '_MAD'] =    df.groupby('group_id')['roz_wzr_' + kandydat_B].transform(mad)"
   ]
  },
  {
   "cell_type": "code",
   "execution_count": 38,
   "id": "9c8e5baf",
   "metadata": {},
   "outputs": [],
   "source": [
    "df[kandydat_A +'_k_analiza_2'] = (df['roz_wzr_' + kandydat_A] - df['roz_wzr_' + kandydat_A +'_mediana'])/df['roz_wzr_' + kandydat_A + '_MAD']"
   ]
  },
  {
   "cell_type": "code",
   "execution_count": 39,
   "id": "252f3989",
   "metadata": {},
   "outputs": [],
   "source": [
    "df[kandydat_B +'_k_analiza_2'] = (df['roz_wzr_' + kandydat_B] - df['roz_wzr_' + kandydat_B +'_mediana'])/df['roz_wzr_' + kandydat_B + '_MAD']"
   ]
  },
  {
   "cell_type": "code",
   "execution_count": 40,
   "id": "371c01ac",
   "metadata": {},
   "outputs": [],
   "source": [
    "k = 3"
   ]
  },
  {
   "cell_type": "code",
   "execution_count": 41,
   "id": "457d3d01",
   "metadata": {},
   "outputs": [
    {
     "data": {
      "text/plain": [
       "('TRZASKOWSKI Rafał Kazimierz', 2106)"
      ]
     },
     "execution_count": 41,
     "metadata": {},
     "output_type": "execute_result"
    }
   ],
   "source": [
    "kandydat_A, sum(df[kandydat_A +'_k_analiza_2']>k)"
   ]
  },
  {
   "cell_type": "code",
   "execution_count": 42,
   "id": "e7023e95",
   "metadata": {},
   "outputs": [
    {
     "data": {
      "text/plain": [
       "('NAWROCKI Karol Tadeusz', 2015)"
      ]
     },
     "execution_count": 42,
     "metadata": {},
     "output_type": "execute_result"
    }
   ],
   "source": [
    "kandydat_B, sum(df[kandydat_B +'_k_analiza_1']>k)"
   ]
  },
  {
   "cell_type": "code",
   "execution_count": 43,
   "id": "620321ba",
   "metadata": {},
   "outputs": [],
   "source": [
    "k = 2"
   ]
  },
  {
   "cell_type": "code",
   "execution_count": 44,
   "id": "37b00875",
   "metadata": {},
   "outputs": [
    {
     "data": {
      "text/plain": [
       "('TRZASKOWSKI Rafał Kazimierz', 3552)"
      ]
     },
     "execution_count": 44,
     "metadata": {},
     "output_type": "execute_result"
    }
   ],
   "source": [
    "kandydat_A, sum(df[kandydat_A +'_k_analiza_2']>k)"
   ]
  },
  {
   "cell_type": "code",
   "execution_count": 45,
   "id": "067d3bd5",
   "metadata": {},
   "outputs": [
    {
     "data": {
      "text/plain": [
       "('NAWROCKI Karol Tadeusz', 3750)"
      ]
     },
     "execution_count": 45,
     "metadata": {},
     "output_type": "execute_result"
    }
   ],
   "source": [
    "kandydat_B, sum(df[kandydat_B +'_k_analiza_1']>k)"
   ]
  },
  {
   "cell_type": "markdown",
   "id": "5b29e5ab",
   "metadata": {},
   "source": [
    "\"Nadmierny\" względny wzrost poparcia dla Trzaskowskiego odnotowano w 3552 komisjach\n",
    "\"Nadmierny\" względny wzrost poparcia dla Nawrockiego odnotowano w 3750 komisjach"
   ]
  },
  {
   "cell_type": "markdown",
   "id": "922bd5bc",
   "metadata": {},
   "source": [
    "### 3 Komisje, w których Nawrocki uzyskał więcej głosów niż Trzaskowski w drugiej turze, mimo że mediana wyników w grupie wskazywała na przewagę Trzaskowskiego;"
   ]
  },
  {
   "cell_type": "code",
   "execution_count": 46,
   "id": "031ddf3a",
   "metadata": {},
   "outputs": [],
   "source": [
    "# wieksza mediana w grupie\n",
    "df['wieksza_mediana_' + kandydat_A] = (df[kandydat_A + '_mediana_2'] >  df[kandydat_B + '_mediana_2']).astype(bool)\n",
    "df['wieksza_mediana_' + kandydat_B] = (df[kandydat_B + '_mediana_2'] >  df[kandydat_A + '_mediana_2']).astype(bool)"
   ]
  },
  {
   "cell_type": "code",
   "execution_count": 47,
   "id": "bce94313",
   "metadata": {},
   "outputs": [],
   "source": [
    "df_wieksza_mediana_kandydat_A = df[df['wieksza_mediana_' + kandydat_A]]\n",
    "df_wieksza_mediana_kandydat_B = df[df['wieksza_mediana_' + kandydat_B]]"
   ]
  },
  {
   "cell_type": "code",
   "execution_count": 48,
   "id": "dd927301",
   "metadata": {},
   "outputs": [
    {
     "data": {
      "text/plain": [
       "('TRZASKOWSKI Rafał Kazimierz', 1843)"
      ]
     },
     "execution_count": 48,
     "metadata": {},
     "output_type": "execute_result"
    }
   ],
   "source": [
    "kandydat_A, sum(df_wieksza_mediana_kandydat_A[kandydat_B+'_2']>df_wieksza_mediana_kandydat_A[kandydat_A+'_2'])"
   ]
  },
  {
   "cell_type": "code",
   "execution_count": 49,
   "id": "17c95979",
   "metadata": {},
   "outputs": [
    {
     "data": {
      "text/plain": [
       "('NAWROCKI Karol Tadeusz', 2608)"
      ]
     },
     "execution_count": 49,
     "metadata": {},
     "output_type": "execute_result"
    }
   ],
   "source": [
    "kandydat_B, sum(df_wieksza_mediana_kandydat_B[kandydat_A+'_2']>df_wieksza_mediana_kandydat_B[kandydat_B+'_2'])"
   ]
  },
  {
   "cell_type": "markdown",
   "id": "c387bc97",
   "metadata": {},
   "source": [
    "W grupach, w których większą medianę miał Trzaskowski, 1843 razy wyższy wyniki uzyskał Nawrocki.\n",
    "\n",
    "W grupach, w których większą medianę miał Nawrocki, 2608 razy wyższy wynik uzyskał Trzaskowski."
   ]
  },
  {
   "cell_type": "markdown",
   "id": "eca17e61",
   "metadata": {},
   "source": [
    "## 4. Kandydat otrzymał mniej głosów w drugiej turze niż w pierwszej"
   ]
  },
  {
   "cell_type": "code",
   "execution_count": 50,
   "id": "456aba37",
   "metadata": {},
   "outputs": [
    {
     "data": {
      "text/plain": [
       "('TRZASKOWSKI Rafał Kazimierz', 128)"
      ]
     },
     "execution_count": 50,
     "metadata": {},
     "output_type": "execute_result"
    }
   ],
   "source": [
    "kandydat_A, sum(df[kandydat_A + '_2']<df[kandydat_A + '_1'])"
   ]
  },
  {
   "cell_type": "code",
   "execution_count": 51,
   "id": "8f685d24",
   "metadata": {},
   "outputs": [
    {
     "data": {
      "text/plain": [
       "('NAWROCKI Karol Tadeusz', 112)"
      ]
     },
     "execution_count": 51,
     "metadata": {},
     "output_type": "execute_result"
    }
   ],
   "source": [
    "kandydat_B, sum(df[kandydat_B + '_2']<df[kandydat_B + '_1'])"
   ]
  },
  {
   "cell_type": "markdown",
   "id": "5cb647fd",
   "metadata": {},
   "source": [
    "W 128 komisjach Trzaskowski uzyskał mniej głosów w drugiej turze niż w pierwszej.\n",
    "\n",
    "W 112 komisjach Nawrocki uzyskał mniej głosó w drugiej turze niż w pierwszej."
   ]
  },
  {
   "cell_type": "code",
   "execution_count": 52,
   "id": "9805a83a",
   "metadata": {},
   "outputs": [
    {
     "data": {
      "text/html": [
       "<div>\n",
       "<style scoped>\n",
       "    .dataframe tbody tr th:only-of-type {\n",
       "        vertical-align: middle;\n",
       "    }\n",
       "\n",
       "    .dataframe tbody tr th {\n",
       "        vertical-align: top;\n",
       "    }\n",
       "\n",
       "    .dataframe thead th {\n",
       "        text-align: right;\n",
       "    }\n",
       "</style>\n",
       "<table border=\"1\" class=\"dataframe\">\n",
       "  <thead>\n",
       "    <tr style=\"text-align: right;\">\n",
       "      <th></th>\n",
       "      <th>Teryt Gminy</th>\n",
       "      <th>Nr komisji</th>\n",
       "      <th>Gmina_1</th>\n",
       "      <th>TRZASKOWSKI Rafał Kazimierz_1</th>\n",
       "      <th>NAWROCKI Karol Tadeusz_1</th>\n",
       "      <th>Gmina_2</th>\n",
       "      <th>TRZASKOWSKI Rafał Kazimierz_2</th>\n",
       "      <th>NAWROCKI Karol Tadeusz_2</th>\n",
       "      <th>Gmina</th>\n",
       "      <th>TERYT gminy</th>\n",
       "      <th>Numer</th>\n",
       "      <th>Kod pocztowy</th>\n",
       "      <th>kod</th>\n",
       "      <th>group_id</th>\n",
       "      <th>liczba komisji w grupie</th>\n",
       "      <th>TRZASKOWSKI Rafał Kazimierz_mediana_2</th>\n",
       "      <th>NAWROCKI Karol Tadeusz_mediana_2</th>\n",
       "      <th>TRZASKOWSKI Rafał Kazimierz_MAD_2</th>\n",
       "      <th>NAWROCKI Karol Tadeusz_MAD_2</th>\n",
       "      <th>TRZASKOWSKI Rafał Kazimierz_k_analiza_1</th>\n",
       "      <th>NAWROCKI Karol Tadeusz_k_analiza_1</th>\n",
       "      <th>TRZASKOWSKI Rafał Kazimierz_wzrost</th>\n",
       "      <th>NAWROCKI Karol Tadeusz_wzrost</th>\n",
       "      <th>roz_wzr_TRZASKOWSKI Rafał Kazimierz</th>\n",
       "      <th>roz_wzr_NAWROCKI Karol Tadeusz</th>\n",
       "      <th>roz_wzr_TRZASKOWSKI Rafał Kazimierz_mediana</th>\n",
       "      <th>roz_wzr_TRZASKOWSKI Rafał Kazimierz_MAD</th>\n",
       "      <th>roz_wzr_NAWROCKI Karol Tadeusz_mediana</th>\n",
       "      <th>roz_wzr_NAWROCKI Karol Tadeusz_MAD</th>\n",
       "      <th>TRZASKOWSKI Rafał Kazimierz_k_analiza_2</th>\n",
       "      <th>NAWROCKI Karol Tadeusz_k_analiza_2</th>\n",
       "      <th>wieksza_mediana_TRZASKOWSKI Rafał Kazimierz</th>\n",
       "      <th>wieksza_mediana_NAWROCKI Karol Tadeusz</th>\n",
       "    </tr>\n",
       "  </thead>\n",
       "  <tbody>\n",
       "    <tr>\n",
       "      <th>1871</th>\n",
       "      <td>26101.0</td>\n",
       "      <td>12</td>\n",
       "      <td>m. Jelenia Góra</td>\n",
       "      <td>226.0</td>\n",
       "      <td>102.0</td>\n",
       "      <td>m. Jelenia Góra</td>\n",
       "      <td>368.0</td>\n",
       "      <td>194.0</td>\n",
       "      <td>m. Jelenia Góra</td>\n",
       "      <td>26101.0</td>\n",
       "      <td>12.0</td>\n",
       "      <td>58-506</td>\n",
       "      <td>58506.0</td>\n",
       "      <td>1541.0</td>\n",
       "      <td>13.0</td>\n",
       "      <td>642.0</td>\n",
       "      <td>381.0</td>\n",
       "      <td>177.0</td>\n",
       "      <td>59.0</td>\n",
       "      <td>-1.548023</td>\n",
       "      <td>-3.169492</td>\n",
       "      <td>1.628319</td>\n",
       "      <td>1.901961</td>\n",
       "      <td>-0.273642</td>\n",
       "      <td>0.273642</td>\n",
       "      <td>-0.182338</td>\n",
       "      <td>0.101954</td>\n",
       "      <td>0.182338</td>\n",
       "      <td>0.101954</td>\n",
       "      <td>-0.895545</td>\n",
       "      <td>0.895545</td>\n",
       "      <td>True</td>\n",
       "      <td>False</td>\n",
       "    </tr>\n",
       "    <tr>\n",
       "      <th>1872</th>\n",
       "      <td>26101.0</td>\n",
       "      <td>13</td>\n",
       "      <td>m. Jelenia Góra</td>\n",
       "      <td>321.0</td>\n",
       "      <td>133.0</td>\n",
       "      <td>m. Jelenia Góra</td>\n",
       "      <td>496.0</td>\n",
       "      <td>228.0</td>\n",
       "      <td>m. Jelenia Góra</td>\n",
       "      <td>26101.0</td>\n",
       "      <td>13.0</td>\n",
       "      <td>58-506</td>\n",
       "      <td>58506.0</td>\n",
       "      <td>1541.0</td>\n",
       "      <td>13.0</td>\n",
       "      <td>642.0</td>\n",
       "      <td>381.0</td>\n",
       "      <td>177.0</td>\n",
       "      <td>59.0</td>\n",
       "      <td>-0.824859</td>\n",
       "      <td>-2.593220</td>\n",
       "      <td>1.545171</td>\n",
       "      <td>1.714286</td>\n",
       "      <td>-0.169114</td>\n",
       "      <td>0.169114</td>\n",
       "      <td>-0.182338</td>\n",
       "      <td>0.101954</td>\n",
       "      <td>0.182338</td>\n",
       "      <td>0.101954</td>\n",
       "      <td>0.129703</td>\n",
       "      <td>-0.129703</td>\n",
       "      <td>True</td>\n",
       "      <td>False</td>\n",
       "    </tr>\n",
       "    <tr>\n",
       "      <th>1873</th>\n",
       "      <td>26101.0</td>\n",
       "      <td>14</td>\n",
       "      <td>m. Jelenia Góra</td>\n",
       "      <td>384.0</td>\n",
       "      <td>171.0</td>\n",
       "      <td>m. Jelenia Góra</td>\n",
       "      <td>574.0</td>\n",
       "      <td>283.0</td>\n",
       "      <td>m. Jelenia Góra</td>\n",
       "      <td>26101.0</td>\n",
       "      <td>14.0</td>\n",
       "      <td>58-506</td>\n",
       "      <td>58506.0</td>\n",
       "      <td>1541.0</td>\n",
       "      <td>13.0</td>\n",
       "      <td>642.0</td>\n",
       "      <td>381.0</td>\n",
       "      <td>177.0</td>\n",
       "      <td>59.0</td>\n",
       "      <td>-0.384181</td>\n",
       "      <td>-1.661017</td>\n",
       "      <td>1.494792</td>\n",
       "      <td>1.654971</td>\n",
       "      <td>-0.160179</td>\n",
       "      <td>0.160179</td>\n",
       "      <td>-0.182338</td>\n",
       "      <td>0.101954</td>\n",
       "      <td>0.182338</td>\n",
       "      <td>0.101954</td>\n",
       "      <td>0.217343</td>\n",
       "      <td>-0.217343</td>\n",
       "      <td>True</td>\n",
       "      <td>False</td>\n",
       "    </tr>\n",
       "    <tr>\n",
       "      <th>1874</th>\n",
       "      <td>26101.0</td>\n",
       "      <td>15</td>\n",
       "      <td>m. Jelenia Góra</td>\n",
       "      <td>304.0</td>\n",
       "      <td>195.0</td>\n",
       "      <td>m. Jelenia Góra</td>\n",
       "      <td>445.0</td>\n",
       "      <td>321.0</td>\n",
       "      <td>m. Jelenia Góra</td>\n",
       "      <td>26101.0</td>\n",
       "      <td>15.0</td>\n",
       "      <td>58-506</td>\n",
       "      <td>58506.0</td>\n",
       "      <td>1541.0</td>\n",
       "      <td>13.0</td>\n",
       "      <td>642.0</td>\n",
       "      <td>381.0</td>\n",
       "      <td>177.0</td>\n",
       "      <td>59.0</td>\n",
       "      <td>-1.112994</td>\n",
       "      <td>-1.016949</td>\n",
       "      <td>1.463816</td>\n",
       "      <td>1.646154</td>\n",
       "      <td>-0.182338</td>\n",
       "      <td>0.182338</td>\n",
       "      <td>-0.182338</td>\n",
       "      <td>0.101954</td>\n",
       "      <td>0.182338</td>\n",
       "      <td>0.101954</td>\n",
       "      <td>0.000000</td>\n",
       "      <td>0.000000</td>\n",
       "      <td>True</td>\n",
       "      <td>False</td>\n",
       "    </tr>\n",
       "    <tr>\n",
       "      <th>1875</th>\n",
       "      <td>26101.0</td>\n",
       "      <td>16</td>\n",
       "      <td>m. Jelenia Góra</td>\n",
       "      <td>447.0</td>\n",
       "      <td>242.0</td>\n",
       "      <td>m. Jelenia Góra</td>\n",
       "      <td>642.0</td>\n",
       "      <td>389.0</td>\n",
       "      <td>m. Jelenia Góra</td>\n",
       "      <td>26101.0</td>\n",
       "      <td>16.0</td>\n",
       "      <td>58-506</td>\n",
       "      <td>58506.0</td>\n",
       "      <td>1541.0</td>\n",
       "      <td>13.0</td>\n",
       "      <td>642.0</td>\n",
       "      <td>381.0</td>\n",
       "      <td>177.0</td>\n",
       "      <td>59.0</td>\n",
       "      <td>0.000000</td>\n",
       "      <td>0.135593</td>\n",
       "      <td>1.436242</td>\n",
       "      <td>1.607438</td>\n",
       "      <td>-0.171196</td>\n",
       "      <td>0.171196</td>\n",
       "      <td>-0.182338</td>\n",
       "      <td>0.101954</td>\n",
       "      <td>0.182338</td>\n",
       "      <td>0.101954</td>\n",
       "      <td>0.109282</td>\n",
       "      <td>-0.109282</td>\n",
       "      <td>True</td>\n",
       "      <td>False</td>\n",
       "    </tr>\n",
       "    <tr>\n",
       "      <th>1876</th>\n",
       "      <td>26101.0</td>\n",
       "      <td>17</td>\n",
       "      <td>m. Jelenia Góra</td>\n",
       "      <td>523.0</td>\n",
       "      <td>239.0</td>\n",
       "      <td>m. Jelenia Góra</td>\n",
       "      <td>738.0</td>\n",
       "      <td>433.0</td>\n",
       "      <td>m. Jelenia Góra</td>\n",
       "      <td>26101.0</td>\n",
       "      <td>17.0</td>\n",
       "      <td>58-506</td>\n",
       "      <td>58506.0</td>\n",
       "      <td>1541.0</td>\n",
       "      <td>13.0</td>\n",
       "      <td>642.0</td>\n",
       "      <td>381.0</td>\n",
       "      <td>177.0</td>\n",
       "      <td>59.0</td>\n",
       "      <td>0.542373</td>\n",
       "      <td>0.881356</td>\n",
       "      <td>1.411090</td>\n",
       "      <td>1.811715</td>\n",
       "      <td>-0.400626</td>\n",
       "      <td>0.400626</td>\n",
       "      <td>-0.182338</td>\n",
       "      <td>0.101954</td>\n",
       "      <td>0.182338</td>\n",
       "      <td>0.101954</td>\n",
       "      <td>-2.141046</td>\n",
       "      <td>2.141046</td>\n",
       "      <td>True</td>\n",
       "      <td>False</td>\n",
       "    </tr>\n",
       "    <tr>\n",
       "      <th>1877</th>\n",
       "      <td>26101.0</td>\n",
       "      <td>18</td>\n",
       "      <td>m. Jelenia Góra</td>\n",
       "      <td>713.0</td>\n",
       "      <td>253.0</td>\n",
       "      <td>m. Jelenia Góra</td>\n",
       "      <td>984.0</td>\n",
       "      <td>440.0</td>\n",
       "      <td>m. Jelenia Góra</td>\n",
       "      <td>26101.0</td>\n",
       "      <td>18.0</td>\n",
       "      <td>58-506</td>\n",
       "      <td>58506.0</td>\n",
       "      <td>1541.0</td>\n",
       "      <td>13.0</td>\n",
       "      <td>642.0</td>\n",
       "      <td>381.0</td>\n",
       "      <td>177.0</td>\n",
       "      <td>59.0</td>\n",
       "      <td>1.932203</td>\n",
       "      <td>1.000000</td>\n",
       "      <td>1.380084</td>\n",
       "      <td>1.739130</td>\n",
       "      <td>-0.359046</td>\n",
       "      <td>0.359046</td>\n",
       "      <td>-0.182338</td>\n",
       "      <td>0.101954</td>\n",
       "      <td>0.182338</td>\n",
       "      <td>0.101954</td>\n",
       "      <td>-1.733221</td>\n",
       "      <td>1.733221</td>\n",
       "      <td>True</td>\n",
       "      <td>False</td>\n",
       "    </tr>\n",
       "    <tr>\n",
       "      <th>1878</th>\n",
       "      <td>26101.0</td>\n",
       "      <td>19</td>\n",
       "      <td>m. Jelenia Góra</td>\n",
       "      <td>594.0</td>\n",
       "      <td>220.0</td>\n",
       "      <td>m. Jelenia Góra</td>\n",
       "      <td>829.0</td>\n",
       "      <td>386.0</td>\n",
       "      <td>m. Jelenia Góra</td>\n",
       "      <td>26101.0</td>\n",
       "      <td>19.0</td>\n",
       "      <td>58-506</td>\n",
       "      <td>58506.0</td>\n",
       "      <td>1541.0</td>\n",
       "      <td>13.0</td>\n",
       "      <td>642.0</td>\n",
       "      <td>381.0</td>\n",
       "      <td>177.0</td>\n",
       "      <td>59.0</td>\n",
       "      <td>1.056497</td>\n",
       "      <td>0.084746</td>\n",
       "      <td>1.395623</td>\n",
       "      <td>1.754545</td>\n",
       "      <td>-0.358923</td>\n",
       "      <td>0.358923</td>\n",
       "      <td>-0.182338</td>\n",
       "      <td>0.101954</td>\n",
       "      <td>0.182338</td>\n",
       "      <td>0.101954</td>\n",
       "      <td>-1.732007</td>\n",
       "      <td>1.732007</td>\n",
       "      <td>True</td>\n",
       "      <td>False</td>\n",
       "    </tr>\n",
       "    <tr>\n",
       "      <th>1879</th>\n",
       "      <td>26101.0</td>\n",
       "      <td>20</td>\n",
       "      <td>m. Jelenia Góra</td>\n",
       "      <td>734.0</td>\n",
       "      <td>262.0</td>\n",
       "      <td>m. Jelenia Góra</td>\n",
       "      <td>1044.0</td>\n",
       "      <td>483.0</td>\n",
       "      <td>m. Jelenia Góra</td>\n",
       "      <td>26101.0</td>\n",
       "      <td>20.0</td>\n",
       "      <td>58-506</td>\n",
       "      <td>58506.0</td>\n",
       "      <td>1541.0</td>\n",
       "      <td>13.0</td>\n",
       "      <td>642.0</td>\n",
       "      <td>381.0</td>\n",
       "      <td>177.0</td>\n",
       "      <td>59.0</td>\n",
       "      <td>2.271186</td>\n",
       "      <td>1.728814</td>\n",
       "      <td>1.422343</td>\n",
       "      <td>1.843511</td>\n",
       "      <td>-0.421168</td>\n",
       "      <td>0.421168</td>\n",
       "      <td>-0.182338</td>\n",
       "      <td>0.101954</td>\n",
       "      <td>0.182338</td>\n",
       "      <td>0.101954</td>\n",
       "      <td>-2.342535</td>\n",
       "      <td>2.342535</td>\n",
       "      <td>True</td>\n",
       "      <td>False</td>\n",
       "    </tr>\n",
       "    <tr>\n",
       "      <th>1880</th>\n",
       "      <td>26101.0</td>\n",
       "      <td>21</td>\n",
       "      <td>m. Jelenia Góra</td>\n",
       "      <td>596.0</td>\n",
       "      <td>286.0</td>\n",
       "      <td>m. Jelenia Góra</td>\n",
       "      <td>819.0</td>\n",
       "      <td>416.0</td>\n",
       "      <td>m. Jelenia Góra</td>\n",
       "      <td>26101.0</td>\n",
       "      <td>21.0</td>\n",
       "      <td>58-506</td>\n",
       "      <td>58506.0</td>\n",
       "      <td>1541.0</td>\n",
       "      <td>13.0</td>\n",
       "      <td>642.0</td>\n",
       "      <td>381.0</td>\n",
       "      <td>177.0</td>\n",
       "      <td>59.0</td>\n",
       "      <td>1.000000</td>\n",
       "      <td>0.593220</td>\n",
       "      <td>1.374161</td>\n",
       "      <td>1.454545</td>\n",
       "      <td>-0.080384</td>\n",
       "      <td>0.080384</td>\n",
       "      <td>-0.182338</td>\n",
       "      <td>0.101954</td>\n",
       "      <td>0.182338</td>\n",
       "      <td>0.101954</td>\n",
       "      <td>1.000000</td>\n",
       "      <td>-1.000000</td>\n",
       "      <td>True</td>\n",
       "      <td>False</td>\n",
       "    </tr>\n",
       "    <tr>\n",
       "      <th>1881</th>\n",
       "      <td>26101.0</td>\n",
       "      <td>22</td>\n",
       "      <td>m. Jelenia Góra</td>\n",
       "      <td>531.0</td>\n",
       "      <td>222.0</td>\n",
       "      <td>m. Jelenia Góra</td>\n",
       "      <td>756.0</td>\n",
       "      <td>381.0</td>\n",
       "      <td>m. Jelenia Góra</td>\n",
       "      <td>26101.0</td>\n",
       "      <td>22.0</td>\n",
       "      <td>58-506</td>\n",
       "      <td>58506.0</td>\n",
       "      <td>1541.0</td>\n",
       "      <td>13.0</td>\n",
       "      <td>642.0</td>\n",
       "      <td>381.0</td>\n",
       "      <td>177.0</td>\n",
       "      <td>59.0</td>\n",
       "      <td>0.644068</td>\n",
       "      <td>0.000000</td>\n",
       "      <td>1.423729</td>\n",
       "      <td>1.716216</td>\n",
       "      <td>-0.292487</td>\n",
       "      <td>0.292487</td>\n",
       "      <td>-0.182338</td>\n",
       "      <td>0.101954</td>\n",
       "      <td>0.182338</td>\n",
       "      <td>0.101954</td>\n",
       "      <td>-1.080386</td>\n",
       "      <td>1.080386</td>\n",
       "      <td>True</td>\n",
       "      <td>False</td>\n",
       "    </tr>\n",
       "    <tr>\n",
       "      <th>1882</th>\n",
       "      <td>26101.0</td>\n",
       "      <td>23</td>\n",
       "      <td>m. Jelenia Góra</td>\n",
       "      <td>389.0</td>\n",
       "      <td>215.0</td>\n",
       "      <td>m. Jelenia Góra</td>\n",
       "      <td>589.0</td>\n",
       "      <td>352.0</td>\n",
       "      <td>m. Jelenia Góra</td>\n",
       "      <td>26101.0</td>\n",
       "      <td>23.0</td>\n",
       "      <td>58-506</td>\n",
       "      <td>58506.0</td>\n",
       "      <td>1541.0</td>\n",
       "      <td>13.0</td>\n",
       "      <td>642.0</td>\n",
       "      <td>381.0</td>\n",
       "      <td>177.0</td>\n",
       "      <td>59.0</td>\n",
       "      <td>-0.299435</td>\n",
       "      <td>-0.491525</td>\n",
       "      <td>1.514139</td>\n",
       "      <td>1.637209</td>\n",
       "      <td>-0.123070</td>\n",
       "      <td>0.123070</td>\n",
       "      <td>-0.182338</td>\n",
       "      <td>0.101954</td>\n",
       "      <td>0.182338</td>\n",
       "      <td>0.101954</td>\n",
       "      <td>0.581319</td>\n",
       "      <td>-0.581319</td>\n",
       "      <td>True</td>\n",
       "      <td>False</td>\n",
       "    </tr>\n",
       "    <tr>\n",
       "      <th>1902</th>\n",
       "      <td>26101.0</td>\n",
       "      <td>43</td>\n",
       "      <td>m. Jelenia Góra</td>\n",
       "      <td>40.0</td>\n",
       "      <td>30.0</td>\n",
       "      <td>m. Jelenia Góra</td>\n",
       "      <td>74.0</td>\n",
       "      <td>39.0</td>\n",
       "      <td>m. Jelenia Góra</td>\n",
       "      <td>26101.0</td>\n",
       "      <td>43.0</td>\n",
       "      <td>58-506</td>\n",
       "      <td>58506.0</td>\n",
       "      <td>1541.0</td>\n",
       "      <td>13.0</td>\n",
       "      <td>642.0</td>\n",
       "      <td>381.0</td>\n",
       "      <td>177.0</td>\n",
       "      <td>59.0</td>\n",
       "      <td>-3.209040</td>\n",
       "      <td>-5.796610</td>\n",
       "      <td>1.850000</td>\n",
       "      <td>1.300000</td>\n",
       "      <td>0.550000</td>\n",
       "      <td>-0.550000</td>\n",
       "      <td>-0.182338</td>\n",
       "      <td>0.101954</td>\n",
       "      <td>0.182338</td>\n",
       "      <td>0.101954</td>\n",
       "      <td>7.183047</td>\n",
       "      <td>-7.183047</td>\n",
       "      <td>True</td>\n",
       "      <td>False</td>\n",
       "    </tr>\n",
       "  </tbody>\n",
       "</table>\n",
       "</div>"
      ],
      "text/plain": [
       "      Teryt Gminy  Nr komisji          Gmina_1  TRZASKOWSKI Rafał Kazimierz_1  \\\n",
       "1871      26101.0          12  m. Jelenia Góra                          226.0   \n",
       "1872      26101.0          13  m. Jelenia Góra                          321.0   \n",
       "1873      26101.0          14  m. Jelenia Góra                          384.0   \n",
       "1874      26101.0          15  m. Jelenia Góra                          304.0   \n",
       "1875      26101.0          16  m. Jelenia Góra                          447.0   \n",
       "1876      26101.0          17  m. Jelenia Góra                          523.0   \n",
       "1877      26101.0          18  m. Jelenia Góra                          713.0   \n",
       "1878      26101.0          19  m. Jelenia Góra                          594.0   \n",
       "1879      26101.0          20  m. Jelenia Góra                          734.0   \n",
       "1880      26101.0          21  m. Jelenia Góra                          596.0   \n",
       "1881      26101.0          22  m. Jelenia Góra                          531.0   \n",
       "1882      26101.0          23  m. Jelenia Góra                          389.0   \n",
       "1902      26101.0          43  m. Jelenia Góra                           40.0   \n",
       "\n",
       "      NAWROCKI Karol Tadeusz_1          Gmina_2  \\\n",
       "1871                     102.0  m. Jelenia Góra   \n",
       "1872                     133.0  m. Jelenia Góra   \n",
       "1873                     171.0  m. Jelenia Góra   \n",
       "1874                     195.0  m. Jelenia Góra   \n",
       "1875                     242.0  m. Jelenia Góra   \n",
       "1876                     239.0  m. Jelenia Góra   \n",
       "1877                     253.0  m. Jelenia Góra   \n",
       "1878                     220.0  m. Jelenia Góra   \n",
       "1879                     262.0  m. Jelenia Góra   \n",
       "1880                     286.0  m. Jelenia Góra   \n",
       "1881                     222.0  m. Jelenia Góra   \n",
       "1882                     215.0  m. Jelenia Góra   \n",
       "1902                      30.0  m. Jelenia Góra   \n",
       "\n",
       "      TRZASKOWSKI Rafał Kazimierz_2  NAWROCKI Karol Tadeusz_2  \\\n",
       "1871                          368.0                     194.0   \n",
       "1872                          496.0                     228.0   \n",
       "1873                          574.0                     283.0   \n",
       "1874                          445.0                     321.0   \n",
       "1875                          642.0                     389.0   \n",
       "1876                          738.0                     433.0   \n",
       "1877                          984.0                     440.0   \n",
       "1878                          829.0                     386.0   \n",
       "1879                         1044.0                     483.0   \n",
       "1880                          819.0                     416.0   \n",
       "1881                          756.0                     381.0   \n",
       "1882                          589.0                     352.0   \n",
       "1902                           74.0                      39.0   \n",
       "\n",
       "                Gmina  TERYT gminy  Numer Kod pocztowy      kod  group_id  \\\n",
       "1871  m. Jelenia Góra      26101.0   12.0       58-506  58506.0    1541.0   \n",
       "1872  m. Jelenia Góra      26101.0   13.0       58-506  58506.0    1541.0   \n",
       "1873  m. Jelenia Góra      26101.0   14.0       58-506  58506.0    1541.0   \n",
       "1874  m. Jelenia Góra      26101.0   15.0       58-506  58506.0    1541.0   \n",
       "1875  m. Jelenia Góra      26101.0   16.0       58-506  58506.0    1541.0   \n",
       "1876  m. Jelenia Góra      26101.0   17.0       58-506  58506.0    1541.0   \n",
       "1877  m. Jelenia Góra      26101.0   18.0       58-506  58506.0    1541.0   \n",
       "1878  m. Jelenia Góra      26101.0   19.0       58-506  58506.0    1541.0   \n",
       "1879  m. Jelenia Góra      26101.0   20.0       58-506  58506.0    1541.0   \n",
       "1880  m. Jelenia Góra      26101.0   21.0       58-506  58506.0    1541.0   \n",
       "1881  m. Jelenia Góra      26101.0   22.0       58-506  58506.0    1541.0   \n",
       "1882  m. Jelenia Góra      26101.0   23.0       58-506  58506.0    1541.0   \n",
       "1902  m. Jelenia Góra      26101.0   43.0       58-506  58506.0    1541.0   \n",
       "\n",
       "      liczba komisji w grupie  TRZASKOWSKI Rafał Kazimierz_mediana_2  \\\n",
       "1871                     13.0                                  642.0   \n",
       "1872                     13.0                                  642.0   \n",
       "1873                     13.0                                  642.0   \n",
       "1874                     13.0                                  642.0   \n",
       "1875                     13.0                                  642.0   \n",
       "1876                     13.0                                  642.0   \n",
       "1877                     13.0                                  642.0   \n",
       "1878                     13.0                                  642.0   \n",
       "1879                     13.0                                  642.0   \n",
       "1880                     13.0                                  642.0   \n",
       "1881                     13.0                                  642.0   \n",
       "1882                     13.0                                  642.0   \n",
       "1902                     13.0                                  642.0   \n",
       "\n",
       "      NAWROCKI Karol Tadeusz_mediana_2  TRZASKOWSKI Rafał Kazimierz_MAD_2  \\\n",
       "1871                             381.0                              177.0   \n",
       "1872                             381.0                              177.0   \n",
       "1873                             381.0                              177.0   \n",
       "1874                             381.0                              177.0   \n",
       "1875                             381.0                              177.0   \n",
       "1876                             381.0                              177.0   \n",
       "1877                             381.0                              177.0   \n",
       "1878                             381.0                              177.0   \n",
       "1879                             381.0                              177.0   \n",
       "1880                             381.0                              177.0   \n",
       "1881                             381.0                              177.0   \n",
       "1882                             381.0                              177.0   \n",
       "1902                             381.0                              177.0   \n",
       "\n",
       "      NAWROCKI Karol Tadeusz_MAD_2  TRZASKOWSKI Rafał Kazimierz_k_analiza_1  \\\n",
       "1871                          59.0                                -1.548023   \n",
       "1872                          59.0                                -0.824859   \n",
       "1873                          59.0                                -0.384181   \n",
       "1874                          59.0                                -1.112994   \n",
       "1875                          59.0                                 0.000000   \n",
       "1876                          59.0                                 0.542373   \n",
       "1877                          59.0                                 1.932203   \n",
       "1878                          59.0                                 1.056497   \n",
       "1879                          59.0                                 2.271186   \n",
       "1880                          59.0                                 1.000000   \n",
       "1881                          59.0                                 0.644068   \n",
       "1882                          59.0                                -0.299435   \n",
       "1902                          59.0                                -3.209040   \n",
       "\n",
       "      NAWROCKI Karol Tadeusz_k_analiza_1  TRZASKOWSKI Rafał Kazimierz_wzrost  \\\n",
       "1871                           -3.169492                            1.628319   \n",
       "1872                           -2.593220                            1.545171   \n",
       "1873                           -1.661017                            1.494792   \n",
       "1874                           -1.016949                            1.463816   \n",
       "1875                            0.135593                            1.436242   \n",
       "1876                            0.881356                            1.411090   \n",
       "1877                            1.000000                            1.380084   \n",
       "1878                            0.084746                            1.395623   \n",
       "1879                            1.728814                            1.422343   \n",
       "1880                            0.593220                            1.374161   \n",
       "1881                            0.000000                            1.423729   \n",
       "1882                           -0.491525                            1.514139   \n",
       "1902                           -5.796610                            1.850000   \n",
       "\n",
       "      NAWROCKI Karol Tadeusz_wzrost  roz_wzr_TRZASKOWSKI Rafał Kazimierz  \\\n",
       "1871                       1.901961                            -0.273642   \n",
       "1872                       1.714286                            -0.169114   \n",
       "1873                       1.654971                            -0.160179   \n",
       "1874                       1.646154                            -0.182338   \n",
       "1875                       1.607438                            -0.171196   \n",
       "1876                       1.811715                            -0.400626   \n",
       "1877                       1.739130                            -0.359046   \n",
       "1878                       1.754545                            -0.358923   \n",
       "1879                       1.843511                            -0.421168   \n",
       "1880                       1.454545                            -0.080384   \n",
       "1881                       1.716216                            -0.292487   \n",
       "1882                       1.637209                            -0.123070   \n",
       "1902                       1.300000                             0.550000   \n",
       "\n",
       "      roz_wzr_NAWROCKI Karol Tadeusz  \\\n",
       "1871                        0.273642   \n",
       "1872                        0.169114   \n",
       "1873                        0.160179   \n",
       "1874                        0.182338   \n",
       "1875                        0.171196   \n",
       "1876                        0.400626   \n",
       "1877                        0.359046   \n",
       "1878                        0.358923   \n",
       "1879                        0.421168   \n",
       "1880                        0.080384   \n",
       "1881                        0.292487   \n",
       "1882                        0.123070   \n",
       "1902                       -0.550000   \n",
       "\n",
       "      roz_wzr_TRZASKOWSKI Rafał Kazimierz_mediana  \\\n",
       "1871                                    -0.182338   \n",
       "1872                                    -0.182338   \n",
       "1873                                    -0.182338   \n",
       "1874                                    -0.182338   \n",
       "1875                                    -0.182338   \n",
       "1876                                    -0.182338   \n",
       "1877                                    -0.182338   \n",
       "1878                                    -0.182338   \n",
       "1879                                    -0.182338   \n",
       "1880                                    -0.182338   \n",
       "1881                                    -0.182338   \n",
       "1882                                    -0.182338   \n",
       "1902                                    -0.182338   \n",
       "\n",
       "      roz_wzr_TRZASKOWSKI Rafał Kazimierz_MAD  \\\n",
       "1871                                 0.101954   \n",
       "1872                                 0.101954   \n",
       "1873                                 0.101954   \n",
       "1874                                 0.101954   \n",
       "1875                                 0.101954   \n",
       "1876                                 0.101954   \n",
       "1877                                 0.101954   \n",
       "1878                                 0.101954   \n",
       "1879                                 0.101954   \n",
       "1880                                 0.101954   \n",
       "1881                                 0.101954   \n",
       "1882                                 0.101954   \n",
       "1902                                 0.101954   \n",
       "\n",
       "      roz_wzr_NAWROCKI Karol Tadeusz_mediana  \\\n",
       "1871                                0.182338   \n",
       "1872                                0.182338   \n",
       "1873                                0.182338   \n",
       "1874                                0.182338   \n",
       "1875                                0.182338   \n",
       "1876                                0.182338   \n",
       "1877                                0.182338   \n",
       "1878                                0.182338   \n",
       "1879                                0.182338   \n",
       "1880                                0.182338   \n",
       "1881                                0.182338   \n",
       "1882                                0.182338   \n",
       "1902                                0.182338   \n",
       "\n",
       "      roz_wzr_NAWROCKI Karol Tadeusz_MAD  \\\n",
       "1871                            0.101954   \n",
       "1872                            0.101954   \n",
       "1873                            0.101954   \n",
       "1874                            0.101954   \n",
       "1875                            0.101954   \n",
       "1876                            0.101954   \n",
       "1877                            0.101954   \n",
       "1878                            0.101954   \n",
       "1879                            0.101954   \n",
       "1880                            0.101954   \n",
       "1881                            0.101954   \n",
       "1882                            0.101954   \n",
       "1902                            0.101954   \n",
       "\n",
       "      TRZASKOWSKI Rafał Kazimierz_k_analiza_2  \\\n",
       "1871                                -0.895545   \n",
       "1872                                 0.129703   \n",
       "1873                                 0.217343   \n",
       "1874                                 0.000000   \n",
       "1875                                 0.109282   \n",
       "1876                                -2.141046   \n",
       "1877                                -1.733221   \n",
       "1878                                -1.732007   \n",
       "1879                                -2.342535   \n",
       "1880                                 1.000000   \n",
       "1881                                -1.080386   \n",
       "1882                                 0.581319   \n",
       "1902                                 7.183047   \n",
       "\n",
       "      NAWROCKI Karol Tadeusz_k_analiza_2  \\\n",
       "1871                            0.895545   \n",
       "1872                           -0.129703   \n",
       "1873                           -0.217343   \n",
       "1874                            0.000000   \n",
       "1875                           -0.109282   \n",
       "1876                            2.141046   \n",
       "1877                            1.733221   \n",
       "1878                            1.732007   \n",
       "1879                            2.342535   \n",
       "1880                           -1.000000   \n",
       "1881                            1.080386   \n",
       "1882                           -0.581319   \n",
       "1902                           -7.183047   \n",
       "\n",
       "      wieksza_mediana_TRZASKOWSKI Rafał Kazimierz  \\\n",
       "1871                                         True   \n",
       "1872                                         True   \n",
       "1873                                         True   \n",
       "1874                                         True   \n",
       "1875                                         True   \n",
       "1876                                         True   \n",
       "1877                                         True   \n",
       "1878                                         True   \n",
       "1879                                         True   \n",
       "1880                                         True   \n",
       "1881                                         True   \n",
       "1882                                         True   \n",
       "1902                                         True   \n",
       "\n",
       "      wieksza_mediana_NAWROCKI Karol Tadeusz  \n",
       "1871                                   False  \n",
       "1872                                   False  \n",
       "1873                                   False  \n",
       "1874                                   False  \n",
       "1875                                   False  \n",
       "1876                                   False  \n",
       "1877                                   False  \n",
       "1878                                   False  \n",
       "1879                                   False  \n",
       "1880                                   False  \n",
       "1881                                   False  \n",
       "1882                                   False  \n",
       "1902                                   False  "
      ]
     },
     "execution_count": 52,
     "metadata": {},
     "output_type": "execute_result"
    }
   ],
   "source": [
    "df[df['group_id']==1541]"
   ]
  },
  {
   "cell_type": "code",
   "execution_count": null,
   "id": "531825cc",
   "metadata": {},
   "outputs": [],
   "source": []
  }
 ],
 "metadata": {
  "kernelspec": {
   "display_name": "p39all",
   "language": "python",
   "name": "p39all"
  },
  "language_info": {
   "codemirror_mode": {
    "name": "ipython",
    "version": 3
   },
   "file_extension": ".py",
   "mimetype": "text/x-python",
   "name": "python",
   "nbconvert_exporter": "python",
   "pygments_lexer": "ipython3",
   "version": "3.9.7"
  }
 },
 "nbformat": 4,
 "nbformat_minor": 5
}

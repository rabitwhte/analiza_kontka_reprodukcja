{
 "cells": [
  {
   "cell_type": "code",
   "execution_count": 37,
   "id": "e85645de",
   "metadata": {},
   "outputs": [],
   "source": [
    "import pandas as pd\n",
    "import numpy as np\n",
    "pd.set_option('display.max_columns', 100)"
   ]
  },
  {
   "cell_type": "code",
   "execution_count": 38,
   "id": "0ec7a862",
   "metadata": {},
   "outputs": [],
   "source": [
    "obwody = pd.read_csv('./obwody_glosowania_utf8.csv', sep=';')"
   ]
  },
  {
   "cell_type": "code",
   "execution_count": 39,
   "id": "b3f6df41",
   "metadata": {},
   "outputs": [],
   "source": [
    "obwody = obwody[['Gmina','TERYT gminy','Numer', 'Kod pocztowy']]"
   ]
  },
  {
   "cell_type": "code",
   "execution_count": 40,
   "id": "2861addb",
   "metadata": {},
   "outputs": [],
   "source": [
    "obwody = obwody.dropna()"
   ]
  },
  {
   "cell_type": "code",
   "execution_count": 41,
   "id": "289dd857",
   "metadata": {},
   "outputs": [
    {
     "data": {
      "text/html": [
       "<div>\n",
       "<style scoped>\n",
       "    .dataframe tbody tr th:only-of-type {\n",
       "        vertical-align: middle;\n",
       "    }\n",
       "\n",
       "    .dataframe tbody tr th {\n",
       "        vertical-align: top;\n",
       "    }\n",
       "\n",
       "    .dataframe thead th {\n",
       "        text-align: right;\n",
       "    }\n",
       "</style>\n",
       "<table border=\"1\" class=\"dataframe\">\n",
       "  <thead>\n",
       "    <tr style=\"text-align: right;\">\n",
       "      <th></th>\n",
       "      <th>Gmina</th>\n",
       "      <th>TERYT gminy</th>\n",
       "      <th>Numer</th>\n",
       "      <th>Kod pocztowy</th>\n",
       "    </tr>\n",
       "  </thead>\n",
       "  <tbody>\n",
       "    <tr>\n",
       "      <th>0</th>\n",
       "      <td>m. Bolesławiec</td>\n",
       "      <td>20101.0</td>\n",
       "      <td>1</td>\n",
       "      <td>59-700</td>\n",
       "    </tr>\n",
       "    <tr>\n",
       "      <th>1</th>\n",
       "      <td>m. Bolesławiec</td>\n",
       "      <td>20101.0</td>\n",
       "      <td>2</td>\n",
       "      <td>59-700</td>\n",
       "    </tr>\n",
       "  </tbody>\n",
       "</table>\n",
       "</div>"
      ],
      "text/plain": [
       "            Gmina  TERYT gminy  Numer Kod pocztowy\n",
       "0  m. Bolesławiec      20101.0      1       59-700\n",
       "1  m. Bolesławiec      20101.0      2       59-700"
      ]
     },
     "execution_count": 41,
     "metadata": {},
     "output_type": "execute_result"
    }
   ],
   "source": [
    "obwody.head(2)"
   ]
  },
  {
   "cell_type": "markdown",
   "id": "e6b8fa24",
   "metadata": {},
   "source": [
    "# Klastrowanie\n",
    "\n",
    "Z artykułu:\n",
    "1. Początkowe grupowanie oparto na pierwszych dwóch cyfrach kodu pocztowego (np. „30” dla obszaru Krakowa).\n",
    "2. Jeżeli powstała grupa zawierała od 10 do 16 komisji, została zaakceptowana bez zmian.\n",
    "3. Grupy liczące mniej niż 10 komisji odłożono do późniejszego łączenia.\n",
    "4. Grupy przekraczające 16 komisji dzielono rekurencyjnie, dodając kolejne cyfry kodu\n",
    "    pocztowego (np. z „30” → „301” → „3011” i dalej, aż do pełnych pięciu cyfr).\n",
    "5. Pozostałe małe grupy łączono z najbliższymi sąsiadami mającymi ten sam prefiks, przy czym\n",
    "    priorytetem była ciągłość przestrzenna i zrównoważona liczebność grup.\n",
    "    W odróżnieniu od wcześniejszego podejścia, które dopuszczało grupy o wielkości 10–25 komisji,\n",
    "    niniejsze badanie przyjęło węższy zakres docelowy: od 10 do 16 komisji na grupę\n",
    "   \n",
    "   \n",
    "Komentarz: Algorytm z artykułu nie jest deterministyczny (niejednoznacznie wskazuje co się dzieje z grupami liczącymi mniej niż 10 komisji do ponownego połączenia) nie da się go więc odtworzyć na podstawie jego opisu. Dlatego właśnie rzetelne artykułu zawierają kod źródłowy umożliwiający reprodukcję."
   ]
  },
  {
   "cell_type": "code",
   "execution_count": 42,
   "id": "18aa8301",
   "metadata": {},
   "outputs": [],
   "source": [
    "import pandas as pd\n",
    "from collections import defaultdict\n",
    "\n",
    "def assign_groups(df: pd.DataFrame,\n",
    "                  code_col: str = \"kod\",\n",
    "                  min_size: int = 10,\n",
    "                  max_size: int = 16,\n",
    ") -> pd.DataFrame:\n",
    "    \"\"\"\n",
    "    Zwraca kopię df z nową kolumną `group_id` zawierającą numer grupy\n",
    "    spełniającej warunki 10 ≤ n ≤ 16.\n",
    "    \"\"\"\n",
    "\n",
    "    # 0. Normalizacja kodu do stałej długości 5 znaków (str)\n",
    "    work = df.copy()\n",
    "    work[\"_code_str\"] = work[code_col].astype(str).str.zfill(5)\n",
    "\n",
    "    accepted = {}                # {prefix: list[index]}\n",
    "    small     = {}               # prefixy < min_size (do późniejszego łączenia)\n",
    "\n",
    "    # 1. Rekurencyjne dzielenie dużych grup\n",
    "    def split(prefix: str, idxs: list[int], depth: int):\n",
    "        size = len(idxs)\n",
    "\n",
    "        # a) gotowa grupa\n",
    "        if min_size <= size <= max_size or depth == 5:\n",
    "            accepted[prefix] = idxs\n",
    "            return\n",
    "        # b) za mała – zapisz do późniejszego łączenia\n",
    "        if size < min_size:\n",
    "            small[prefix] = idxs\n",
    "            return\n",
    "        # c) za duża – dziel głębiej\n",
    "        next_depth = depth + 1\n",
    "        sub_prefixes = work.loc[idxs, \"_code_str\"].str[:next_depth]\n",
    "        for sub_pref, sub_idxs in work.loc[idxs].groupby(sub_prefixes).groups.items():\n",
    "            split(sub_pref, list(sub_idxs), next_depth)\n",
    "\n",
    "    # start od 2-cyfrowych\n",
    "    for pref2, grp in work.groupby(work[\"_code_str\"].str[:2]).groups.items():\n",
    "        split(pref2, list(grp), depth=2)\n",
    "\n",
    "    # 2. Łączenie małych grup w obrębie tych samych 2-cyfrowych prefiksów\n",
    "    buckets = defaultdict(list)          # {pref2: [(pref, idxs), ...]}\n",
    "    for p, idxs in small.items():\n",
    "        buckets[p[:2]].append((p, idxs))\n",
    "\n",
    "    for pref2, lst in buckets.items():\n",
    "        # uporządkuj rosnąco wg wartości prefiksu → przybliżenie \"sąsiedztwa\"\n",
    "        lst.sort(key=lambda x: int(x[0]))\n",
    "        buf_idx, buf_pref = [], []\n",
    "\n",
    "        for p, idxs in lst:\n",
    "            buf_idx.extend(idxs)\n",
    "            buf_pref.append(p)\n",
    "\n",
    "            if len(buf_idx) >= min_size:\n",
    "                # jeśli przypadkiem > max_size, tnij w kawałki\n",
    "                while len(buf_idx) > max_size:\n",
    "                    accepted[f\"{pref2}_{len(accepted)}\"] = buf_idx[:max_size]\n",
    "                    buf_idx = buf_idx[max_size:]\n",
    "                accepted[\"+\".join(buf_pref)] = buf_idx\n",
    "                buf_idx, buf_pref = [], []\n",
    "\n",
    "        # resztka < 10 – dociągamy do ostatniej grupy z tego prefiksu\n",
    "        if buf_idx:\n",
    "            *_, last_key = [k for k in accepted.keys() if k.startswith(pref2)]\n",
    "            accepted[last_key].extend(buf_idx)\n",
    "\n",
    "    # 3. Ostateczne przypisanie numerów\n",
    "    idx2gid = {}\n",
    "    for gid, (_, lst) in enumerate(accepted.items()):\n",
    "        for i in lst:\n",
    "            idx2gid[i] = gid\n",
    "\n",
    "    work[\"group_id\"] = work.index.map(idx2gid)\n",
    "\n",
    "    return work.drop(columns=\"_code_str\")"
   ]
  },
  {
   "cell_type": "code",
   "execution_count": 43,
   "id": "a16602ce",
   "metadata": {},
   "outputs": [],
   "source": [
    "obwody['kod'] = obwody['Kod pocztowy'].str.replace('-','').astype(int) \n",
    "\n",
    "obwody = assign_groups(obwody, code_col='kod')"
   ]
  },
  {
   "cell_type": "markdown",
   "id": "c1c3d0a3",
   "metadata": {},
   "source": [
    "Z artykułu:\n",
    "\n",
    "\"Większość grup spełniła założony docelowy rozmiar: 1 386 grup (62,8%) zawierało od 10 do 16\n",
    "komisji, a 2 017 grup (91,3%) zawierało od 6 do 30 komisji. Większe grupy zazwyczaj odpowiadały 5\n",
    "obszarom miejskim — na przykład takim jak Toruń czy Włocławek, gdzie pojedynczy kod pocztowy\n",
    "obejmował całe miasto\""
   ]
  },
  {
   "cell_type": "code",
   "execution_count": 44,
   "id": "22f6a7b8",
   "metadata": {},
   "outputs": [
    {
     "data": {
      "text/plain": [
       "1223"
      ]
     },
     "execution_count": 44,
     "metadata": {},
     "output_type": "execute_result"
    }
   ],
   "source": [
    "# między 10 a 16\n",
    "sum((obwody['group_id'].value_counts()>=10) & (obwody['group_id'].value_counts()<=16))"
   ]
  },
  {
   "cell_type": "code",
   "execution_count": 45,
   "id": "e1ea9b94",
   "metadata": {},
   "outputs": [
    {
     "data": {
      "text/plain": [
       "1925"
      ]
     },
     "execution_count": 45,
     "metadata": {},
     "output_type": "execute_result"
    }
   ],
   "source": [
    "# między 6 a 30\n",
    "sum((obwody['group_id'].value_counts()>=6) & (obwody['group_id'].value_counts()<=30))"
   ]
  },
  {
   "cell_type": "code",
   "execution_count": 46,
   "id": "21dfceef",
   "metadata": {},
   "outputs": [
    {
     "data": {
      "text/html": [
       "<div>\n",
       "<style scoped>\n",
       "    .dataframe tbody tr th:only-of-type {\n",
       "        vertical-align: middle;\n",
       "    }\n",
       "\n",
       "    .dataframe tbody tr th {\n",
       "        vertical-align: top;\n",
       "    }\n",
       "\n",
       "    .dataframe thead th {\n",
       "        text-align: right;\n",
       "    }\n",
       "</style>\n",
       "<table border=\"1\" class=\"dataframe\">\n",
       "  <thead>\n",
       "    <tr style=\"text-align: right;\">\n",
       "      <th></th>\n",
       "      <th>Gmina</th>\n",
       "      <th>TERYT gminy</th>\n",
       "      <th>Numer</th>\n",
       "      <th>Kod pocztowy</th>\n",
       "      <th>kod</th>\n",
       "      <th>group_id</th>\n",
       "    </tr>\n",
       "  </thead>\n",
       "  <tbody>\n",
       "    <tr>\n",
       "      <th>4100</th>\n",
       "      <td>m. Toruń</td>\n",
       "      <td>46301.0</td>\n",
       "      <td>1</td>\n",
       "      <td>87-100</td>\n",
       "      <td>87100</td>\n",
       "      <td>2150</td>\n",
       "    </tr>\n",
       "    <tr>\n",
       "      <th>4101</th>\n",
       "      <td>m. Toruń</td>\n",
       "      <td>46301.0</td>\n",
       "      <td>2</td>\n",
       "      <td>87-100</td>\n",
       "      <td>87100</td>\n",
       "      <td>2150</td>\n",
       "    </tr>\n",
       "    <tr>\n",
       "      <th>4102</th>\n",
       "      <td>m. Toruń</td>\n",
       "      <td>46301.0</td>\n",
       "      <td>3</td>\n",
       "      <td>87-100</td>\n",
       "      <td>87100</td>\n",
       "      <td>2150</td>\n",
       "    </tr>\n",
       "    <tr>\n",
       "      <th>4103</th>\n",
       "      <td>m. Toruń</td>\n",
       "      <td>46301.0</td>\n",
       "      <td>4</td>\n",
       "      <td>87-100</td>\n",
       "      <td>87100</td>\n",
       "      <td>2150</td>\n",
       "    </tr>\n",
       "    <tr>\n",
       "      <th>4104</th>\n",
       "      <td>m. Toruń</td>\n",
       "      <td>46301.0</td>\n",
       "      <td>5</td>\n",
       "      <td>87-100</td>\n",
       "      <td>87100</td>\n",
       "      <td>2150</td>\n",
       "    </tr>\n",
       "    <tr>\n",
       "      <th>...</th>\n",
       "      <td>...</td>\n",
       "      <td>...</td>\n",
       "      <td>...</td>\n",
       "      <td>...</td>\n",
       "      <td>...</td>\n",
       "      <td>...</td>\n",
       "    </tr>\n",
       "    <tr>\n",
       "      <th>4221</th>\n",
       "      <td>m. Toruń</td>\n",
       "      <td>46301.0</td>\n",
       "      <td>122</td>\n",
       "      <td>87-100</td>\n",
       "      <td>87100</td>\n",
       "      <td>2150</td>\n",
       "    </tr>\n",
       "    <tr>\n",
       "      <th>4222</th>\n",
       "      <td>m. Toruń</td>\n",
       "      <td>46301.0</td>\n",
       "      <td>123</td>\n",
       "      <td>87-100</td>\n",
       "      <td>87100</td>\n",
       "      <td>2150</td>\n",
       "    </tr>\n",
       "    <tr>\n",
       "      <th>4223</th>\n",
       "      <td>m. Toruń</td>\n",
       "      <td>46301.0</td>\n",
       "      <td>124</td>\n",
       "      <td>87-100</td>\n",
       "      <td>87100</td>\n",
       "      <td>2150</td>\n",
       "    </tr>\n",
       "    <tr>\n",
       "      <th>4224</th>\n",
       "      <td>m. Toruń</td>\n",
       "      <td>46301.0</td>\n",
       "      <td>125</td>\n",
       "      <td>87-100</td>\n",
       "      <td>87100</td>\n",
       "      <td>2150</td>\n",
       "    </tr>\n",
       "    <tr>\n",
       "      <th>4225</th>\n",
       "      <td>m. Toruń</td>\n",
       "      <td>46301.0</td>\n",
       "      <td>126</td>\n",
       "      <td>87-100</td>\n",
       "      <td>87100</td>\n",
       "      <td>2150</td>\n",
       "    </tr>\n",
       "  </tbody>\n",
       "</table>\n",
       "<p>126 rows × 6 columns</p>\n",
       "</div>"
      ],
      "text/plain": [
       "         Gmina  TERYT gminy  Numer Kod pocztowy    kod  group_id\n",
       "4100  m. Toruń      46301.0      1       87-100  87100      2150\n",
       "4101  m. Toruń      46301.0      2       87-100  87100      2150\n",
       "4102  m. Toruń      46301.0      3       87-100  87100      2150\n",
       "4103  m. Toruń      46301.0      4       87-100  87100      2150\n",
       "4104  m. Toruń      46301.0      5       87-100  87100      2150\n",
       "...        ...          ...    ...          ...    ...       ...\n",
       "4221  m. Toruń      46301.0    122       87-100  87100      2150\n",
       "4222  m. Toruń      46301.0    123       87-100  87100      2150\n",
       "4223  m. Toruń      46301.0    124       87-100  87100      2150\n",
       "4224  m. Toruń      46301.0    125       87-100  87100      2150\n",
       "4225  m. Toruń      46301.0    126       87-100  87100      2150\n",
       "\n",
       "[126 rows x 6 columns]"
      ]
     },
     "execution_count": 46,
     "metadata": {},
     "output_type": "execute_result"
    }
   ],
   "source": [
    "# duże grupy\n",
    "obwody[obwody['group_id']==2150]"
   ]
  },
  {
   "cell_type": "code",
   "execution_count": 47,
   "id": "68e1cd2d",
   "metadata": {},
   "outputs": [],
   "source": [
    "# usun grupy mniej niz 3-komisjowe\n",
    "obwody['liczba komisji w grupie']  = obwody.groupby('group_id').transform('count')['kod']\n",
    "obwody = obwody[obwody['liczba komisji w grupie']>3]"
   ]
  },
  {
   "cell_type": "code",
   "execution_count": 48,
   "id": "fb22ee37",
   "metadata": {},
   "outputs": [
    {
     "data": {
      "text/plain": [
       "30553"
      ]
     },
     "execution_count": 48,
     "metadata": {},
     "output_type": "execute_result"
    }
   ],
   "source": [
    "len(obwody)"
   ]
  },
  {
   "cell_type": "markdown",
   "id": "e5861f01",
   "metadata": {},
   "source": [
    "# Wyniki głosowania"
   ]
  },
  {
   "cell_type": "code",
   "execution_count": 49,
   "id": "f26a4244",
   "metadata": {},
   "outputs": [],
   "source": [
    "p = pd.read_csv('./protokoly_po_obwodach_utf8.csv', sep=';')\n",
    "d = pd.read_csv('./protokoly_po_obwodach_w_drugiej_turze_utf8.csv', sep=';')\n"
   ]
  },
  {
   "cell_type": "code",
   "execution_count": 50,
   "id": "bae27673",
   "metadata": {},
   "outputs": [],
   "source": [
    "keep = ['Teryt Gminy', 'Nr komisji', 'Gmina', 'TRZASKOWSKI Rafał Kazimierz', 'NAWROCKI Karol Tadeusz']"
   ]
  },
  {
   "cell_type": "code",
   "execution_count": 51,
   "id": "6353e916",
   "metadata": {},
   "outputs": [],
   "source": [
    "p = p[keep].dropna()\n",
    "d = d[keep].dropna()"
   ]
  },
  {
   "cell_type": "code",
   "execution_count": 52,
   "id": "fbb6f73c",
   "metadata": {},
   "outputs": [
    {
     "data": {
      "text/html": [
       "<div>\n",
       "<style scoped>\n",
       "    .dataframe tbody tr th:only-of-type {\n",
       "        vertical-align: middle;\n",
       "    }\n",
       "\n",
       "    .dataframe tbody tr th {\n",
       "        vertical-align: top;\n",
       "    }\n",
       "\n",
       "    .dataframe thead th {\n",
       "        text-align: right;\n",
       "    }\n",
       "</style>\n",
       "<table border=\"1\" class=\"dataframe\">\n",
       "  <thead>\n",
       "    <tr style=\"text-align: right;\">\n",
       "      <th></th>\n",
       "      <th>Teryt Gminy</th>\n",
       "      <th>Nr komisji</th>\n",
       "      <th>Gmina</th>\n",
       "      <th>TRZASKOWSKI Rafał Kazimierz</th>\n",
       "      <th>NAWROCKI Karol Tadeusz</th>\n",
       "    </tr>\n",
       "  </thead>\n",
       "  <tbody>\n",
       "    <tr>\n",
       "      <th>0</th>\n",
       "      <td>20101.0</td>\n",
       "      <td>1</td>\n",
       "      <td>m. Bolesławiec</td>\n",
       "      <td>361.0</td>\n",
       "      <td>287.0</td>\n",
       "    </tr>\n",
       "    <tr>\n",
       "      <th>1</th>\n",
       "      <td>20101.0</td>\n",
       "      <td>2</td>\n",
       "      <td>m. Bolesławiec</td>\n",
       "      <td>381.0</td>\n",
       "      <td>228.0</td>\n",
       "    </tr>\n",
       "  </tbody>\n",
       "</table>\n",
       "</div>"
      ],
      "text/plain": [
       "   Teryt Gminy  Nr komisji           Gmina  TRZASKOWSKI Rafał Kazimierz  \\\n",
       "0      20101.0           1  m. Bolesławiec                        361.0   \n",
       "1      20101.0           2  m. Bolesławiec                        381.0   \n",
       "\n",
       "   NAWROCKI Karol Tadeusz  \n",
       "0                   287.0  \n",
       "1                   228.0  "
      ]
     },
     "execution_count": 52,
     "metadata": {},
     "output_type": "execute_result"
    }
   ],
   "source": [
    "p.head(2)"
   ]
  },
  {
   "cell_type": "code",
   "execution_count": 53,
   "id": "b2326ae4",
   "metadata": {},
   "outputs": [],
   "source": [
    "# polacz 1 i 2 tura"
   ]
  },
  {
   "cell_type": "code",
   "execution_count": 54,
   "id": "a3005ff5",
   "metadata": {},
   "outputs": [],
   "source": [
    "df = pd.merge(\n",
    "    left=p, \n",
    "    right=d,\n",
    "    how='left',\n",
    "    left_on=['Teryt Gminy', 'Nr komisji'],\n",
    "    right_on=['Teryt Gminy', 'Nr komisji'],\n",
    "    suffixes = ('_1', '_2')\n",
    ")"
   ]
  },
  {
   "cell_type": "code",
   "execution_count": 55,
   "id": "e5bb83d9",
   "metadata": {},
   "outputs": [],
   "source": [
    "# polacz z obwodami"
   ]
  },
  {
   "cell_type": "code",
   "execution_count": 56,
   "id": "d2310559",
   "metadata": {},
   "outputs": [],
   "source": [
    "df = pd.merge(\n",
    "    left=df, \n",
    "    right=obwody,\n",
    "    how='left',\n",
    "    left_on=['Teryt Gminy', 'Nr komisji'],\n",
    "    right_on=['TERYT gminy', 'Numer'],\n",
    ")\n"
   ]
  },
  {
   "cell_type": "code",
   "execution_count": 57,
   "id": "4cc59fd1",
   "metadata": {},
   "outputs": [],
   "source": [
    "from copy import copy\n",
    "df = copy(df.dropna())"
   ]
  },
  {
   "cell_type": "markdown",
   "id": "36afe472",
   "metadata": {},
   "source": [
    "# Reprodukcja Analizy z artykułu dla obu kandydatów"
   ]
  },
  {
   "cell_type": "markdown",
   "id": "1eab2551",
   "metadata": {},
   "source": [
    "## 1. Nadmierne poparcie dla Karola Nawrockiego (względem mediany w ramach lokalnej grupy)"
   ]
  },
  {
   "cell_type": "code",
   "execution_count": 58,
   "id": "f17a4380",
   "metadata": {},
   "outputs": [],
   "source": [
    "kandydat_A = \"TRZASKOWSKI Rafał Kazimierz\"\n",
    "kandydat_B = \"NAWROCKI Karol Tadeusz\""
   ]
  },
  {
   "cell_type": "code",
   "execution_count": 59,
   "id": "7981200b",
   "metadata": {},
   "outputs": [],
   "source": [
    "# mediana w grupie\n",
    "df[kandydat_A + '_mediana_2'] = df.groupby('group_id')[kandydat_A+'_2'].transform('median')\n",
    "df[kandydat_B + '_mediana_2'] = df.groupby('group_id')[kandydat_B+'_2'].transform('median')"
   ]
  },
  {
   "cell_type": "code",
   "execution_count": 60,
   "id": "ca3e98c4",
   "metadata": {},
   "outputs": [],
   "source": [
    "# MAD w grupie\n",
    "from scipy.stats import median_abs_deviation\n",
    "def mad(series):\n",
    "    \"\"\"Median Absolute Deviation\"\"\"\n",
    "    return median_abs_deviation(series)\n",
    "\n",
    "df[kandydat_A + \"_MAD_2\"] = df.groupby(\"group_id\")[kandydat_A+'_2'].transform(mad)\n",
    "df[kandydat_B + \"_MAD_2\"] = df.groupby(\"group_id\")[kandydat_B+'_2'].transform(mad)"
   ]
  },
  {
   "cell_type": "code",
   "execution_count": 61,
   "id": "f1caeafc",
   "metadata": {},
   "outputs": [],
   "source": [
    "# wspolczynnik k"
   ]
  },
  {
   "cell_type": "code",
   "execution_count": 62,
   "id": "f4c3d1b4",
   "metadata": {},
   "outputs": [],
   "source": [
    "df[kandydat_A +'_k_analiza_1'] = (df[kandydat_A +'_2'] - df[kandydat_A + '_mediana_2'])/df[kandydat_A + '_MAD_2']"
   ]
  },
  {
   "cell_type": "code",
   "execution_count": 63,
   "id": "820d7b78",
   "metadata": {},
   "outputs": [],
   "source": [
    "df[kandydat_B +'_k_analiza_1'] = (df[kandydat_B +'_2'] - df[kandydat_B + '_mediana_2'])/df[kandydat_B + '_MAD_2']"
   ]
  },
  {
   "cell_type": "code",
   "execution_count": 64,
   "id": "d2374042",
   "metadata": {},
   "outputs": [],
   "source": [
    "k = 3"
   ]
  },
  {
   "cell_type": "code",
   "execution_count": 65,
   "id": "baeab370",
   "metadata": {},
   "outputs": [
    {
     "data": {
      "text/plain": [
       "('TRZASKOWSKI Rafał Kazimierz', 2794)"
      ]
     },
     "execution_count": 65,
     "metadata": {},
     "output_type": "execute_result"
    }
   ],
   "source": [
    "kandydat_A, sum(df[kandydat_A +'_k_analiza_1']>k)"
   ]
  },
  {
   "cell_type": "code",
   "execution_count": 66,
   "id": "0123ff3d",
   "metadata": {},
   "outputs": [
    {
     "data": {
      "text/plain": [
       "('NAWROCKI Karol Tadeusz', 2015)"
      ]
     },
     "execution_count": 66,
     "metadata": {},
     "output_type": "execute_result"
    }
   ],
   "source": [
    "kandydat_B, sum(df[kandydat_B +'_k_analiza_1']>k)"
   ]
  },
  {
   "cell_type": "code",
   "execution_count": 67,
   "id": "231369f8",
   "metadata": {},
   "outputs": [],
   "source": [
    "k = 2"
   ]
  },
  {
   "cell_type": "code",
   "execution_count": 68,
   "id": "187ed177",
   "metadata": {},
   "outputs": [
    {
     "data": {
      "text/plain": [
       "('TRZASKOWSKI Rafał Kazimierz', 4551)"
      ]
     },
     "execution_count": 68,
     "metadata": {},
     "output_type": "execute_result"
    }
   ],
   "source": [
    "kandydat_A, sum(df[kandydat_A +'_k_analiza_1']>k)"
   ]
  },
  {
   "cell_type": "code",
   "execution_count": 69,
   "id": "a19c01bb",
   "metadata": {},
   "outputs": [
    {
     "data": {
      "text/plain": [
       "('NAWROCKI Karol Tadeusz', 3750)"
      ]
     },
     "execution_count": 69,
     "metadata": {},
     "output_type": "execute_result"
    }
   ],
   "source": [
    "kandydat_B, sum(df[kandydat_B +'_k_analiza_1']>k)"
   ]
  },
  {
   "cell_type": "markdown",
   "id": "2defecdb",
   "metadata": {},
   "source": [
    "### Wynik:\n",
    "Dla k=2, takich grup, w których \"za duże\" poparcie ma Nawrocki jest 3750, a Trzaskowski 4551."
   ]
  },
  {
   "cell_type": "code",
   "execution_count": 128,
   "id": "4fbb3057",
   "metadata": {},
   "outputs": [],
   "source": [
    "# anomalia na korzyść\n",
    "df[kandydat_A + \"_anomalia_1\"] = df[kandydat_A +'_k_analiza_1']>2\n",
    "df[kandydat_B + \"_anomalia_1\"] = df[kandydat_B +'_k_analiza_1']>2"
   ]
  },
  {
   "cell_type": "markdown",
   "id": "77d9f2f0",
   "metadata": {},
   "source": [
    "## 2. Nadmierny względny wzrost poparcia dla Karola Nawrockiego między pierwszą a drugą turą, w porównaniu do odpowiedniego wzrostu poparcia dla Rafała Trzaskowskiego w tej samej grupie lokalnej;\n"
   ]
  },
  {
   "cell_type": "code",
   "execution_count": 129,
   "id": "feed7c7b",
   "metadata": {},
   "outputs": [],
   "source": [
    "# wzgledny wzrost między pierwszą a drugą turą\n",
    "df[kandydat_A+ '_wzrost'] = df[kandydat_A+'_2']/df[kandydat_A+'_1']\n",
    "df[kandydat_B+ '_wzrost'] = df[kandydat_B+'_2']/df[kandydat_B+'_1']"
   ]
  },
  {
   "cell_type": "code",
   "execution_count": 130,
   "id": "dcdfcf61",
   "metadata": {},
   "outputs": [],
   "source": [
    "# roznica wzglednego roz_wzru miedzy kandydatami\n",
    "df['roz_wzr_' + kandydat_A] =  df[kandydat_A + '_wzrost']  - df[kandydat_B + '_wzrost'] \n",
    "df['roz_wzr_' + kandydat_B] =  df[kandydat_B + '_wzrost']  - df[kandydat_A + '_wzrost'] "
   ]
  },
  {
   "cell_type": "code",
   "execution_count": 131,
   "id": "27934e06",
   "metadata": {},
   "outputs": [],
   "source": [
    "# mediana i mad różnicy względnego wzrostu poparcia\n",
    "\n",
    "df['roz_wzr_' + kandydat_A +'_mediana'] = df.groupby('group_id')['roz_wzr_' + kandydat_A].transform('median')\n",
    "df['roz_wzr_' + kandydat_A + '_MAD'] =    df.groupby('group_id')['roz_wzr_' + kandydat_A].transform(mad)"
   ]
  },
  {
   "cell_type": "code",
   "execution_count": 132,
   "id": "15689276",
   "metadata": {},
   "outputs": [],
   "source": [
    "df['roz_wzr_' + kandydat_B +'_mediana'] = df.groupby('group_id')['roz_wzr_' + kandydat_B].transform('median')\n",
    "df['roz_wzr_' + kandydat_B + '_MAD'] =    df.groupby('group_id')['roz_wzr_' + kandydat_B].transform(mad)"
   ]
  },
  {
   "cell_type": "code",
   "execution_count": 133,
   "id": "eb203e13",
   "metadata": {},
   "outputs": [],
   "source": [
    "df[kandydat_A +'_k_analiza_2'] = (df['roz_wzr_' + kandydat_A] - df['roz_wzr_' + kandydat_A +'_mediana'])/df['roz_wzr_' + kandydat_A + '_MAD']"
   ]
  },
  {
   "cell_type": "code",
   "execution_count": 134,
   "id": "c9ec1cbb",
   "metadata": {},
   "outputs": [],
   "source": [
    "df[kandydat_B +'_k_analiza_2'] = (df['roz_wzr_' + kandydat_B] - df['roz_wzr_' + kandydat_B +'_mediana'])/df['roz_wzr_' + kandydat_B + '_MAD']"
   ]
  },
  {
   "cell_type": "code",
   "execution_count": 135,
   "id": "58c9dbb7",
   "metadata": {},
   "outputs": [],
   "source": [
    "k = 3"
   ]
  },
  {
   "cell_type": "code",
   "execution_count": 136,
   "id": "8b79d7bc",
   "metadata": {},
   "outputs": [
    {
     "data": {
      "text/plain": [
       "('TRZASKOWSKI Rafał Kazimierz', 2106)"
      ]
     },
     "execution_count": 136,
     "metadata": {},
     "output_type": "execute_result"
    }
   ],
   "source": [
    "kandydat_A, sum(df[kandydat_A +'_k_analiza_2']>k)"
   ]
  },
  {
   "cell_type": "code",
   "execution_count": 137,
   "id": "b718a867",
   "metadata": {},
   "outputs": [
    {
     "data": {
      "text/plain": [
       "('NAWROCKI Karol Tadeusz', 1669)"
      ]
     },
     "execution_count": 137,
     "metadata": {},
     "output_type": "execute_result"
    }
   ],
   "source": [
    "kandydat_B, sum(df[kandydat_B +'_k_analiza_2']>k)"
   ]
  },
  {
   "cell_type": "code",
   "execution_count": 138,
   "id": "874c2513",
   "metadata": {},
   "outputs": [],
   "source": [
    "k = 2"
   ]
  },
  {
   "cell_type": "code",
   "execution_count": 139,
   "id": "da845e50",
   "metadata": {},
   "outputs": [
    {
     "data": {
      "text/plain": [
       "('TRZASKOWSKI Rafał Kazimierz', 3552)"
      ]
     },
     "execution_count": 139,
     "metadata": {},
     "output_type": "execute_result"
    }
   ],
   "source": [
    "kandydat_A, sum(df[kandydat_A +'_k_analiza_2']>k)"
   ]
  },
  {
   "cell_type": "code",
   "execution_count": 140,
   "id": "61255efc",
   "metadata": {},
   "outputs": [
    {
     "data": {
      "text/plain": [
       "('NAWROCKI Karol Tadeusz', 3127)"
      ]
     },
     "execution_count": 140,
     "metadata": {},
     "output_type": "execute_result"
    }
   ],
   "source": [
    "kandydat_B, sum(df[kandydat_B +'_k_analiza_2']>k)"
   ]
  },
  {
   "cell_type": "markdown",
   "id": "780c1e4b",
   "metadata": {},
   "source": [
    "\"Nadmierny\" względny wzrost poparcia dla Trzaskowskiego odnotowano w 3552 komisjach\n",
    "\"Nadmierny\" względny wzrost poparcia dla Nawrockiego odnotowano w 3127 komisjach"
   ]
  },
  {
   "cell_type": "code",
   "execution_count": 141,
   "id": "5ff25759",
   "metadata": {},
   "outputs": [],
   "source": [
    "# anomalia na korzyść kandydata\n",
    "df[kandydat_A + \"_anomalia_2\"] = df[kandydat_A +'_k_analiza_2']>3\n",
    "df[kandydat_B + \"_anomalia_2\"] = df[kandydat_B +'_k_analiza_2']>3"
   ]
  },
  {
   "cell_type": "markdown",
   "id": "8cfae1da",
   "metadata": {},
   "source": [
    "### 3 Komisje, w których Nawrocki uzyskał więcej głosów niż Trzaskowski w drugiej turze, mimo że mediana wyników w grupie wskazywała na przewagę Trzaskowskiego;"
   ]
  },
  {
   "cell_type": "code",
   "execution_count": 142,
   "id": "9f6e3dd7",
   "metadata": {},
   "outputs": [],
   "source": [
    "# wieksza mediana w grupie\n",
    "df['wieksza_mediana_' + kandydat_A] = (df[kandydat_A + '_mediana_2'] >  df[kandydat_B + '_mediana_2']).astype(bool)\n",
    "df['wieksza_mediana_' + kandydat_B] = (df[kandydat_B + '_mediana_2'] >  df[kandydat_A + '_mediana_2']).astype(bool)"
   ]
  },
  {
   "cell_type": "code",
   "execution_count": 143,
   "id": "101509c8",
   "metadata": {},
   "outputs": [],
   "source": [
    "df_wieksza_mediana_kandydat_A = df[df['wieksza_mediana_' + kandydat_A]]\n",
    "df_wieksza_mediana_kandydat_B = df[df['wieksza_mediana_' + kandydat_B]]"
   ]
  },
  {
   "cell_type": "code",
   "execution_count": 144,
   "id": "b1cf92b1",
   "metadata": {},
   "outputs": [
    {
     "data": {
      "text/plain": [
       "('TRZASKOWSKI Rafał Kazimierz', 1843)"
      ]
     },
     "execution_count": 144,
     "metadata": {},
     "output_type": "execute_result"
    }
   ],
   "source": [
    "kandydat_A, sum(df_wieksza_mediana_kandydat_A[kandydat_B+'_2']>df_wieksza_mediana_kandydat_A[kandydat_A+'_2'])"
   ]
  },
  {
   "cell_type": "code",
   "execution_count": 145,
   "id": "d6d90c97",
   "metadata": {},
   "outputs": [
    {
     "data": {
      "text/plain": [
       "('NAWROCKI Karol Tadeusz', 2608)"
      ]
     },
     "execution_count": 145,
     "metadata": {},
     "output_type": "execute_result"
    }
   ],
   "source": [
    "kandydat_B, sum(df_wieksza_mediana_kandydat_B[kandydat_A+'_2']>df_wieksza_mediana_kandydat_B[kandydat_B+'_2'])"
   ]
  },
  {
   "cell_type": "markdown",
   "id": "9debb3fe",
   "metadata": {},
   "source": [
    "W grupach, w których większą medianę miał Trzaskowski, 1843 razy wyższy wyniki uzyskał Nawrocki.\n",
    "\n",
    "W grupach, w których większą medianę miał Nawrocki, 2608 razy wyższy wynik uzyskał Trzaskowski."
   ]
  },
  {
   "cell_type": "code",
   "execution_count": 146,
   "id": "787cd9bc",
   "metadata": {},
   "outputs": [],
   "source": [
    "# anomalie na korzysc\n",
    "df[kandydat_A + '_anomalia_3'] = df['wieksza_mediana_' + kandydat_B] & (df[kandydat_A + '_2'] > df[kandydat_B + '_2']) \n",
    "df[kandydat_B + '_anomalia_3'] = df['wieksza_mediana_' + kandydat_A] & (df[kandydat_B + '_2'] > df[kandydat_A + '_2']) \n"
   ]
  },
  {
   "cell_type": "markdown",
   "id": "aeb85513",
   "metadata": {},
   "source": [
    "## 4. Kandydat otrzymał mniej głosów w drugiej turze niż w pierwszej"
   ]
  },
  {
   "cell_type": "code",
   "execution_count": 147,
   "id": "02f348ed",
   "metadata": {},
   "outputs": [
    {
     "data": {
      "text/plain": [
       "('TRZASKOWSKI Rafał Kazimierz', 128)"
      ]
     },
     "execution_count": 147,
     "metadata": {},
     "output_type": "execute_result"
    }
   ],
   "source": [
    "kandydat_A, sum(df[kandydat_A + '_2']<df[kandydat_A + '_1'])"
   ]
  },
  {
   "cell_type": "code",
   "execution_count": 148,
   "id": "68f220d5",
   "metadata": {},
   "outputs": [
    {
     "data": {
      "text/plain": [
       "('NAWROCKI Karol Tadeusz', 112)"
      ]
     },
     "execution_count": 148,
     "metadata": {},
     "output_type": "execute_result"
    }
   ],
   "source": [
    "kandydat_B, sum(df[kandydat_B + '_2']<df[kandydat_B + '_1'])"
   ]
  },
  {
   "cell_type": "markdown",
   "id": "04f410d5",
   "metadata": {},
   "source": [
    "W 128 komisjach Trzaskowski uzyskał mniej głosów w drugiej turze niż w pierwszej.\n",
    "\n",
    "W 112 komisjach Nawrocki uzyskał mniej głosó w drugiej turze niż w pierwszej."
   ]
  },
  {
   "cell_type": "code",
   "execution_count": 149,
   "id": "b1207f37",
   "metadata": {},
   "outputs": [],
   "source": [
    "# Anomalie na korzysc\n",
    "df[kandydat_A + '_anomalia_4'] = df[kandydat_B + '_2']<df[kandydat_B + '_1']\n",
    "df[kandydat_B + '_anomalia_4'] = df[kandydat_A + '_2']<df[kandydat_A + '_1']"
   ]
  },
  {
   "cell_type": "code",
   "execution_count": 150,
   "id": "e02625f8",
   "metadata": {},
   "outputs": [],
   "source": [
    "df[kandydat_A + '_razem_anomali_na_korzysc'] = df[[\n",
    "    kandydat_A + '_anomalia_1', \n",
    "    kandydat_A + '_anomalia_2',\n",
    "    kandydat_A + '_anomalia_3',\n",
    "    kandydat_A + '_anomalia_4']].sum(axis=1)"
   ]
  },
  {
   "cell_type": "code",
   "execution_count": 151,
   "id": "eeb4529c",
   "metadata": {},
   "outputs": [],
   "source": [
    "df[kandydat_B + '_razem_anomali_na_korzysc'] = df[[\n",
    "    kandydat_B + '_anomalia_1', \n",
    "    kandydat_B + '_anomalia_2',\n",
    "    kandydat_B + '_anomalia_3',\n",
    "    kandydat_B + '_anomalia_4']].sum(axis=1)"
   ]
  },
  {
   "cell_type": "code",
   "execution_count": 172,
   "id": "f5caf77c",
   "metadata": {},
   "outputs": [
    {
     "data": {
      "text/plain": [
       "('TRZASKOWSKI Rafał Kazimierz', 30553)"
      ]
     },
     "execution_count": 172,
     "metadata": {},
     "output_type": "execute_result"
    }
   ],
   "source": [
    "kandydat_A, sum(df[kandydat_A + '_razem_anomali_na_korzysc']>=0)"
   ]
  },
  {
   "cell_type": "code",
   "execution_count": 173,
   "id": "779b58f5",
   "metadata": {},
   "outputs": [
    {
     "data": {
      "text/plain": [
       "('TRZASKOWSKI Rafał Kazimierz', 8161)"
      ]
     },
     "execution_count": 173,
     "metadata": {},
     "output_type": "execute_result"
    }
   ],
   "source": [
    "kandydat_A, sum(df[kandydat_A + '_razem_anomali_na_korzysc']>=1)"
   ]
  },
  {
   "cell_type": "code",
   "execution_count": 174,
   "id": "54fccfdb",
   "metadata": {},
   "outputs": [
    {
     "data": {
      "text/plain": [
       "('TRZASKOWSKI Rafał Kazimierz', 1179)"
      ]
     },
     "execution_count": 174,
     "metadata": {},
     "output_type": "execute_result"
    }
   ],
   "source": [
    "kandydat_A, sum(df[kandydat_A + '_razem_anomali_na_korzysc']>=2)"
   ]
  },
  {
   "cell_type": "code",
   "execution_count": 175,
   "id": "e60007ef",
   "metadata": {},
   "outputs": [
    {
     "data": {
      "text/plain": [
       "('TRZASKOWSKI Rafał Kazimierz', 34)"
      ]
     },
     "execution_count": 175,
     "metadata": {},
     "output_type": "execute_result"
    }
   ],
   "source": [
    "kandydat_A, sum(df[kandydat_A + '_razem_anomali_na_korzysc']>=3)"
   ]
  },
  {
   "cell_type": "code",
   "execution_count": 176,
   "id": "0ac83d9b",
   "metadata": {},
   "outputs": [
    {
     "data": {
      "text/html": [
       "<div>\n",
       "<style scoped>\n",
       "    .dataframe tbody tr th:only-of-type {\n",
       "        vertical-align: middle;\n",
       "    }\n",
       "\n",
       "    .dataframe tbody tr th {\n",
       "        vertical-align: top;\n",
       "    }\n",
       "\n",
       "    .dataframe thead th {\n",
       "        text-align: right;\n",
       "    }\n",
       "</style>\n",
       "<table border=\"1\" class=\"dataframe\">\n",
       "  <thead>\n",
       "    <tr style=\"text-align: right;\">\n",
       "      <th></th>\n",
       "      <th>Teryt Gminy</th>\n",
       "      <th>Nr komisji</th>\n",
       "      <th>Gmina_1</th>\n",
       "      <th>TRZASKOWSKI Rafał Kazimierz_1</th>\n",
       "      <th>NAWROCKI Karol Tadeusz_1</th>\n",
       "      <th>Gmina_2</th>\n",
       "      <th>TRZASKOWSKI Rafał Kazimierz_2</th>\n",
       "      <th>NAWROCKI Karol Tadeusz_2</th>\n",
       "      <th>Gmina</th>\n",
       "      <th>TERYT gminy</th>\n",
       "      <th>Numer</th>\n",
       "      <th>Kod pocztowy</th>\n",
       "      <th>kod</th>\n",
       "      <th>group_id</th>\n",
       "      <th>liczba komisji w grupie</th>\n",
       "      <th>TRZASKOWSKI Rafał Kazimierz_mediana_2</th>\n",
       "      <th>NAWROCKI Karol Tadeusz_mediana_2</th>\n",
       "      <th>TRZASKOWSKI Rafał Kazimierz_MAD_2</th>\n",
       "      <th>NAWROCKI Karol Tadeusz_MAD_2</th>\n",
       "      <th>TRZASKOWSKI Rafał Kazimierz_k_analiza_1</th>\n",
       "      <th>NAWROCKI Karol Tadeusz_k_analiza_1</th>\n",
       "      <th>TRZASKOWSKI Rafał Kazimierz_anomalia_1</th>\n",
       "      <th>NAWROCKI Karol Tadeusz_anomalia_1</th>\n",
       "      <th>TRZASKOWSKI Rafał Kazimierz_wzrost</th>\n",
       "      <th>NAWROCKI Karol Tadeusz_wzrost</th>\n",
       "      <th>roz_wzr_TRZASKOWSKI Rafał Kazimierz</th>\n",
       "      <th>roz_wzr_NAWROCKI Karol Tadeusz</th>\n",
       "      <th>roz_wzr_TRZASKOWSKI Rafał Kazimierz_mediana</th>\n",
       "      <th>roz_wzr_TRZASKOWSKI Rafał Kazimierz_MAD</th>\n",
       "      <th>roz_wzr_NAWROCKI Karol Tadeusz_mediana</th>\n",
       "      <th>roz_wzr_NAWROCKI Karol Tadeusz_MAD</th>\n",
       "      <th>TRZASKOWSKI Rafał Kazimierz_k_analiza_2</th>\n",
       "      <th>NAWROCKI Karol Tadeusz_k_analiza_2</th>\n",
       "      <th>TRZASKOWSKI Rafał Kazimierz_anomalia_2</th>\n",
       "      <th>NAWROCKI Karol Tadeusz_anomalia_2</th>\n",
       "      <th>wieksza_mediana_TRZASKOWSKI Rafał Kazimierz</th>\n",
       "      <th>wieksza_mediana_NAWROCKI Karol Tadeusz</th>\n",
       "      <th>TRZASKOWSKI Rafał Kazimierz_anomalia_3</th>\n",
       "      <th>NAWROCKI Karol Tadeusz_anomalia_3</th>\n",
       "      <th>TRZASKOWSKI Rafał Kazimierz_anomalia_4</th>\n",
       "      <th>NAWROCKI Karol Tadeusz_anomalia_4</th>\n",
       "      <th>TRZASKOWSKI Rafał Kazimierz_razem_anomali_na_korzysc</th>\n",
       "      <th>NAWROCKI Karol Tadeusz_razem_anomali_na_korzysc</th>\n",
       "    </tr>\n",
       "  </thead>\n",
       "  <tbody>\n",
       "    <tr>\n",
       "      <th>5098</th>\n",
       "      <td>60903.0</td>\n",
       "      <td>4</td>\n",
       "      <td>gm. Bychawa</td>\n",
       "      <td>89.0</td>\n",
       "      <td>174.0</td>\n",
       "      <td>gm. Bychawa</td>\n",
       "      <td>260.0</td>\n",
       "      <td>163.0</td>\n",
       "      <td>gm. Bychawa</td>\n",
       "      <td>60903.0</td>\n",
       "      <td>4.0</td>\n",
       "      <td>23-100</td>\n",
       "      <td>23100.0</td>\n",
       "      <td>522.0</td>\n",
       "      <td>20.0</td>\n",
       "      <td>64.0</td>\n",
       "      <td>203.5</td>\n",
       "      <td>33.5</td>\n",
       "      <td>68.0</td>\n",
       "      <td>5.850746</td>\n",
       "      <td>-0.595588</td>\n",
       "      <td>True</td>\n",
       "      <td>False</td>\n",
       "      <td>2.921348</td>\n",
       "      <td>0.936782</td>\n",
       "      <td>1.984567</td>\n",
       "      <td>-1.984567</td>\n",
       "      <td>0.283991</td>\n",
       "      <td>0.291965</td>\n",
       "      <td>-0.283991</td>\n",
       "      <td>0.291965</td>\n",
       "      <td>5.824589</td>\n",
       "      <td>-5.824589</td>\n",
       "      <td>True</td>\n",
       "      <td>False</td>\n",
       "      <td>False</td>\n",
       "      <td>True</td>\n",
       "      <td>True</td>\n",
       "      <td>False</td>\n",
       "      <td>True</td>\n",
       "      <td>False</td>\n",
       "      <td>4</td>\n",
       "      <td>0</td>\n",
       "    </tr>\n",
       "    <tr>\n",
       "      <th>12616</th>\n",
       "      <td>140706.0</td>\n",
       "      <td>1</td>\n",
       "      <td>gm. Magnuszew</td>\n",
       "      <td>105.0</td>\n",
       "      <td>285.0</td>\n",
       "      <td>gm. Magnuszew</td>\n",
       "      <td>467.0</td>\n",
       "      <td>193.0</td>\n",
       "      <td>gm. Magnuszew</td>\n",
       "      <td>140706.0</td>\n",
       "      <td>1.0</td>\n",
       "      <td>26-910</td>\n",
       "      <td>26910.0</td>\n",
       "      <td>630.0</td>\n",
       "      <td>10.0</td>\n",
       "      <td>102.0</td>\n",
       "      <td>221.0</td>\n",
       "      <td>42.5</td>\n",
       "      <td>36.5</td>\n",
       "      <td>8.588235</td>\n",
       "      <td>-0.767123</td>\n",
       "      <td>True</td>\n",
       "      <td>False</td>\n",
       "      <td>4.447619</td>\n",
       "      <td>0.677193</td>\n",
       "      <td>3.770426</td>\n",
       "      <td>-3.770426</td>\n",
       "      <td>0.106758</td>\n",
       "      <td>0.364758</td>\n",
       "      <td>-0.106758</td>\n",
       "      <td>0.364758</td>\n",
       "      <td>10.044104</td>\n",
       "      <td>-10.044104</td>\n",
       "      <td>True</td>\n",
       "      <td>False</td>\n",
       "      <td>False</td>\n",
       "      <td>True</td>\n",
       "      <td>True</td>\n",
       "      <td>False</td>\n",
       "      <td>True</td>\n",
       "      <td>False</td>\n",
       "      <td>4</td>\n",
       "      <td>0</td>\n",
       "    </tr>\n",
       "    <tr>\n",
       "      <th>25866</th>\n",
       "      <td>261207.0</td>\n",
       "      <td>4</td>\n",
       "      <td>gm. Staszów</td>\n",
       "      <td>143.0</td>\n",
       "      <td>224.0</td>\n",
       "      <td>gm. Staszów</td>\n",
       "      <td>360.0</td>\n",
       "      <td>209.0</td>\n",
       "      <td>gm. Staszów</td>\n",
       "      <td>261207.0</td>\n",
       "      <td>4.0</td>\n",
       "      <td>28-200</td>\n",
       "      <td>28200.0</td>\n",
       "      <td>662.0</td>\n",
       "      <td>29.0</td>\n",
       "      <td>123.0</td>\n",
       "      <td>294.0</td>\n",
       "      <td>97.0</td>\n",
       "      <td>57.0</td>\n",
       "      <td>2.443299</td>\n",
       "      <td>-1.491228</td>\n",
       "      <td>True</td>\n",
       "      <td>False</td>\n",
       "      <td>2.517483</td>\n",
       "      <td>0.933036</td>\n",
       "      <td>1.584447</td>\n",
       "      <td>-1.584447</td>\n",
       "      <td>0.020685</td>\n",
       "      <td>0.200502</td>\n",
       "      <td>-0.020685</td>\n",
       "      <td>0.200502</td>\n",
       "      <td>7.799246</td>\n",
       "      <td>-7.799246</td>\n",
       "      <td>True</td>\n",
       "      <td>False</td>\n",
       "      <td>False</td>\n",
       "      <td>True</td>\n",
       "      <td>True</td>\n",
       "      <td>False</td>\n",
       "      <td>True</td>\n",
       "      <td>False</td>\n",
       "      <td>4</td>\n",
       "      <td>0</td>\n",
       "    </tr>\n",
       "  </tbody>\n",
       "</table>\n",
       "</div>"
      ],
      "text/plain": [
       "       Teryt Gminy  Nr komisji        Gmina_1  TRZASKOWSKI Rafał Kazimierz_1  \\\n",
       "5098       60903.0           4    gm. Bychawa                           89.0   \n",
       "12616     140706.0           1  gm. Magnuszew                          105.0   \n",
       "25866     261207.0           4    gm. Staszów                          143.0   \n",
       "\n",
       "       NAWROCKI Karol Tadeusz_1        Gmina_2  TRZASKOWSKI Rafał Kazimierz_2  \\\n",
       "5098                      174.0    gm. Bychawa                          260.0   \n",
       "12616                     285.0  gm. Magnuszew                          467.0   \n",
       "25866                     224.0    gm. Staszów                          360.0   \n",
       "\n",
       "       NAWROCKI Karol Tadeusz_2          Gmina  TERYT gminy  Numer  \\\n",
       "5098                      163.0    gm. Bychawa      60903.0    4.0   \n",
       "12616                     193.0  gm. Magnuszew     140706.0    1.0   \n",
       "25866                     209.0    gm. Staszów     261207.0    4.0   \n",
       "\n",
       "      Kod pocztowy      kod  group_id  liczba komisji w grupie  \\\n",
       "5098        23-100  23100.0     522.0                     20.0   \n",
       "12616       26-910  26910.0     630.0                     10.0   \n",
       "25866       28-200  28200.0     662.0                     29.0   \n",
       "\n",
       "       TRZASKOWSKI Rafał Kazimierz_mediana_2  \\\n",
       "5098                                    64.0   \n",
       "12616                                  102.0   \n",
       "25866                                  123.0   \n",
       "\n",
       "       NAWROCKI Karol Tadeusz_mediana_2  TRZASKOWSKI Rafał Kazimierz_MAD_2  \\\n",
       "5098                              203.5                               33.5   \n",
       "12616                             221.0                               42.5   \n",
       "25866                             294.0                               97.0   \n",
       "\n",
       "       NAWROCKI Karol Tadeusz_MAD_2  TRZASKOWSKI Rafał Kazimierz_k_analiza_1  \\\n",
       "5098                           68.0                                 5.850746   \n",
       "12616                          36.5                                 8.588235   \n",
       "25866                          57.0                                 2.443299   \n",
       "\n",
       "       NAWROCKI Karol Tadeusz_k_analiza_1  \\\n",
       "5098                            -0.595588   \n",
       "12616                           -0.767123   \n",
       "25866                           -1.491228   \n",
       "\n",
       "       TRZASKOWSKI Rafał Kazimierz_anomalia_1  \\\n",
       "5098                                     True   \n",
       "12616                                    True   \n",
       "25866                                    True   \n",
       "\n",
       "       NAWROCKI Karol Tadeusz_anomalia_1  TRZASKOWSKI Rafał Kazimierz_wzrost  \\\n",
       "5098                               False                            2.921348   \n",
       "12616                              False                            4.447619   \n",
       "25866                              False                            2.517483   \n",
       "\n",
       "       NAWROCKI Karol Tadeusz_wzrost  roz_wzr_TRZASKOWSKI Rafał Kazimierz  \\\n",
       "5098                        0.936782                             1.984567   \n",
       "12616                       0.677193                             3.770426   \n",
       "25866                       0.933036                             1.584447   \n",
       "\n",
       "       roz_wzr_NAWROCKI Karol Tadeusz  \\\n",
       "5098                        -1.984567   \n",
       "12616                       -3.770426   \n",
       "25866                       -1.584447   \n",
       "\n",
       "       roz_wzr_TRZASKOWSKI Rafał Kazimierz_mediana  \\\n",
       "5098                                      0.283991   \n",
       "12616                                     0.106758   \n",
       "25866                                     0.020685   \n",
       "\n",
       "       roz_wzr_TRZASKOWSKI Rafał Kazimierz_MAD  \\\n",
       "5098                                  0.291965   \n",
       "12616                                 0.364758   \n",
       "25866                                 0.200502   \n",
       "\n",
       "       roz_wzr_NAWROCKI Karol Tadeusz_mediana  \\\n",
       "5098                                -0.283991   \n",
       "12616                               -0.106758   \n",
       "25866                               -0.020685   \n",
       "\n",
       "       roz_wzr_NAWROCKI Karol Tadeusz_MAD  \\\n",
       "5098                             0.291965   \n",
       "12616                            0.364758   \n",
       "25866                            0.200502   \n",
       "\n",
       "       TRZASKOWSKI Rafał Kazimierz_k_analiza_2  \\\n",
       "5098                                  5.824589   \n",
       "12616                                10.044104   \n",
       "25866                                 7.799246   \n",
       "\n",
       "       NAWROCKI Karol Tadeusz_k_analiza_2  \\\n",
       "5098                            -5.824589   \n",
       "12616                          -10.044104   \n",
       "25866                           -7.799246   \n",
       "\n",
       "       TRZASKOWSKI Rafał Kazimierz_anomalia_2  \\\n",
       "5098                                     True   \n",
       "12616                                    True   \n",
       "25866                                    True   \n",
       "\n",
       "       NAWROCKI Karol Tadeusz_anomalia_2  \\\n",
       "5098                               False   \n",
       "12616                              False   \n",
       "25866                              False   \n",
       "\n",
       "       wieksza_mediana_TRZASKOWSKI Rafał Kazimierz  \\\n",
       "5098                                         False   \n",
       "12616                                        False   \n",
       "25866                                        False   \n",
       "\n",
       "       wieksza_mediana_NAWROCKI Karol Tadeusz  \\\n",
       "5098                                     True   \n",
       "12616                                    True   \n",
       "25866                                    True   \n",
       "\n",
       "       TRZASKOWSKI Rafał Kazimierz_anomalia_3  \\\n",
       "5098                                     True   \n",
       "12616                                    True   \n",
       "25866                                    True   \n",
       "\n",
       "       NAWROCKI Karol Tadeusz_anomalia_3  \\\n",
       "5098                               False   \n",
       "12616                              False   \n",
       "25866                              False   \n",
       "\n",
       "       TRZASKOWSKI Rafał Kazimierz_anomalia_4  \\\n",
       "5098                                     True   \n",
       "12616                                    True   \n",
       "25866                                    True   \n",
       "\n",
       "       NAWROCKI Karol Tadeusz_anomalia_4  \\\n",
       "5098                               False   \n",
       "12616                              False   \n",
       "25866                              False   \n",
       "\n",
       "       TRZASKOWSKI Rafał Kazimierz_razem_anomali_na_korzysc  \\\n",
       "5098                                                   4      \n",
       "12616                                                  4      \n",
       "25866                                                  4      \n",
       "\n",
       "       NAWROCKI Karol Tadeusz_razem_anomali_na_korzysc  \n",
       "5098                                                 0  \n",
       "12616                                                0  \n",
       "25866                                                0  "
      ]
     },
     "execution_count": 176,
     "metadata": {},
     "output_type": "execute_result"
    }
   ],
   "source": [
    "df[df[kandydat_A + '_razem_anomali_na_korzysc']>3]"
   ]
  },
  {
   "cell_type": "code",
   "execution_count": null,
   "id": "88ad3806",
   "metadata": {},
   "outputs": [],
   "source": []
  },
  {
   "cell_type": "code",
   "execution_count": 177,
   "id": "65a75ba5",
   "metadata": {},
   "outputs": [
    {
     "data": {
      "text/plain": [
       "('NAWROCKI Karol Tadeusz', 6871)"
      ]
     },
     "execution_count": 177,
     "metadata": {},
     "output_type": "execute_result"
    }
   ],
   "source": [
    "kandydat_B, sum(df[kandydat_B + '_razem_anomali_na_korzysc']>=1)"
   ]
  },
  {
   "cell_type": "code",
   "execution_count": 178,
   "id": "d2d9e7f5",
   "metadata": {},
   "outputs": [
    {
     "data": {
      "text/plain": [
       "('NAWROCKI Karol Tadeusz', 483)"
      ]
     },
     "execution_count": 178,
     "metadata": {},
     "output_type": "execute_result"
    }
   ],
   "source": [
    "kandydat_B, sum(df[kandydat_B + '_razem_anomali_na_korzysc']>=2)"
   ]
  },
  {
   "cell_type": "code",
   "execution_count": 179,
   "id": "971a7c58",
   "metadata": {},
   "outputs": [
    {
     "data": {
      "text/plain": [
       "('NAWROCKI Karol Tadeusz', 34)"
      ]
     },
     "execution_count": 179,
     "metadata": {},
     "output_type": "execute_result"
    }
   ],
   "source": [
    "kandydat_B, sum(df[kandydat_B + '_razem_anomali_na_korzysc']>=3)"
   ]
  },
  {
   "cell_type": "code",
   "execution_count": 180,
   "id": "cf6abac9",
   "metadata": {},
   "outputs": [
    {
     "data": {
      "text/plain": [
       "('NAWROCKI Karol Tadeusz', 2)"
      ]
     },
     "execution_count": 180,
     "metadata": {},
     "output_type": "execute_result"
    }
   ],
   "source": [
    "kandydat_B, sum(df[kandydat_B + '_razem_anomali_na_korzysc']>=4)"
   ]
  },
  {
   "cell_type": "code",
   "execution_count": 182,
   "id": "7eebc8da",
   "metadata": {},
   "outputs": [
    {
     "data": {
      "text/html": [
       "<div>\n",
       "<style scoped>\n",
       "    .dataframe tbody tr th:only-of-type {\n",
       "        vertical-align: middle;\n",
       "    }\n",
       "\n",
       "    .dataframe tbody tr th {\n",
       "        vertical-align: top;\n",
       "    }\n",
       "\n",
       "    .dataframe thead th {\n",
       "        text-align: right;\n",
       "    }\n",
       "</style>\n",
       "<table border=\"1\" class=\"dataframe\">\n",
       "  <thead>\n",
       "    <tr style=\"text-align: right;\">\n",
       "      <th></th>\n",
       "      <th>Teryt Gminy</th>\n",
       "      <th>Nr komisji</th>\n",
       "      <th>Gmina_1</th>\n",
       "      <th>TRZASKOWSKI Rafał Kazimierz_1</th>\n",
       "      <th>NAWROCKI Karol Tadeusz_1</th>\n",
       "      <th>Gmina_2</th>\n",
       "      <th>TRZASKOWSKI Rafał Kazimierz_2</th>\n",
       "      <th>NAWROCKI Karol Tadeusz_2</th>\n",
       "      <th>Gmina</th>\n",
       "      <th>TERYT gminy</th>\n",
       "      <th>Numer</th>\n",
       "      <th>Kod pocztowy</th>\n",
       "      <th>kod</th>\n",
       "      <th>group_id</th>\n",
       "      <th>liczba komisji w grupie</th>\n",
       "      <th>TRZASKOWSKI Rafał Kazimierz_mediana_2</th>\n",
       "      <th>NAWROCKI Karol Tadeusz_mediana_2</th>\n",
       "      <th>TRZASKOWSKI Rafał Kazimierz_MAD_2</th>\n",
       "      <th>NAWROCKI Karol Tadeusz_MAD_2</th>\n",
       "      <th>TRZASKOWSKI Rafał Kazimierz_k_analiza_1</th>\n",
       "      <th>NAWROCKI Karol Tadeusz_k_analiza_1</th>\n",
       "      <th>TRZASKOWSKI Rafał Kazimierz_anomalia_1</th>\n",
       "      <th>NAWROCKI Karol Tadeusz_anomalia_1</th>\n",
       "      <th>TRZASKOWSKI Rafał Kazimierz_wzrost</th>\n",
       "      <th>NAWROCKI Karol Tadeusz_wzrost</th>\n",
       "      <th>roz_wzr_TRZASKOWSKI Rafał Kazimierz</th>\n",
       "      <th>roz_wzr_NAWROCKI Karol Tadeusz</th>\n",
       "      <th>roz_wzr_TRZASKOWSKI Rafał Kazimierz_mediana</th>\n",
       "      <th>roz_wzr_TRZASKOWSKI Rafał Kazimierz_MAD</th>\n",
       "      <th>roz_wzr_NAWROCKI Karol Tadeusz_mediana</th>\n",
       "      <th>roz_wzr_NAWROCKI Karol Tadeusz_MAD</th>\n",
       "      <th>TRZASKOWSKI Rafał Kazimierz_k_analiza_2</th>\n",
       "      <th>NAWROCKI Karol Tadeusz_k_analiza_2</th>\n",
       "      <th>TRZASKOWSKI Rafał Kazimierz_anomalia_2</th>\n",
       "      <th>NAWROCKI Karol Tadeusz_anomalia_2</th>\n",
       "      <th>wieksza_mediana_TRZASKOWSKI Rafał Kazimierz</th>\n",
       "      <th>wieksza_mediana_NAWROCKI Karol Tadeusz</th>\n",
       "      <th>TRZASKOWSKI Rafał Kazimierz_anomalia_3</th>\n",
       "      <th>NAWROCKI Karol Tadeusz_anomalia_3</th>\n",
       "      <th>TRZASKOWSKI Rafał Kazimierz_anomalia_4</th>\n",
       "      <th>NAWROCKI Karol Tadeusz_anomalia_4</th>\n",
       "      <th>TRZASKOWSKI Rafał Kazimierz_razem_anomali_na_korzysc</th>\n",
       "      <th>NAWROCKI Karol Tadeusz_razem_anomali_na_korzysc</th>\n",
       "    </tr>\n",
       "  </thead>\n",
       "  <tbody>\n",
       "    <tr>\n",
       "      <th>11610</th>\n",
       "      <td>126101.0</td>\n",
       "      <td>95</td>\n",
       "      <td>m. Kraków</td>\n",
       "      <td>550.0</td>\n",
       "      <td>218.0</td>\n",
       "      <td>m. Kraków</td>\n",
       "      <td>540.0</td>\n",
       "      <td>1132.0</td>\n",
       "      <td>m. Kraków</td>\n",
       "      <td>126101.0</td>\n",
       "      <td>95.0</td>\n",
       "      <td>31-346</td>\n",
       "      <td>31346.0</td>\n",
       "      <td>691.0</td>\n",
       "      <td>14.0</td>\n",
       "      <td>814.5</td>\n",
       "      <td>424.5</td>\n",
       "      <td>174.0</td>\n",
       "      <td>46.0</td>\n",
       "      <td>-1.577586</td>\n",
       "      <td>15.380435</td>\n",
       "      <td>False</td>\n",
       "      <td>True</td>\n",
       "      <td>0.981818</td>\n",
       "      <td>5.192661</td>\n",
       "      <td>-4.210842</td>\n",
       "      <td>4.210842</td>\n",
       "      <td>-0.059256</td>\n",
       "      <td>0.158571</td>\n",
       "      <td>0.059256</td>\n",
       "      <td>0.158571</td>\n",
       "      <td>-26.181205</td>\n",
       "      <td>26.181205</td>\n",
       "      <td>False</td>\n",
       "      <td>True</td>\n",
       "      <td>True</td>\n",
       "      <td>False</td>\n",
       "      <td>False</td>\n",
       "      <td>True</td>\n",
       "      <td>False</td>\n",
       "      <td>True</td>\n",
       "      <td>0</td>\n",
       "      <td>4</td>\n",
       "    </tr>\n",
       "    <tr>\n",
       "      <th>17032</th>\n",
       "      <td>161105.0</td>\n",
       "      <td>9</td>\n",
       "      <td>gm. Strzelce Opolskie</td>\n",
       "      <td>311.0</td>\n",
       "      <td>107.0</td>\n",
       "      <td>gm. Strzelce Opolskie</td>\n",
       "      <td>223.0</td>\n",
       "      <td>416.0</td>\n",
       "      <td>gm. Strzelce Opolskie</td>\n",
       "      <td>161105.0</td>\n",
       "      <td>9.0</td>\n",
       "      <td>47-100</td>\n",
       "      <td>47100.0</td>\n",
       "      <td>1408.0</td>\n",
       "      <td>34.0</td>\n",
       "      <td>230.5</td>\n",
       "      <td>174.5</td>\n",
       "      <td>101.0</td>\n",
       "      <td>60.0</td>\n",
       "      <td>-0.074257</td>\n",
       "      <td>4.025000</td>\n",
       "      <td>False</td>\n",
       "      <td>True</td>\n",
       "      <td>0.717042</td>\n",
       "      <td>3.887850</td>\n",
       "      <td>-3.170809</td>\n",
       "      <td>3.170809</td>\n",
       "      <td>-0.656285</td>\n",
       "      <td>0.240919</td>\n",
       "      <td>0.656285</td>\n",
       "      <td>0.240919</td>\n",
       "      <td>-10.437204</td>\n",
       "      <td>10.437204</td>\n",
       "      <td>False</td>\n",
       "      <td>True</td>\n",
       "      <td>True</td>\n",
       "      <td>False</td>\n",
       "      <td>False</td>\n",
       "      <td>True</td>\n",
       "      <td>False</td>\n",
       "      <td>True</td>\n",
       "      <td>0</td>\n",
       "      <td>4</td>\n",
       "    </tr>\n",
       "  </tbody>\n",
       "</table>\n",
       "</div>"
      ],
      "text/plain": [
       "       Teryt Gminy  Nr komisji                Gmina_1  \\\n",
       "11610     126101.0          95              m. Kraków   \n",
       "17032     161105.0           9  gm. Strzelce Opolskie   \n",
       "\n",
       "       TRZASKOWSKI Rafał Kazimierz_1  NAWROCKI Karol Tadeusz_1  \\\n",
       "11610                          550.0                     218.0   \n",
       "17032                          311.0                     107.0   \n",
       "\n",
       "                     Gmina_2  TRZASKOWSKI Rafał Kazimierz_2  \\\n",
       "11610              m. Kraków                          540.0   \n",
       "17032  gm. Strzelce Opolskie                          223.0   \n",
       "\n",
       "       NAWROCKI Karol Tadeusz_2                  Gmina  TERYT gminy  Numer  \\\n",
       "11610                    1132.0              m. Kraków     126101.0   95.0   \n",
       "17032                     416.0  gm. Strzelce Opolskie     161105.0    9.0   \n",
       "\n",
       "      Kod pocztowy      kod  group_id  liczba komisji w grupie  \\\n",
       "11610       31-346  31346.0     691.0                     14.0   \n",
       "17032       47-100  47100.0    1408.0                     34.0   \n",
       "\n",
       "       TRZASKOWSKI Rafał Kazimierz_mediana_2  \\\n",
       "11610                                  814.5   \n",
       "17032                                  230.5   \n",
       "\n",
       "       NAWROCKI Karol Tadeusz_mediana_2  TRZASKOWSKI Rafał Kazimierz_MAD_2  \\\n",
       "11610                             424.5                              174.0   \n",
       "17032                             174.5                              101.0   \n",
       "\n",
       "       NAWROCKI Karol Tadeusz_MAD_2  TRZASKOWSKI Rafał Kazimierz_k_analiza_1  \\\n",
       "11610                          46.0                                -1.577586   \n",
       "17032                          60.0                                -0.074257   \n",
       "\n",
       "       NAWROCKI Karol Tadeusz_k_analiza_1  \\\n",
       "11610                           15.380435   \n",
       "17032                            4.025000   \n",
       "\n",
       "       TRZASKOWSKI Rafał Kazimierz_anomalia_1  \\\n",
       "11610                                   False   \n",
       "17032                                   False   \n",
       "\n",
       "       NAWROCKI Karol Tadeusz_anomalia_1  TRZASKOWSKI Rafał Kazimierz_wzrost  \\\n",
       "11610                               True                            0.981818   \n",
       "17032                               True                            0.717042   \n",
       "\n",
       "       NAWROCKI Karol Tadeusz_wzrost  roz_wzr_TRZASKOWSKI Rafał Kazimierz  \\\n",
       "11610                       5.192661                            -4.210842   \n",
       "17032                       3.887850                            -3.170809   \n",
       "\n",
       "       roz_wzr_NAWROCKI Karol Tadeusz  \\\n",
       "11610                        4.210842   \n",
       "17032                        3.170809   \n",
       "\n",
       "       roz_wzr_TRZASKOWSKI Rafał Kazimierz_mediana  \\\n",
       "11610                                    -0.059256   \n",
       "17032                                    -0.656285   \n",
       "\n",
       "       roz_wzr_TRZASKOWSKI Rafał Kazimierz_MAD  \\\n",
       "11610                                 0.158571   \n",
       "17032                                 0.240919   \n",
       "\n",
       "       roz_wzr_NAWROCKI Karol Tadeusz_mediana  \\\n",
       "11610                                0.059256   \n",
       "17032                                0.656285   \n",
       "\n",
       "       roz_wzr_NAWROCKI Karol Tadeusz_MAD  \\\n",
       "11610                            0.158571   \n",
       "17032                            0.240919   \n",
       "\n",
       "       TRZASKOWSKI Rafał Kazimierz_k_analiza_2  \\\n",
       "11610                               -26.181205   \n",
       "17032                               -10.437204   \n",
       "\n",
       "       NAWROCKI Karol Tadeusz_k_analiza_2  \\\n",
       "11610                           26.181205   \n",
       "17032                           10.437204   \n",
       "\n",
       "       TRZASKOWSKI Rafał Kazimierz_anomalia_2  \\\n",
       "11610                                   False   \n",
       "17032                                   False   \n",
       "\n",
       "       NAWROCKI Karol Tadeusz_anomalia_2  \\\n",
       "11610                               True   \n",
       "17032                               True   \n",
       "\n",
       "       wieksza_mediana_TRZASKOWSKI Rafał Kazimierz  \\\n",
       "11610                                         True   \n",
       "17032                                         True   \n",
       "\n",
       "       wieksza_mediana_NAWROCKI Karol Tadeusz  \\\n",
       "11610                                   False   \n",
       "17032                                   False   \n",
       "\n",
       "       TRZASKOWSKI Rafał Kazimierz_anomalia_3  \\\n",
       "11610                                   False   \n",
       "17032                                   False   \n",
       "\n",
       "       NAWROCKI Karol Tadeusz_anomalia_3  \\\n",
       "11610                               True   \n",
       "17032                               True   \n",
       "\n",
       "       TRZASKOWSKI Rafał Kazimierz_anomalia_4  \\\n",
       "11610                                   False   \n",
       "17032                                   False   \n",
       "\n",
       "       NAWROCKI Karol Tadeusz_anomalia_4  \\\n",
       "11610                               True   \n",
       "17032                               True   \n",
       "\n",
       "       TRZASKOWSKI Rafał Kazimierz_razem_anomali_na_korzysc  \\\n",
       "11610                                                  0      \n",
       "17032                                                  0      \n",
       "\n",
       "       NAWROCKI Karol Tadeusz_razem_anomali_na_korzysc  \n",
       "11610                                                4  \n",
       "17032                                                4  "
      ]
     },
     "execution_count": 182,
     "metadata": {},
     "output_type": "execute_result"
    }
   ],
   "source": [
    "df[df[kandydat_B + '_razem_anomali_na_korzysc']>3]"
   ]
  },
  {
   "cell_type": "code",
   "execution_count": null,
   "id": "b456cf77",
   "metadata": {},
   "outputs": [],
   "source": []
  },
  {
   "cell_type": "code",
   "execution_count": null,
   "id": "cfa1a7c2",
   "metadata": {},
   "outputs": [],
   "source": []
  }
 ],
 "metadata": {
  "kernelspec": {
   "display_name": "p39all",
   "language": "python",
   "name": "p39all"
  },
  "language_info": {
   "codemirror_mode": {
    "name": "ipython",
    "version": 3
   },
   "file_extension": ".py",
   "mimetype": "text/x-python",
   "name": "python",
   "nbconvert_exporter": "python",
   "pygments_lexer": "ipython3",
   "version": "3.9.7"
  }
 },
 "nbformat": 4,
 "nbformat_minor": 5
}
